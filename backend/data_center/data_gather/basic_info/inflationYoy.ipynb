{
 "cells": [
  {
   "cell_type": "code",
   "execution_count": 1,
   "metadata": {
    "collapsed": true
   },
   "outputs": [
    {
     "data": {
      "text/plain": "            CPIAUCNS  Inflation Rate YoY\nDATE                                    \n1961-01-01    29.800            1.706485\n1961-02-01    29.800            1.360544\n1961-03-01    29.800            1.360544\n1961-04-01    29.800            1.016949\n1961-05-01    29.800            1.016949\n...              ...                 ...\n2023-08-01   307.026            3.665112\n2023-09-01   307.789            3.699698\n2023-10-01   307.671            3.241145\n2023-11-01   307.051            3.137271\n2023-12-01   306.746            3.352123\n\n[756 rows x 2 columns]",
      "text/html": "<div>\n<style scoped>\n    .dataframe tbody tr th:only-of-type {\n        vertical-align: middle;\n    }\n\n    .dataframe tbody tr th {\n        vertical-align: top;\n    }\n\n    .dataframe thead th {\n        text-align: right;\n    }\n</style>\n<table border=\"1\" class=\"dataframe\">\n  <thead>\n    <tr style=\"text-align: right;\">\n      <th></th>\n      <th>CPIAUCNS</th>\n      <th>Inflation Rate YoY</th>\n    </tr>\n    <tr>\n      <th>DATE</th>\n      <th></th>\n      <th></th>\n    </tr>\n  </thead>\n  <tbody>\n    <tr>\n      <th>1961-01-01</th>\n      <td>29.800</td>\n      <td>1.706485</td>\n    </tr>\n    <tr>\n      <th>1961-02-01</th>\n      <td>29.800</td>\n      <td>1.360544</td>\n    </tr>\n    <tr>\n      <th>1961-03-01</th>\n      <td>29.800</td>\n      <td>1.360544</td>\n    </tr>\n    <tr>\n      <th>1961-04-01</th>\n      <td>29.800</td>\n      <td>1.016949</td>\n    </tr>\n    <tr>\n      <th>1961-05-01</th>\n      <td>29.800</td>\n      <td>1.016949</td>\n    </tr>\n    <tr>\n      <th>...</th>\n      <td>...</td>\n      <td>...</td>\n    </tr>\n    <tr>\n      <th>2023-08-01</th>\n      <td>307.026</td>\n      <td>3.665112</td>\n    </tr>\n    <tr>\n      <th>2023-09-01</th>\n      <td>307.789</td>\n      <td>3.699698</td>\n    </tr>\n    <tr>\n      <th>2023-10-01</th>\n      <td>307.671</td>\n      <td>3.241145</td>\n    </tr>\n    <tr>\n      <th>2023-11-01</th>\n      <td>307.051</td>\n      <td>3.137271</td>\n    </tr>\n    <tr>\n      <th>2023-12-01</th>\n      <td>306.746</td>\n      <td>3.352123</td>\n    </tr>\n  </tbody>\n</table>\n<p>756 rows × 2 columns</p>\n</div>"
     },
     "execution_count": 1,
     "metadata": {},
     "output_type": "execute_result"
    }
   ],
   "source": [
    "import pandas_datareader as web\n",
    "import datetime as dt\n",
    "\n",
    "START = dt.datetime(1960, 1, 1)\n",
    "END = dt.datetime(2024, 8, 1)\n",
    "\n",
    "# Function to get US inflation data YoY\n",
    "def get_us_inflation_data_yoy():\n",
    "    # Fetch CPI data from FRED\n",
    "    cpi_data = web.DataReader(\"CPIAUCNS\", \"fred\", START, END)\n",
    "\n",
    "    # Calculate YoY inflation rate\n",
    "    cpi_data['Inflation Rate YoY'] = cpi_data['CPIAUCNS'].pct_change(12) * 100\n",
    "\n",
    "    # Drop NaN values\n",
    "    cpi_data = cpi_data.dropna()\n",
    "\n",
    "    return cpi_data\n",
    "\n",
    "# Get US inflation data YoY\n",
    "cpi_yoy = get_us_inflation_data_yoy()\n",
    "\n",
    "# Display the DataFrame\n",
    "cpi_yoy\n"
   ]
  },
  {
   "cell_type": "code",
   "execution_count": null,
   "outputs": [],
   "source": [],
   "metadata": {
    "collapsed": false
   }
  }
 ],
 "metadata": {
  "kernelspec": {
   "display_name": "Python 3",
   "language": "python",
   "name": "python3"
  },
  "language_info": {
   "codemirror_mode": {
    "name": "ipython",
    "version": 2
   },
   "file_extension": ".py",
   "mimetype": "text/x-python",
   "name": "python",
   "nbconvert_exporter": "python",
   "pygments_lexer": "ipython2",
   "version": "2.7.6"
  }
 },
 "nbformat": 4,
 "nbformat_minor": 0
}
