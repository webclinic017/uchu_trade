{
 "cells": [
  {
   "cell_type": "code",
   "execution_count": 1,
   "metadata": {
    "collapsed": true
   },
   "outputs": [
    {
     "name": "stderr",
     "output_type": "stream",
     "text": [
      "/Users/rain/PycharmProjects/okx-trading/venv/lib/python3.9/site-packages/urllib3/__init__.py:34: NotOpenSSLWarning: urllib3 v2.0 only supports OpenSSL 1.1.1+, currently the 'ssl' module is compiled with 'LibreSSL 2.8.3'. See: https://github.com/urllib3/urllib3/issues/3020\n",
      "  warnings.warn(\n"
     ]
    }
   ],
   "source": [
    "import g4f"
   ]
  },
  {
   "cell_type": "code",
   "execution_count": 2,
   "outputs": [
    {
     "name": "stdout",
     "output_type": "stream",
     "text": [
      "0.1.9.0\n",
      "g4f.Provider.Ails supports: (\n",
      "    model, \n",
      "    messages: Messages, \n",
      "    stream: bool, \n",
      "    proxy: str = None\n",
      ")\n",
      "Using RetryProvider provider\n",
      "Using GptForLove provider\n",
      "GptForLove: ClientConnectorError: Cannot connect to host api.gptplus.one:443 ssl:default [Connection reset by peer]\n",
      "Using ChatBase provider\n",
      "ChatBase: ClientResponseError: 502, message='Bad Gateway', url=URL('https://www.chatbase.co/api/fe/chat')\n",
      "Using You provider\n",
      "You: RequestsError: Failed to perform, ErrCode: 35, Reason: 'BoringSSL SSL_connect: Connection reset by peer in connection to you.com:443 '. This may be a libcurl error, See https://curl.se/libcurl/c/libcurl-errors.html first for more details.\n",
      "Using ChatgptX provider\n",
      "ChatgptX: ClientConnectorError: Cannot connect to host chatgptx.de:443 ssl:default [Connection reset by peer]\n",
      "Using GptGo provider\n",
      "GptGo: ClientResponseError: 403, message='Forbidden', url=URL('https://gptgo.ai/get_token.php')\n",
      "Using ChatAnywhere provider\n",
      "ChatAnywhere: ClientConnectorError: Cannot connect to host chatanywhere.cn:443 ssl:default [Connection reset by peer]\n"
     ]
    },
    {
     "ename": "RuntimeError",
     "evalue": "RetryProvider failed:\nGptForLove: ClientConnectorError: Cannot connect to host api.gptplus.one:443 ssl:default [Connection reset by peer]\nChatBase: ClientResponseError: 502, message='Bad Gateway', url=URL('https://www.chatbase.co/api/fe/chat')\nYou: RequestsError: Failed to perform, ErrCode: 35, Reason: 'BoringSSL SSL_connect: Connection reset by peer in connection to you.com:443 '. This may be a libcurl error, See https://curl.se/libcurl/c/libcurl-errors.html first for more details.\nChatgptX: ClientConnectorError: Cannot connect to host chatgptx.de:443 ssl:default [Connection reset by peer]\nGptGo: ClientResponseError: 403, message='Forbidden', url=URL('https://gptgo.ai/get_token.php')\nChatAnywhere: ClientConnectorError: Cannot connect to host chatanywhere.cn:443 ssl:default [Connection reset by peer]",
     "output_type": "error",
     "traceback": [
      "\u001B[0;31m---------------------------------------------------------------------------\u001B[0m",
      "\u001B[0;31mRuntimeError\u001B[0m                              Traceback (most recent call last)",
      "Cell \u001B[0;32mIn[2], line 17\u001B[0m\n\u001B[1;32m      8\u001B[0m \u001B[38;5;66;03m# Automatic selection of provider\u001B[39;00m\n\u001B[1;32m      9\u001B[0m \n\u001B[1;32m     10\u001B[0m \u001B[38;5;66;03m# Streamed completion\u001B[39;00m\n\u001B[1;32m     11\u001B[0m response \u001B[38;5;241m=\u001B[39m g4f\u001B[38;5;241m.\u001B[39mChatCompletion\u001B[38;5;241m.\u001B[39mcreate(\n\u001B[1;32m     12\u001B[0m     model\u001B[38;5;241m=\u001B[39m\u001B[38;5;124m\"\u001B[39m\u001B[38;5;124mgpt-3.5-turbo\u001B[39m\u001B[38;5;124m\"\u001B[39m,\n\u001B[1;32m     13\u001B[0m     messages\u001B[38;5;241m=\u001B[39m[{\u001B[38;5;124m\"\u001B[39m\u001B[38;5;124mrole\u001B[39m\u001B[38;5;124m\"\u001B[39m: \u001B[38;5;124m\"\u001B[39m\u001B[38;5;124muser\u001B[39m\u001B[38;5;124m\"\u001B[39m, \u001B[38;5;124m\"\u001B[39m\u001B[38;5;124mcontent\u001B[39m\u001B[38;5;124m\"\u001B[39m: \u001B[38;5;124m\"\u001B[39m\u001B[38;5;124mHello\u001B[39m\u001B[38;5;124m\"\u001B[39m}],\n\u001B[1;32m     14\u001B[0m     stream\u001B[38;5;241m=\u001B[39m\u001B[38;5;28;01mTrue\u001B[39;00m,\n\u001B[1;32m     15\u001B[0m )\n\u001B[0;32m---> 17\u001B[0m \u001B[38;5;28;01mfor\u001B[39;00m message \u001B[38;5;129;01min\u001B[39;00m response:\n\u001B[1;32m     18\u001B[0m     \u001B[38;5;28mprint\u001B[39m(message, flush\u001B[38;5;241m=\u001B[39m\u001B[38;5;28;01mTrue\u001B[39;00m, end\u001B[38;5;241m=\u001B[39m\u001B[38;5;124m'\u001B[39m\u001B[38;5;124m'\u001B[39m)\n\u001B[1;32m     20\u001B[0m \u001B[38;5;66;03m# Normal response\u001B[39;00m\n",
      "File \u001B[0;32m~/PycharmProjects/okx-trading/venv/lib/python3.9/site-packages/g4f/Provider/retry_provider.py:59\u001B[0m, in \u001B[0;36mRetryProvider.create_completion\u001B[0;34m(self, model, messages, stream, **kwargs)\u001B[0m\n\u001B[1;32m     56\u001B[0m         \u001B[38;5;28;01mif\u001B[39;00m started:\n\u001B[1;32m     57\u001B[0m             \u001B[38;5;28;01mraise\u001B[39;00m e\n\u001B[0;32m---> 59\u001B[0m \u001B[38;5;28;43mself\u001B[39;49m\u001B[38;5;241;43m.\u001B[39;49m\u001B[43mraise_exceptions\u001B[49m\u001B[43m(\u001B[49m\u001B[43m)\u001B[49m\n",
      "File \u001B[0;32m~/PycharmProjects/okx-trading/venv/lib/python3.9/site-packages/g4f/Provider/retry_provider.py:87\u001B[0m, in \u001B[0;36mRetryProvider.raise_exceptions\u001B[0;34m(self)\u001B[0m\n\u001B[1;32m     85\u001B[0m \u001B[38;5;28;01mdef\u001B[39;00m \u001B[38;5;21mraise_exceptions\u001B[39m(\u001B[38;5;28mself\u001B[39m) \u001B[38;5;241m-\u001B[39m\u001B[38;5;241m>\u001B[39m \u001B[38;5;28;01mNone\u001B[39;00m:\n\u001B[1;32m     86\u001B[0m     \u001B[38;5;28;01mif\u001B[39;00m \u001B[38;5;28mself\u001B[39m\u001B[38;5;241m.\u001B[39mexceptions:\n\u001B[0;32m---> 87\u001B[0m         \u001B[38;5;28;01mraise\u001B[39;00m \u001B[38;5;167;01mRuntimeError\u001B[39;00m(\u001B[38;5;124m\"\u001B[39m\u001B[38;5;130;01m\\n\u001B[39;00m\u001B[38;5;124m\"\u001B[39m\u001B[38;5;241m.\u001B[39mjoin([\u001B[38;5;124m\"\u001B[39m\u001B[38;5;124mRetryProvider failed:\u001B[39m\u001B[38;5;124m\"\u001B[39m] \u001B[38;5;241m+\u001B[39m [\n\u001B[1;32m     88\u001B[0m             \u001B[38;5;124mf\u001B[39m\u001B[38;5;124m\"\u001B[39m\u001B[38;5;132;01m{\u001B[39;00mp\u001B[38;5;132;01m}\u001B[39;00m\u001B[38;5;124m: \u001B[39m\u001B[38;5;132;01m{\u001B[39;00m\u001B[38;5;28mself\u001B[39m\u001B[38;5;241m.\u001B[39mexceptions[p]\u001B[38;5;241m.\u001B[39m\u001B[38;5;18m__class__\u001B[39m\u001B[38;5;241m.\u001B[39m\u001B[38;5;18m__name__\u001B[39m\u001B[38;5;132;01m}\u001B[39;00m\u001B[38;5;124m: \u001B[39m\u001B[38;5;132;01m{\u001B[39;00m\u001B[38;5;28mself\u001B[39m\u001B[38;5;241m.\u001B[39mexceptions[p]\u001B[38;5;132;01m}\u001B[39;00m\u001B[38;5;124m\"\u001B[39m \u001B[38;5;28;01mfor\u001B[39;00m p \u001B[38;5;129;01min\u001B[39;00m \u001B[38;5;28mself\u001B[39m\u001B[38;5;241m.\u001B[39mexceptions\n\u001B[1;32m     89\u001B[0m         ]))\n\u001B[1;32m     91\u001B[0m     \u001B[38;5;28;01mraise\u001B[39;00m \u001B[38;5;167;01mRuntimeError\u001B[39;00m(\u001B[38;5;124m\"\u001B[39m\u001B[38;5;124mRetryProvider: No provider found\u001B[39m\u001B[38;5;124m\"\u001B[39m)\n",
      "\u001B[0;31mRuntimeError\u001B[0m: RetryProvider failed:\nGptForLove: ClientConnectorError: Cannot connect to host api.gptplus.one:443 ssl:default [Connection reset by peer]\nChatBase: ClientResponseError: 502, message='Bad Gateway', url=URL('https://www.chatbase.co/api/fe/chat')\nYou: RequestsError: Failed to perform, ErrCode: 35, Reason: 'BoringSSL SSL_connect: Connection reset by peer in connection to you.com:443 '. This may be a libcurl error, See https://curl.se/libcurl/c/libcurl-errors.html first for more details.\nChatgptX: ClientConnectorError: Cannot connect to host chatgptx.de:443 ssl:default [Connection reset by peer]\nGptGo: ClientResponseError: 403, message='Forbidden', url=URL('https://gptgo.ai/get_token.php')\nChatAnywhere: ClientConnectorError: Cannot connect to host chatanywhere.cn:443 ssl:default [Connection reset by peer]"
     ]
    }
   ],
   "source": [
    "import g4f\n",
    "\n",
    "g4f.debug.logging = True  # Enable logging\n",
    "g4f.check_version = False  # Disable automatic version checking\n",
    "print(g4f.version)  # Check version\n",
    "print(g4f.Provider.Ails.params)  # Supported args\n",
    "\n",
    "# Automatic selection of provider\n",
    "\n",
    "# Streamed completion\n",
    "response = g4f.ChatCompletion.create(\n",
    "    model=\"gpt-3.5-turbo\",\n",
    "    messages=[{\"role\": \"user\", \"content\": \"Hello\"}],\n",
    "    stream=True,\n",
    ")\n",
    "\n",
    "for message in response:\n",
    "    print(message, flush=True, end='')\n",
    "\n",
    "# Normal response\n",
    "response = g4f.ChatCompletion.create(\n",
    "    model=g4f.models.gpt_4,\n",
    "    messages=[{\"role\": \"user\", \"content\": \"Hello\",\"prompt\":\"say hello to me\"}],\n",
    ")  # Alternative model setting\n",
    "\n",
    "response"
   ],
   "metadata": {
    "collapsed": false
   }
  },
  {
   "cell_type": "code",
   "execution_count": 3,
   "outputs": [
    {
     "name": "stdout",
     "output_type": "stream",
     "text": [
      "0.1.9.0\n",
      "g4f.Provider.Ails supports: (\n",
      "    model, \n",
      "    messages: Messages, \n",
      "    stream: bool, \n",
      "    proxy: str = None\n",
      ")\n"
     ]
    }
   ],
   "source": [
    "import g4f\n",
    "\n",
    "g4f.debug.logging = True  # Enable logging\n",
    "g4f.check_version = False  # Disable automatic version checking\n",
    "print(g4f.version)  # Check version\n",
    "print(g4f.Provider.Ails.params)  # Supported args"
   ],
   "metadata": {
    "collapsed": false
   }
  },
  {
   "cell_type": "code",
   "execution_count": 13,
   "outputs": [
    {
     "name": "stdout",
     "output_type": "stream",
     "text": [
      "Using RetryProvider provider\n"
     ]
    },
    {
     "data": {
      "text/plain": "<generator object RetryProvider.create_completion at 0x12e25c6d0>"
     },
     "execution_count": 13,
     "metadata": {},
     "output_type": "execute_result"
    }
   ],
   "source": [
    "# Streamed completion\n",
    "response = g4f.ChatCompletion.create(\n",
    "    model=\"gpt-3.5-turbo\",\n",
    "    messages=[{\"role\": \"user\", \"content\": \"Hello\"}],\n",
    "    stream=True,\n",
    ")\n",
    "response"
   ],
   "metadata": {
    "collapsed": false
   }
  },
  {
   "cell_type": "code",
   "execution_count": 14,
   "outputs": [
    {
     "data": {
      "text/plain": "<generator object RetryProvider.create_completion at 0x12e25c6d0>"
     },
     "execution_count": 14,
     "metadata": {},
     "output_type": "execute_result"
    }
   ],
   "source": [
    "response."
   ],
   "metadata": {
    "collapsed": false
   }
  },
  {
   "cell_type": "code",
   "execution_count": 17,
   "outputs": [
    {
     "name": "stdout",
     "output_type": "stream",
     "text": [
      "Using RetryProvider provider\n",
      "Using You provider\n",
      "You: RequestsError: Failed to perform, ErrCode: 35, Reason: 'BoringSSL SSL_connect: Connection reset by peer in connection to you.com:443 '. This may be a libcurl error, See https://curl.se/libcurl/c/libcurl-errors.html first for more details.\n",
      "Using ChatBase provider\n",
      "ChatBase: ClientResponseError: 500, message='Internal Server Error', url=URL('https://www.chatbase.co/api/fe/chat')\n",
      "Using GptGo provider\n",
      "GptGo: ClientResponseError: 403, message='Forbidden', url=URL('https://gptgo.ai/get_token.php')\n",
      "Using Chatgpt4Online provider\n"
     ]
    }
   ],
   "source": [
    " # Normal response\n",
    "response = g4f.ChatCompletion.create(\n",
    "    model=g4f.models.gpt_35_turbo,\n",
    "    messages=[{\"role\": \"user\", \"content\": \"calculate 3+3, and return the result\",\"prompt\":\"\"}],\n",
    ")  # Alternative model setting"
   ],
   "metadata": {
    "collapsed": false
   }
  },
  {
   "cell_type": "code",
   "execution_count": 18,
   "outputs": [
    {
     "data": {
      "text/plain": "'The result of 3+3 is 6.'"
     },
     "execution_count": 18,
     "metadata": {},
     "output_type": "execute_result"
    }
   ],
   "source": [
    "response"
   ],
   "metadata": {
    "collapsed": false
   }
  },
  {
   "cell_type": "code",
   "execution_count": null,
   "outputs": [],
   "source": [],
   "metadata": {
    "collapsed": false
   }
  }
 ],
 "metadata": {
  "kernelspec": {
   "display_name": "Python 3",
   "language": "python",
   "name": "python3"
  },
  "language_info": {
   "codemirror_mode": {
    "name": "ipython",
    "version": 2
   },
   "file_extension": ".py",
   "mimetype": "text/x-python",
   "name": "python",
   "nbconvert_exporter": "python",
   "pygments_lexer": "ipython2",
   "version": "2.7.6"
  }
 },
 "nbformat": 4,
 "nbformat_minor": 0
}
