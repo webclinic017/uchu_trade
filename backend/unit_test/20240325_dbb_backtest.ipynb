{
 "cells": [
  {
   "cell_type": "code",
   "execution_count": 1,
   "metadata": {
    "collapsed": true
   },
   "outputs": [
    {
     "ename": "IndentationError",
     "evalue": "expected an indented block after 'elif' statement on line 34 (3805152126.py, line 41)",
     "output_type": "error",
     "traceback": [
      "\u001B[0;36m  Cell \u001B[0;32mIn[1], line 41\u001B[0;36m\u001B[0m\n\u001B[0;31m    execute_exit_strategy(eth_data)\u001B[0m\n\u001B[0m                                   ^\u001B[0m\n\u001B[0;31mIndentationError\u001B[0m\u001B[0;31m:\u001B[0m expected an indented block after 'elif' statement on line 34\n"
     ]
    }
   ],
   "source": [
    "import yfinance as yf\n",
    "import talib\n",
    "import pandas as pd\n",
    "\n",
    "# 下载ETH/USD的价格数据\n",
    "eth_data = yf.download(\"ETH-USD\", interval=\"4h\", start=\"2023-01-01\", end=\"2024-01-01\")\n",
    "\n",
    "# 计算布林带\n",
    "eth_data['upper_band1'], eth_data['middle_band'], eth_data['lower_band1'] = talib.BBANDS(eth_data['Close'], timeperiod=20, nbdevup=1, nbdevdn=1)\n",
    "eth_data['upper_band2'], _, eth_data['lower_band2'] = talib.BBANDS(eth_data['Close'], timeperiod=20, nbdevup=2, nbdevdn=2)\n",
    "\n",
    "# 定义买入信号\n",
    "eth_data['signal'] = ''\n",
    "eth_data.loc[\n",
    "    (eth_data['Close'] > eth_data['upper_band1']) &  # 规则2：收盘价在布林带上轨以上\n",
    "    (eth_data['Close'].shift(1) < eth_data['upper_band1'].shift(1)) &  # 规则3：前一根蜡烛图收盘价在布林带上轨以下\n",
    "    (eth_data['Close'].shift(2) < eth_data['upper_band1'].shift(2)),  # 规则6：前一根蜡烛图收盘价在布林带上轨以下\n",
    "    'signal'\n",
    "] = 'BUY'\n",
    "\n",
    "# 根据条件执行退出操作\n",
    "def execute_exit_strategy(data):\n",
    "    current_index = data.index[-1]\n",
    "    last_signal_index = data[data['signal'] != ''].index[-1]\n",
    "\n",
    "    # 每四小时判断一次\n",
    "    if current_index - last_signal_index >= pd.Timedelta(hours=4):\n",
    "        if data.loc[current_index, 'Close'] > data.loc[current_index, 'upper_band1']:\n",
    "            # 清仓百分之10\n",
    "            clear_percentage = 0.1\n",
    "            # 您需要根据实际情况执行清仓操作\n",
    "            # 例如，如果您的数据中有一个名为 \"position\" 的列来表示持仓，您可以在这里执行清仓操作\n",
    "            # data.loc[current_index, 'position'] -= clear_percentage * data.loc[last_signal_index, 'position']\n",
    "        elif data.loc[current_index, 'Close'] <= data.loc[current_index, 'middle_band']:\n",
    "            # 全部退出\n",
    "            # 您需要根据实际情况执行全部退出操作\n",
    "            # 例如，如果您的数据中有一个名为 \"position\" 的列来表示持仓，您可以在这里执行全部退出操作\n",
    "            # data.loc[current_index, 'position'] = 0\n",
    "\n",
    "# 调用退出策略函数\n",
    "execute_exit_strategy(eth_data)\n"
   ]
  },
  {
   "cell_type": "code",
   "execution_count": 11,
   "outputs": [
    {
     "name": "stdout",
     "output_type": "stream",
     "text": [
      "[*********************100%%**********************]  1 of 1 completed\n"
     ]
    },
    {
     "ename": "AttributeError",
     "evalue": "'DataFrame' object has no attribute 'close'",
     "output_type": "error",
     "traceback": [
      "\u001B[0;31m---------------------------------------------------------------------------\u001B[0m",
      "\u001B[0;31mAttributeError\u001B[0m                            Traceback (most recent call last)",
      "\u001B[0;32m/var/folders/7b/q0cghq5j6kgc7qm5xq0qzfsc0000gn/T/ipykernel_66066/2879721050.py\u001B[0m in \u001B[0;36m?\u001B[0;34m()\u001B[0m\n\u001B[1;32m      4\u001B[0m \u001B[0;34m\u001B[0m\u001B[0m\n\u001B[1;32m      5\u001B[0m \u001B[0;31m# 下载ETH/USD的价格数据\u001B[0m\u001B[0;34m\u001B[0m\u001B[0;34m\u001B[0m\u001B[0m\n\u001B[1;32m      6\u001B[0m \u001B[0meth_data\u001B[0m \u001B[0;34m=\u001B[0m \u001B[0myf\u001B[0m\u001B[0;34m.\u001B[0m\u001B[0mdownload\u001B[0m\u001B[0;34m(\u001B[0m\u001B[0;34m\"ETH-USD\"\u001B[0m\u001B[0;34m,\u001B[0m \u001B[0minterval\u001B[0m\u001B[0;34m=\u001B[0m\u001B[0;34m\"1d\"\u001B[0m\u001B[0;34m,\u001B[0m \u001B[0mstart\u001B[0m\u001B[0;34m=\u001B[0m\u001B[0;34m\"2023-01-01\"\u001B[0m\u001B[0;34m,\u001B[0m \u001B[0mend\u001B[0m\u001B[0;34m=\u001B[0m\u001B[0;34m\"2024-01-01\"\u001B[0m\u001B[0;34m)\u001B[0m\u001B[0;34m\u001B[0m\u001B[0;34m\u001B[0m\u001B[0m\n\u001B[1;32m      7\u001B[0m \u001B[0;34m\u001B[0m\u001B[0m\n\u001B[0;32m----> 8\u001B[0;31m \u001B[0meth_data\u001B[0m\u001B[0;34m.\u001B[0m\u001B[0mclose\u001B[0m\u001B[0;34m\u001B[0m\u001B[0;34m\u001B[0m\u001B[0m\n\u001B[0m",
      "\u001B[0;32m~/anaconda3/envs/okx-trading/lib/python3.10/site-packages/pandas/core/generic.py\u001B[0m in \u001B[0;36m?\u001B[0;34m(self, name)\u001B[0m\n\u001B[1;32m   5985\u001B[0m             \u001B[0;32mand\u001B[0m \u001B[0mname\u001B[0m \u001B[0;32mnot\u001B[0m \u001B[0;32min\u001B[0m \u001B[0mself\u001B[0m\u001B[0;34m.\u001B[0m\u001B[0m_accessors\u001B[0m\u001B[0;34m\u001B[0m\u001B[0;34m\u001B[0m\u001B[0m\n\u001B[1;32m   5986\u001B[0m             \u001B[0;32mand\u001B[0m \u001B[0mself\u001B[0m\u001B[0;34m.\u001B[0m\u001B[0m_info_axis\u001B[0m\u001B[0;34m.\u001B[0m\u001B[0m_can_hold_identifiers_and_holds_name\u001B[0m\u001B[0;34m(\u001B[0m\u001B[0mname\u001B[0m\u001B[0;34m)\u001B[0m\u001B[0;34m\u001B[0m\u001B[0;34m\u001B[0m\u001B[0m\n\u001B[1;32m   5987\u001B[0m         ):\n\u001B[1;32m   5988\u001B[0m             \u001B[0;32mreturn\u001B[0m \u001B[0mself\u001B[0m\u001B[0;34m[\u001B[0m\u001B[0mname\u001B[0m\u001B[0;34m]\u001B[0m\u001B[0;34m\u001B[0m\u001B[0;34m\u001B[0m\u001B[0m\n\u001B[0;32m-> 5989\u001B[0;31m         \u001B[0;32mreturn\u001B[0m \u001B[0mobject\u001B[0m\u001B[0;34m.\u001B[0m\u001B[0m__getattribute__\u001B[0m\u001B[0;34m(\u001B[0m\u001B[0mself\u001B[0m\u001B[0;34m,\u001B[0m \u001B[0mname\u001B[0m\u001B[0;34m)\u001B[0m\u001B[0;34m\u001B[0m\u001B[0;34m\u001B[0m\u001B[0m\n\u001B[0m",
      "\u001B[0;31mAttributeError\u001B[0m: 'DataFrame' object has no attribute 'close'"
     ]
    }
   ],
   "source": [
    "import yfinance as yf\n",
    "import talib\n",
    "import pandas as pd\n",
    "\n",
    "# 下载ETH/USD的价格数据\n",
    "eth_data = yf.download(\"ETH-USD\", interval=\"1d\", start=\"2023-01-01\", end=\"2024-01-01\")\n",
    "\n",
    "eth_data.close"
   ],
   "metadata": {
    "collapsed": false
   }
  },
  {
   "cell_type": "code",
   "execution_count": 16,
   "outputs": [
    {
     "name": "stdout",
     "output_type": "stream",
     "text": [
      "[*********************100%%**********************]  1 of 1 completed\n"
     ]
    },
    {
     "data": {
      "text/plain": "                   open         high          low        close    adj close  \\\nDate                                                                          \n2023-01-01  1196.713623  1203.475342  1192.885376  1200.964844  1200.964844   \n2023-01-02  1201.103271  1219.860596  1195.214966  1214.656616  1214.656616   \n2023-01-03  1214.744019  1219.095337  1207.491577  1214.778809  1214.778809   \n2023-01-04  1214.718628  1264.807495  1213.168823  1256.526611  1256.526611   \n2023-01-05  1256.484619  1258.571533  1245.173096  1250.438599  1250.438599   \n...                 ...          ...          ...          ...          ...   \n2023-12-27  2231.393066  2392.608643  2215.140381  2378.739990  2378.739990   \n2023-12-28  2380.200684  2445.017578  2338.703857  2347.566162  2347.566162   \n2023-12-29  2346.843750  2386.004639  2262.975830  2300.690674  2300.690674   \n2023-12-30  2300.399658  2322.021484  2270.011963  2292.065430  2292.065430   \n2023-12-31  2291.945312  2318.512939  2261.394287  2281.471191  2281.471191   \n\n                 volume   datatime  \nDate                                \n2023-01-01   2399674550 2023-01-01  \n2023-01-02   3765758498 2023-01-02  \n2023-01-03   3392972131 2023-01-03  \n2023-01-04   6404416893 2023-01-04  \n2023-01-05   4001786456 2023-01-05  \n...                 ...        ...  \n2023-12-27  14161342927 2023-12-27  \n2023-12-28  15660799060 2023-12-28  \n2023-12-29  12536968996 2023-12-29  \n2023-12-30   6888195427 2023-12-30  \n2023-12-31   6871481744 2023-12-31  \n\n[365 rows x 7 columns]",
      "text/html": "<div>\n<style scoped>\n    .dataframe tbody tr th:only-of-type {\n        vertical-align: middle;\n    }\n\n    .dataframe tbody tr th {\n        vertical-align: top;\n    }\n\n    .dataframe thead th {\n        text-align: right;\n    }\n</style>\n<table border=\"1\" class=\"dataframe\">\n  <thead>\n    <tr style=\"text-align: right;\">\n      <th></th>\n      <th>open</th>\n      <th>high</th>\n      <th>low</th>\n      <th>close</th>\n      <th>adj close</th>\n      <th>volume</th>\n      <th>datatime</th>\n    </tr>\n    <tr>\n      <th>Date</th>\n      <th></th>\n      <th></th>\n      <th></th>\n      <th></th>\n      <th></th>\n      <th></th>\n      <th></th>\n    </tr>\n  </thead>\n  <tbody>\n    <tr>\n      <th>2023-01-01</th>\n      <td>1196.713623</td>\n      <td>1203.475342</td>\n      <td>1192.885376</td>\n      <td>1200.964844</td>\n      <td>1200.964844</td>\n      <td>2399674550</td>\n      <td>2023-01-01</td>\n    </tr>\n    <tr>\n      <th>2023-01-02</th>\n      <td>1201.103271</td>\n      <td>1219.860596</td>\n      <td>1195.214966</td>\n      <td>1214.656616</td>\n      <td>1214.656616</td>\n      <td>3765758498</td>\n      <td>2023-01-02</td>\n    </tr>\n    <tr>\n      <th>2023-01-03</th>\n      <td>1214.744019</td>\n      <td>1219.095337</td>\n      <td>1207.491577</td>\n      <td>1214.778809</td>\n      <td>1214.778809</td>\n      <td>3392972131</td>\n      <td>2023-01-03</td>\n    </tr>\n    <tr>\n      <th>2023-01-04</th>\n      <td>1214.718628</td>\n      <td>1264.807495</td>\n      <td>1213.168823</td>\n      <td>1256.526611</td>\n      <td>1256.526611</td>\n      <td>6404416893</td>\n      <td>2023-01-04</td>\n    </tr>\n    <tr>\n      <th>2023-01-05</th>\n      <td>1256.484619</td>\n      <td>1258.571533</td>\n      <td>1245.173096</td>\n      <td>1250.438599</td>\n      <td>1250.438599</td>\n      <td>4001786456</td>\n      <td>2023-01-05</td>\n    </tr>\n    <tr>\n      <th>...</th>\n      <td>...</td>\n      <td>...</td>\n      <td>...</td>\n      <td>...</td>\n      <td>...</td>\n      <td>...</td>\n      <td>...</td>\n    </tr>\n    <tr>\n      <th>2023-12-27</th>\n      <td>2231.393066</td>\n      <td>2392.608643</td>\n      <td>2215.140381</td>\n      <td>2378.739990</td>\n      <td>2378.739990</td>\n      <td>14161342927</td>\n      <td>2023-12-27</td>\n    </tr>\n    <tr>\n      <th>2023-12-28</th>\n      <td>2380.200684</td>\n      <td>2445.017578</td>\n      <td>2338.703857</td>\n      <td>2347.566162</td>\n      <td>2347.566162</td>\n      <td>15660799060</td>\n      <td>2023-12-28</td>\n    </tr>\n    <tr>\n      <th>2023-12-29</th>\n      <td>2346.843750</td>\n      <td>2386.004639</td>\n      <td>2262.975830</td>\n      <td>2300.690674</td>\n      <td>2300.690674</td>\n      <td>12536968996</td>\n      <td>2023-12-29</td>\n    </tr>\n    <tr>\n      <th>2023-12-30</th>\n      <td>2300.399658</td>\n      <td>2322.021484</td>\n      <td>2270.011963</td>\n      <td>2292.065430</td>\n      <td>2292.065430</td>\n      <td>6888195427</td>\n      <td>2023-12-30</td>\n    </tr>\n    <tr>\n      <th>2023-12-31</th>\n      <td>2291.945312</td>\n      <td>2318.512939</td>\n      <td>2261.394287</td>\n      <td>2281.471191</td>\n      <td>2281.471191</td>\n      <td>6871481744</td>\n      <td>2023-12-31</td>\n    </tr>\n  </tbody>\n</table>\n<p>365 rows × 7 columns</p>\n</div>"
     },
     "execution_count": 16,
     "metadata": {},
     "output_type": "execute_result"
    }
   ],
   "source": [
    "# 下载ETH/USD的价格数据\n",
    "eth_data = yf.download(\"ETH-USD\", interval=\"1d\", start=\"2023-01-01\", end=\"2024-01-01\")\n",
    "# 下载ETH/USD的价格数据\n",
    "eth_data.columns = [col.lower() for col in eth_data.columns]\n",
    "\n",
    "eth_data['datetime'] = eth_data.index\n",
    "\n",
    "eth_data"
   ],
   "metadata": {
    "collapsed": false
   }
  },
  {
   "cell_type": "code",
   "execution_count": 15,
   "outputs": [
    {
     "data": {
      "text/plain": "<backtrader.feeds.pandafeed.PandasData at 0x7fbd2125d840>"
     },
     "execution_count": 15,
     "metadata": {},
     "output_type": "execute_result"
    }
   ],
   "source": [
    "data = PandasData(dataname=eth_data,\n",
    "                  datetime = 'datetime',\n",
    "                  open='open',\n",
    "                  high='high',\n",
    "                  low='low',\n",
    "                  close='close',\n",
    "                  volume='volume',\n",
    "                  openinterest=None)"
   ],
   "metadata": {
    "collapsed": false
   }
  },
  {
   "cell_type": "code",
   "execution_count": 13,
   "outputs": [
    {
     "ename": "ValueError",
     "evalue": "not enough values to unpack (expected 3, got 0)",
     "output_type": "error",
     "traceback": [
      "\u001B[0;31m---------------------------------------------------------------------------\u001B[0m",
      "\u001B[0;31mValueError\u001B[0m                                Traceback (most recent call last)",
      "Cell \u001B[0;32mIn[13], line 40\u001B[0m\n\u001B[1;32m     37\u001B[0m cerebro\u001B[38;5;241m.\u001B[39mbroker\u001B[38;5;241m.\u001B[39mset_cash(\u001B[38;5;241m10000\u001B[39m)\n\u001B[1;32m     39\u001B[0m \u001B[38;5;66;03m# 运行回测\u001B[39;00m\n\u001B[0;32m---> 40\u001B[0m \u001B[43mcerebro\u001B[49m\u001B[38;5;241;43m.\u001B[39;49m\u001B[43mrun\u001B[49m\u001B[43m(\u001B[49m\u001B[43m)\u001B[49m\n\u001B[1;32m     42\u001B[0m \u001B[38;5;66;03m# 输出回测结果\u001B[39;00m\n\u001B[1;32m     43\u001B[0m cerebro\u001B[38;5;241m.\u001B[39mplot()\n",
      "File \u001B[0;32m~/anaconda3/envs/okx-trading/lib/python3.10/site-packages/backtrader/cerebro.py:1132\u001B[0m, in \u001B[0;36mCerebro.run\u001B[0;34m(self, **kwargs)\u001B[0m\n\u001B[1;32m   1128\u001B[0m \u001B[38;5;28;01mif\u001B[39;00m \u001B[38;5;129;01mnot\u001B[39;00m \u001B[38;5;28mself\u001B[39m\u001B[38;5;241m.\u001B[39m_dooptimize \u001B[38;5;129;01mor\u001B[39;00m \u001B[38;5;28mself\u001B[39m\u001B[38;5;241m.\u001B[39mp\u001B[38;5;241m.\u001B[39mmaxcpus \u001B[38;5;241m==\u001B[39m \u001B[38;5;241m1\u001B[39m:\n\u001B[1;32m   1129\u001B[0m     \u001B[38;5;66;03m# If no optimmization is wished ... or 1 core is to be used\u001B[39;00m\n\u001B[1;32m   1130\u001B[0m     \u001B[38;5;66;03m# let's skip process \"spawning\"\u001B[39;00m\n\u001B[1;32m   1131\u001B[0m     \u001B[38;5;28;01mfor\u001B[39;00m iterstrat \u001B[38;5;129;01min\u001B[39;00m iterstrats:\n\u001B[0;32m-> 1132\u001B[0m         runstrat \u001B[38;5;241m=\u001B[39m \u001B[38;5;28;43mself\u001B[39;49m\u001B[38;5;241;43m.\u001B[39;49m\u001B[43mrunstrategies\u001B[49m\u001B[43m(\u001B[49m\u001B[43miterstrat\u001B[49m\u001B[43m)\u001B[49m\n\u001B[1;32m   1133\u001B[0m         \u001B[38;5;28mself\u001B[39m\u001B[38;5;241m.\u001B[39mrunstrats\u001B[38;5;241m.\u001B[39mappend(runstrat)\n\u001B[1;32m   1134\u001B[0m         \u001B[38;5;28;01mif\u001B[39;00m \u001B[38;5;28mself\u001B[39m\u001B[38;5;241m.\u001B[39m_dooptimize:\n",
      "File \u001B[0;32m~/anaconda3/envs/okx-trading/lib/python3.10/site-packages/backtrader/cerebro.py:1222\u001B[0m, in \u001B[0;36mCerebro.runstrategies\u001B[0;34m(self, iterstrat, predata)\u001B[0m\n\u001B[1;32m   1220\u001B[0m sargs \u001B[38;5;241m=\u001B[39m \u001B[38;5;28mself\u001B[39m\u001B[38;5;241m.\u001B[39mdatas \u001B[38;5;241m+\u001B[39m \u001B[38;5;28mlist\u001B[39m(sargs)\n\u001B[1;32m   1221\u001B[0m \u001B[38;5;28;01mtry\u001B[39;00m:\n\u001B[0;32m-> 1222\u001B[0m     strat \u001B[38;5;241m=\u001B[39m \u001B[43mstratcls\u001B[49m\u001B[43m(\u001B[49m\u001B[38;5;241;43m*\u001B[39;49m\u001B[43msargs\u001B[49m\u001B[43m,\u001B[49m\u001B[43m \u001B[49m\u001B[38;5;241;43m*\u001B[39;49m\u001B[38;5;241;43m*\u001B[39;49m\u001B[43mskwargs\u001B[49m\u001B[43m)\u001B[49m\n\u001B[1;32m   1223\u001B[0m \u001B[38;5;28;01mexcept\u001B[39;00m bt\u001B[38;5;241m.\u001B[39merrors\u001B[38;5;241m.\u001B[39mStrategySkipError:\n\u001B[1;32m   1224\u001B[0m     \u001B[38;5;28;01mcontinue\u001B[39;00m  \u001B[38;5;66;03m# do not add strategy to the mix\u001B[39;00m\n",
      "File \u001B[0;32m~/anaconda3/envs/okx-trading/lib/python3.10/site-packages/backtrader/metabase.py:88\u001B[0m, in \u001B[0;36mMetaBase.__call__\u001B[0;34m(cls, *args, **kwargs)\u001B[0m\n\u001B[1;32m     86\u001B[0m _obj, args, kwargs \u001B[38;5;241m=\u001B[39m \u001B[38;5;28mcls\u001B[39m\u001B[38;5;241m.\u001B[39mdonew(\u001B[38;5;241m*\u001B[39margs, \u001B[38;5;241m*\u001B[39m\u001B[38;5;241m*\u001B[39mkwargs)\n\u001B[1;32m     87\u001B[0m _obj, args, kwargs \u001B[38;5;241m=\u001B[39m \u001B[38;5;28mcls\u001B[39m\u001B[38;5;241m.\u001B[39mdopreinit(_obj, \u001B[38;5;241m*\u001B[39margs, \u001B[38;5;241m*\u001B[39m\u001B[38;5;241m*\u001B[39mkwargs)\n\u001B[0;32m---> 88\u001B[0m _obj, args, kwargs \u001B[38;5;241m=\u001B[39m \u001B[38;5;28;43mcls\u001B[39;49m\u001B[38;5;241;43m.\u001B[39;49m\u001B[43mdoinit\u001B[49m\u001B[43m(\u001B[49m\u001B[43m_obj\u001B[49m\u001B[43m,\u001B[49m\u001B[43m \u001B[49m\u001B[38;5;241;43m*\u001B[39;49m\u001B[43margs\u001B[49m\u001B[43m,\u001B[49m\u001B[43m \u001B[49m\u001B[38;5;241;43m*\u001B[39;49m\u001B[38;5;241;43m*\u001B[39;49m\u001B[43mkwargs\u001B[49m\u001B[43m)\u001B[49m\n\u001B[1;32m     89\u001B[0m _obj, args, kwargs \u001B[38;5;241m=\u001B[39m \u001B[38;5;28mcls\u001B[39m\u001B[38;5;241m.\u001B[39mdopostinit(_obj, \u001B[38;5;241m*\u001B[39margs, \u001B[38;5;241m*\u001B[39m\u001B[38;5;241m*\u001B[39mkwargs)\n\u001B[1;32m     90\u001B[0m \u001B[38;5;28;01mreturn\u001B[39;00m _obj\n",
      "File \u001B[0;32m~/anaconda3/envs/okx-trading/lib/python3.10/site-packages/backtrader/metabase.py:78\u001B[0m, in \u001B[0;36mMetaBase.doinit\u001B[0;34m(cls, _obj, *args, **kwargs)\u001B[0m\n\u001B[1;32m     77\u001B[0m \u001B[38;5;28;01mdef\u001B[39;00m \u001B[38;5;21mdoinit\u001B[39m(\u001B[38;5;28mcls\u001B[39m, _obj, \u001B[38;5;241m*\u001B[39margs, \u001B[38;5;241m*\u001B[39m\u001B[38;5;241m*\u001B[39mkwargs):\n\u001B[0;32m---> 78\u001B[0m     \u001B[43m_obj\u001B[49m\u001B[38;5;241;43m.\u001B[39;49m\u001B[38;5;21;43m__init__\u001B[39;49m\u001B[43m(\u001B[49m\u001B[38;5;241;43m*\u001B[39;49m\u001B[43margs\u001B[49m\u001B[43m,\u001B[49m\u001B[43m \u001B[49m\u001B[38;5;241;43m*\u001B[39;49m\u001B[38;5;241;43m*\u001B[39;49m\u001B[43mkwargs\u001B[49m\u001B[43m)\u001B[49m\n\u001B[1;32m     79\u001B[0m     \u001B[38;5;28;01mreturn\u001B[39;00m _obj, args, kwargs\n",
      "Cell \u001B[0;32mIn[13], line 6\u001B[0m, in \u001B[0;36mMyStrategy.__init__\u001B[0;34m(self)\u001B[0m\n\u001B[1;32m      4\u001B[0m \u001B[38;5;28;01mdef\u001B[39;00m \u001B[38;5;21m__init__\u001B[39m(\u001B[38;5;28mself\u001B[39m):\n\u001B[1;32m      5\u001B[0m     \u001B[38;5;66;03m# 初始化布林带指标\u001B[39;00m\n\u001B[0;32m----> 6\u001B[0m     \u001B[38;5;28mself\u001B[39m\u001B[38;5;241m.\u001B[39mupper_band1, \u001B[38;5;28mself\u001B[39m\u001B[38;5;241m.\u001B[39mmiddle_band, \u001B[38;5;28mself\u001B[39m\u001B[38;5;241m.\u001B[39mlower_band1 \u001B[38;5;241m=\u001B[39m bt\u001B[38;5;241m.\u001B[39mindicators\u001B[38;5;241m.\u001B[39mBBands(\u001B[38;5;28mself\u001B[39m\u001B[38;5;241m.\u001B[39mdata\u001B[38;5;241m.\u001B[39mclose, period\u001B[38;5;241m=\u001B[39m\u001B[38;5;241m20\u001B[39m, devfactor\u001B[38;5;241m=\u001B[39m\u001B[38;5;241m1\u001B[39m)\n",
      "\u001B[0;31mValueError\u001B[0m: not enough values to unpack (expected 3, got 0)"
     ]
    }
   ],
   "source": [],
   "metadata": {
    "collapsed": false
   }
  },
  {
   "cell_type": "code",
   "execution_count": null,
   "outputs": [],
   "source": [],
   "metadata": {
    "collapsed": false,
    "pycharm": {
     "is_executing": true
    }
   }
  },
  {
   "cell_type": "code",
   "execution_count": null,
   "outputs": [],
   "source": [],
   "metadata": {
    "collapsed": false,
    "pycharm": {
     "is_executing": true
    }
   }
  },
  {
   "cell_type": "code",
   "execution_count": null,
   "outputs": [],
   "source": [],
   "metadata": {
    "collapsed": false,
    "pycharm": {
     "is_executing": true
    }
   }
  },
  {
   "cell_type": "code",
   "execution_count": null,
   "outputs": [],
   "source": [],
   "metadata": {
    "collapsed": false
   }
  }
 ],
 "metadata": {
  "kernelspec": {
   "display_name": "Python 3",
   "language": "python",
   "name": "python3"
  },
  "language_info": {
   "codemirror_mode": {
    "name": "ipython",
    "version": 2
   },
   "file_extension": ".py",
   "mimetype": "text/x-python",
   "name": "python",
   "nbconvert_exporter": "python",
   "pygments_lexer": "ipython2",
   "version": "2.7.6"
  }
 },
 "nbformat": 4,
 "nbformat_minor": 0
}
