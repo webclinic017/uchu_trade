{
 "cells": [
  {
   "cell_type": "code",
   "execution_count": 1,
   "metadata": {
    "collapsed": true
   },
   "outputs": [
    {
     "name": "stdout",
     "output_type": "stream",
     "text": [
      "[*********************100%%**********************]  1 of 1 completed\n"
     ]
    },
    {
     "data": {
      "text/plain": "                   Open         High          Low        Close    Adj Close  \\\nDate                                                                          \n2023-07-01  1933.323853  1942.701538  1910.848633  1924.565918  1924.565918   \n2023-07-02  1924.448120  1958.160767  1895.906982  1937.438354  1937.438354   \n2023-07-03  1937.883789  1974.775024  1934.688843  1955.389160  1955.389160   \n2023-07-04  1955.524170  1966.365356  1932.611328  1936.633545  1936.633545   \n2023-07-05  1936.796753  1942.432495  1897.124756  1910.588013  1910.588013   \n...                 ...          ...          ...          ...          ...   \n2024-07-13  3134.550537  3199.989502  3115.080322  3177.198730  3177.198730   \n2024-07-14  3176.741455  3266.487549  3166.431152  3244.079102  3244.079102   \n2024-07-15  3246.131592  3494.098389  3235.776123  3489.552734  3489.552734   \n2024-07-16  3486.144043  3498.218994  3351.779785  3443.513428  3443.513428   \n2024-07-17  3446.736816  3516.104248  3379.099609  3388.752441  3388.752441   \n\n                 Volume  \nDate                     \n2023-07-01   5136809625  \n2023-07-02   6343966490  \n2023-07-03   7858509087  \n2023-07-04   5683423776  \n2023-07-05   6034088075  \n...                 ...  \n2024-07-13   8565105946  \n2024-07-14  10517709666  \n2024-07-15  18305490390  \n2024-07-16  20446664416  \n2024-07-17  16739123962  \n\n[383 rows x 6 columns]",
      "text/html": "<div>\n<style scoped>\n    .dataframe tbody tr th:only-of-type {\n        vertical-align: middle;\n    }\n\n    .dataframe tbody tr th {\n        vertical-align: top;\n    }\n\n    .dataframe thead th {\n        text-align: right;\n    }\n</style>\n<table border=\"1\" class=\"dataframe\">\n  <thead>\n    <tr style=\"text-align: right;\">\n      <th></th>\n      <th>Open</th>\n      <th>High</th>\n      <th>Low</th>\n      <th>Close</th>\n      <th>Adj Close</th>\n      <th>Volume</th>\n    </tr>\n    <tr>\n      <th>Date</th>\n      <th></th>\n      <th></th>\n      <th></th>\n      <th></th>\n      <th></th>\n      <th></th>\n    </tr>\n  </thead>\n  <tbody>\n    <tr>\n      <th>2023-07-01</th>\n      <td>1933.323853</td>\n      <td>1942.701538</td>\n      <td>1910.848633</td>\n      <td>1924.565918</td>\n      <td>1924.565918</td>\n      <td>5136809625</td>\n    </tr>\n    <tr>\n      <th>2023-07-02</th>\n      <td>1924.448120</td>\n      <td>1958.160767</td>\n      <td>1895.906982</td>\n      <td>1937.438354</td>\n      <td>1937.438354</td>\n      <td>6343966490</td>\n    </tr>\n    <tr>\n      <th>2023-07-03</th>\n      <td>1937.883789</td>\n      <td>1974.775024</td>\n      <td>1934.688843</td>\n      <td>1955.389160</td>\n      <td>1955.389160</td>\n      <td>7858509087</td>\n    </tr>\n    <tr>\n      <th>2023-07-04</th>\n      <td>1955.524170</td>\n      <td>1966.365356</td>\n      <td>1932.611328</td>\n      <td>1936.633545</td>\n      <td>1936.633545</td>\n      <td>5683423776</td>\n    </tr>\n    <tr>\n      <th>2023-07-05</th>\n      <td>1936.796753</td>\n      <td>1942.432495</td>\n      <td>1897.124756</td>\n      <td>1910.588013</td>\n      <td>1910.588013</td>\n      <td>6034088075</td>\n    </tr>\n    <tr>\n      <th>...</th>\n      <td>...</td>\n      <td>...</td>\n      <td>...</td>\n      <td>...</td>\n      <td>...</td>\n      <td>...</td>\n    </tr>\n    <tr>\n      <th>2024-07-13</th>\n      <td>3134.550537</td>\n      <td>3199.989502</td>\n      <td>3115.080322</td>\n      <td>3177.198730</td>\n      <td>3177.198730</td>\n      <td>8565105946</td>\n    </tr>\n    <tr>\n      <th>2024-07-14</th>\n      <td>3176.741455</td>\n      <td>3266.487549</td>\n      <td>3166.431152</td>\n      <td>3244.079102</td>\n      <td>3244.079102</td>\n      <td>10517709666</td>\n    </tr>\n    <tr>\n      <th>2024-07-15</th>\n      <td>3246.131592</td>\n      <td>3494.098389</td>\n      <td>3235.776123</td>\n      <td>3489.552734</td>\n      <td>3489.552734</td>\n      <td>18305490390</td>\n    </tr>\n    <tr>\n      <th>2024-07-16</th>\n      <td>3486.144043</td>\n      <td>3498.218994</td>\n      <td>3351.779785</td>\n      <td>3443.513428</td>\n      <td>3443.513428</td>\n      <td>20446664416</td>\n    </tr>\n    <tr>\n      <th>2024-07-17</th>\n      <td>3446.736816</td>\n      <td>3516.104248</td>\n      <td>3379.099609</td>\n      <td>3388.752441</td>\n      <td>3388.752441</td>\n      <td>16739123962</td>\n    </tr>\n  </tbody>\n</table>\n<p>383 rows × 6 columns</p>\n</div>"
     },
     "execution_count": 1,
     "metadata": {},
     "output_type": "execute_result"
    }
   ],
   "source": [
    "import yfinance as yf\n",
    "import talib\n",
    "import pandas as pd\n",
    "\n",
    "# 下载ETH/USD的价格数据\n",
    "eth_data = yf.download(\"ETH-USD\", interval=\"1d\", start=\"2023-07-01\", end=\"2024-07-18\")\n",
    "eth_data"
   ]
  },
  {
   "cell_type": "code",
   "execution_count": 5,
   "outputs": [
    {
     "data": {
      "text/plain": "Day_of_Week\nFriday       50.000000\nMonday       57.692308\nSaturday     60.377358\nSunday       52.830189\nThursday     48.076923\nTuesday      46.153846\nWednesday    50.000000\nName: Price_Increase, dtype: float64"
     },
     "execution_count": 5,
     "metadata": {},
     "output_type": "execute_result"
    }
   ],
   "source": [
    "# 添加一个列，表示价格是否上涨\n",
    "eth_data['Price_Increase'] = eth_data['Close'].diff() > 0\n",
    "\n",
    "# 添加星期几的列\n",
    "eth_data['Day_of_Week'] = eth_data.index.day_name()\n",
    "\n",
    "# 计算每周每天价格上涨的概率\n",
    "increase_probabilities = eth_data.groupby('Day_of_Week')['Price_Increase'].mean() * 100\n",
    "increase_probabilities = increase_probabilities.sort_index()  # 确保天数顺序正确\n",
    "\n",
    "increase_probabilities"
   ],
   "metadata": {
    "collapsed": false
   }
  },
  {
   "cell_type": "code",
   "execution_count": 6,
   "outputs": [
    {
     "data": {
      "text/plain": "Prev_Price_Increase      False      True \nDay_of_Week                              \nFriday               59.259259  40.000000\nMonday               60.000000  55.555556\nSaturday             57.692308  65.384615\nSunday               47.619048  56.250000\nThursday             57.692308  38.461538\nTuesday              40.909091  50.000000\nWednesday            57.142857  41.666667",
      "text/html": "<div>\n<style scoped>\n    .dataframe tbody tr th:only-of-type {\n        vertical-align: middle;\n    }\n\n    .dataframe tbody tr th {\n        vertical-align: top;\n    }\n\n    .dataframe thead th {\n        text-align: right;\n    }\n</style>\n<table border=\"1\" class=\"dataframe\">\n  <thead>\n    <tr style=\"text-align: right;\">\n      <th>Prev_Price_Increase</th>\n      <th>False</th>\n      <th>True</th>\n    </tr>\n    <tr>\n      <th>Day_of_Week</th>\n      <th></th>\n      <th></th>\n    </tr>\n  </thead>\n  <tbody>\n    <tr>\n      <th>Friday</th>\n      <td>59.259259</td>\n      <td>40.000000</td>\n    </tr>\n    <tr>\n      <th>Monday</th>\n      <td>60.000000</td>\n      <td>55.555556</td>\n    </tr>\n    <tr>\n      <th>Saturday</th>\n      <td>57.692308</td>\n      <td>65.384615</td>\n    </tr>\n    <tr>\n      <th>Sunday</th>\n      <td>47.619048</td>\n      <td>56.250000</td>\n    </tr>\n    <tr>\n      <th>Thursday</th>\n      <td>57.692308</td>\n      <td>38.461538</td>\n    </tr>\n    <tr>\n      <th>Tuesday</th>\n      <td>40.909091</td>\n      <td>50.000000</td>\n    </tr>\n    <tr>\n      <th>Wednesday</th>\n      <td>57.142857</td>\n      <td>41.666667</td>\n    </tr>\n  </tbody>\n</table>\n</div>"
     },
     "execution_count": 6,
     "metadata": {},
     "output_type": "execute_result"
    }
   ],
   "source": [
    "# 添加星期几的列\n",
    "eth_data['Day_of_Week'] = eth_data.index.day_name()\n",
    "\n",
    "# 添加前一天价格上涨的列\n",
    "eth_data['Prev_Price_Increase'] = eth_data['Price_Increase'].shift(1)\n",
    "\n",
    "# 计算条件概率\n",
    "conditional_probabilities = eth_data.groupby(['Day_of_Week', 'Prev_Price_Increase'])['Price_Increase'].mean() * 100\n",
    "conditional_probabilities = conditional_probabilities.unstack().fillna(0)  # 确保所有组合都存在\n",
    "\n",
    "conditional_probabilities"
   ],
   "metadata": {
    "collapsed": false
   }
  },
  {
   "cell_type": "code",
   "execution_count": null,
   "outputs": [],
   "source": [],
   "metadata": {
    "collapsed": false
   }
  }
 ],
 "metadata": {
  "kernelspec": {
   "display_name": "Python 3",
   "language": "python",
   "name": "python3"
  },
  "language_info": {
   "codemirror_mode": {
    "name": "ipython",
    "version": 2
   },
   "file_extension": ".py",
   "mimetype": "text/x-python",
   "name": "python",
   "nbconvert_exporter": "python",
   "pygments_lexer": "ipython2",
   "version": "2.7.6"
  }
 },
 "nbformat": 4,
 "nbformat_minor": 0
}
