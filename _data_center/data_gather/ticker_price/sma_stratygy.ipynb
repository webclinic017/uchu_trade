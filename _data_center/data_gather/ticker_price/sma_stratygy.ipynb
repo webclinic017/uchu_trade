{
 "cells": [
  {
   "cell_type": "code",
   "execution_count": 31,
   "metadata": {
    "collapsed": true
   },
   "outputs": [],
   "source": [
    "import yfinance as yf\n",
    "import pandas_ta as ta\n",
    "import pandas as pd"
   ]
  },
  {
   "cell_type": "code",
   "execution_count": 49,
   "outputs": [
    {
     "data": {
      "text/plain": "                    Open          High           Low         Close  \\\nDate                                                                 \n1640995200  46311.746094  47827.312500  46288.484375  47686.812500   \n1641081600  47680.925781  47881.406250  46856.937500  47345.218750   \n1641168000  47343.542969  47510.726562  45835.964844  46458.117188   \n1641254400  46458.851562  47406.546875  45752.464844  45897.574219   \n1641340800  45899.359375  46929.046875  42798.222656  43569.003906   \n...                  ...           ...           ...           ...   \n1705968000  39518.714844  40127.351562  38521.894531  39845.550781   \n1706054400  39877.593750  40483.785156  39508.796875  40077.074219   \n1706140800  40075.550781  40254.480469  39545.664062  39933.808594   \n1706227200  39936.816406  42209.386719  39825.691406  41816.871094   \n1706313600  41815.625000  41926.406250  41472.210938  41746.035156   \n\n                 Volume  Dividends  Stock Splits  \nDate                                              \n1640995200  24582667004        0.0           0.0  \n1641081600  27951569547        0.0           0.0  \n1641168000  33071628362        0.0           0.0  \n1641254400  42494677905        0.0           0.0  \n1641340800  36851084859        0.0           0.0  \n...                 ...        ...           ...  \n1705968000  29244553045        0.0           0.0  \n1706054400  22359526178        0.0           0.0  \n1706140800  18491782013        0.0           0.0  \n1706227200  25598119893        0.0           0.0  \n1706313600  18916116480        0.0           0.0  \n\n[757 rows x 7 columns]",
      "text/html": "<div>\n<style scoped>\n    .dataframe tbody tr th:only-of-type {\n        vertical-align: middle;\n    }\n\n    .dataframe tbody tr th {\n        vertical-align: top;\n    }\n\n    .dataframe thead th {\n        text-align: right;\n    }\n</style>\n<table border=\"1\" class=\"dataframe\">\n  <thead>\n    <tr style=\"text-align: right;\">\n      <th></th>\n      <th>Open</th>\n      <th>High</th>\n      <th>Low</th>\n      <th>Close</th>\n      <th>Volume</th>\n      <th>Dividends</th>\n      <th>Stock Splits</th>\n    </tr>\n    <tr>\n      <th>Date</th>\n      <th></th>\n      <th></th>\n      <th></th>\n      <th></th>\n      <th></th>\n      <th></th>\n      <th></th>\n    </tr>\n  </thead>\n  <tbody>\n    <tr>\n      <th>1640995200</th>\n      <td>46311.746094</td>\n      <td>47827.312500</td>\n      <td>46288.484375</td>\n      <td>47686.812500</td>\n      <td>24582667004</td>\n      <td>0.0</td>\n      <td>0.0</td>\n    </tr>\n    <tr>\n      <th>1641081600</th>\n      <td>47680.925781</td>\n      <td>47881.406250</td>\n      <td>46856.937500</td>\n      <td>47345.218750</td>\n      <td>27951569547</td>\n      <td>0.0</td>\n      <td>0.0</td>\n    </tr>\n    <tr>\n      <th>1641168000</th>\n      <td>47343.542969</td>\n      <td>47510.726562</td>\n      <td>45835.964844</td>\n      <td>46458.117188</td>\n      <td>33071628362</td>\n      <td>0.0</td>\n      <td>0.0</td>\n    </tr>\n    <tr>\n      <th>1641254400</th>\n      <td>46458.851562</td>\n      <td>47406.546875</td>\n      <td>45752.464844</td>\n      <td>45897.574219</td>\n      <td>42494677905</td>\n      <td>0.0</td>\n      <td>0.0</td>\n    </tr>\n    <tr>\n      <th>1641340800</th>\n      <td>45899.359375</td>\n      <td>46929.046875</td>\n      <td>42798.222656</td>\n      <td>43569.003906</td>\n      <td>36851084859</td>\n      <td>0.0</td>\n      <td>0.0</td>\n    </tr>\n    <tr>\n      <th>...</th>\n      <td>...</td>\n      <td>...</td>\n      <td>...</td>\n      <td>...</td>\n      <td>...</td>\n      <td>...</td>\n      <td>...</td>\n    </tr>\n    <tr>\n      <th>1705968000</th>\n      <td>39518.714844</td>\n      <td>40127.351562</td>\n      <td>38521.894531</td>\n      <td>39845.550781</td>\n      <td>29244553045</td>\n      <td>0.0</td>\n      <td>0.0</td>\n    </tr>\n    <tr>\n      <th>1706054400</th>\n      <td>39877.593750</td>\n      <td>40483.785156</td>\n      <td>39508.796875</td>\n      <td>40077.074219</td>\n      <td>22359526178</td>\n      <td>0.0</td>\n      <td>0.0</td>\n    </tr>\n    <tr>\n      <th>1706140800</th>\n      <td>40075.550781</td>\n      <td>40254.480469</td>\n      <td>39545.664062</td>\n      <td>39933.808594</td>\n      <td>18491782013</td>\n      <td>0.0</td>\n      <td>0.0</td>\n    </tr>\n    <tr>\n      <th>1706227200</th>\n      <td>39936.816406</td>\n      <td>42209.386719</td>\n      <td>39825.691406</td>\n      <td>41816.871094</td>\n      <td>25598119893</td>\n      <td>0.0</td>\n      <td>0.0</td>\n    </tr>\n    <tr>\n      <th>1706313600</th>\n      <td>41815.625000</td>\n      <td>41926.406250</td>\n      <td>41472.210938</td>\n      <td>41746.035156</td>\n      <td>18916116480</td>\n      <td>0.0</td>\n      <td>0.0</td>\n    </tr>\n  </tbody>\n</table>\n<p>757 rows × 7 columns</p>\n</div>"
     },
     "execution_count": 49,
     "metadata": {},
     "output_type": "execute_result"
    }
   ],
   "source": [
    "# Step 1: Collect Bitcoin 1-year price data\n",
    "symbol = 'BTC-USD'\n",
    "start_date = '2022-01-01'\n",
    "end_date = '2022-12-31'\n",
    "\n",
    "bitcoin_data = yf.Ticker(symbol).history(\n",
    "    interval = \"1d\",\n",
    "    start = start_date)\n",
    "bitcoin_data.index = pd.to_datetime(bitcoin_data.index)\n",
    "bitcoin_data.index = bitcoin_data.index.astype(int) // 10**9\n",
    "bitcoin_data"
   ],
   "metadata": {
    "collapsed": false
   }
  },
  {
   "cell_type": "code",
   "execution_count": 51,
   "outputs": [
    {
     "name": "stdout",
     "output_type": "stream",
     "text": [
      "The corresponding date and time is: 2022-01-05 00:00:00\n"
     ]
    }
   ],
   "source": [
    "from datetime import datetime\n",
    "\n",
    "timestamp = 1641340800\n",
    "date_time = datetime.utcfromtimestamp(timestamp)\n",
    "\n",
    "print(f\"The corresponding date and time is: {date_time}\")\n"
   ],
   "metadata": {
    "collapsed": false
   }
  },
  {
   "cell_type": "code",
   "execution_count": 52,
   "outputs": [
    {
     "name": "stdout",
     "output_type": "stream",
     "text": [
      "The Unix timestamp for 2022-01-05 is: 1641340800\n"
     ]
    }
   ],
   "source": [
    "from datetime import datetime, timezone\n",
    "\n",
    "# Given date string\n",
    "date_string = '2022-01-05'\n",
    "\n",
    "# Convert to datetime object\n",
    "date_object = datetime.strptime(date_string, '%Y-%m-%d')\n",
    "\n",
    "# Convert to Unix timestamp\n",
    "timestamp = int(date_object.replace(tzinfo=timezone.utc).timestamp())\n",
    "\n",
    "print(f\"The Unix timestamp for {date_string} is: {timestamp}\")\n"
   ],
   "metadata": {
    "collapsed": false
   }
  },
  {
   "cell_type": "code",
   "execution_count": 50,
   "outputs": [
    {
     "data": {
      "text/plain": "4.0"
     },
     "execution_count": 50,
     "metadata": {},
     "output_type": "execute_result"
    }
   ],
   "source": [
    "difference_in_seconds = 1641772800 -1641427200\n",
    "difference_in_days = difference_in_seconds / (24 * 3600)\n",
    "difference_in_days"
   ],
   "metadata": {
    "collapsed": false
   }
  },
  {
   "cell_type": "code",
   "execution_count": 20,
   "outputs": [
    {
     "data": {
      "text/plain": "                                   Open          High           Low  \\\nDate                                                                  \n2022-01-01 00:00:00+00:00  46311.746094  47827.312500  46288.484375   \n2022-01-02 00:00:00+00:00  47680.925781  47881.406250  46856.937500   \n2022-01-03 00:00:00+00:00  47343.542969  47510.726562  45835.964844   \n2022-01-04 00:00:00+00:00  46458.851562  47406.546875  45752.464844   \n2022-01-05 00:00:00+00:00  45899.359375  46929.046875  42798.222656   \n...                                 ...           ...           ...   \n2024-01-08 00:00:00+00:00  43948.707031  47218.000000  43244.082031   \n2024-01-09 00:00:00+00:00  46987.640625  47893.699219  45244.714844   \n2024-01-10 00:00:00+00:00  46121.539062  47647.222656  44483.152344   \n2024-01-11 00:00:00+00:00  46656.074219  48969.371094  45678.644531   \n2024-01-13 00:00:00+00:00  42799.445312  43117.929688  42464.460938   \n\n                                  Close       Volume  Dividends  Stock Splits  \\\nDate                                                                            \n2022-01-01 00:00:00+00:00  47686.812500  24582667004        0.0           0.0   \n2022-01-02 00:00:00+00:00  47345.218750  27951569547        0.0           0.0   \n2022-01-03 00:00:00+00:00  46458.117188  33071628362        0.0           0.0   \n2022-01-04 00:00:00+00:00  45897.574219  42494677905        0.0           0.0   \n2022-01-05 00:00:00+00:00  43569.003906  36851084859        0.0           0.0   \n...                                 ...          ...        ...           ...   \n2024-01-08 00:00:00+00:00  46970.503906  42746192015        0.0           0.0   \n2024-01-09 00:00:00+00:00  46139.730469  39821290992        0.0           0.0   \n2024-01-10 00:00:00+00:00  46627.777344  50114613298        0.0           0.0   \n2024-01-11 00:00:00+00:00  46368.585938  45833734549        0.0           0.0   \n2024-01-13 00:00:00+00:00  43117.929688  44737839104        0.0           0.0   \n\n                                  SMA10  \nDate                                     \n2022-01-01 00:00:00+00:00           NaN  \n2022-01-02 00:00:00+00:00           NaN  \n2022-01-03 00:00:00+00:00           NaN  \n2022-01-04 00:00:00+00:00           NaN  \n2022-01-05 00:00:00+00:00           NaN  \n...                                 ...  \n2024-01-08 00:00:00+00:00  43964.097656  \n2024-01-09 00:00:00+00:00  44362.380469  \n2024-01-10 00:00:00+00:00  44798.639453  \n2024-01-11 00:00:00+00:00  45018.764844  \n2024-01-13 00:00:00+00:00  44834.760938  \n\n[742 rows x 8 columns]",
      "text/html": "<div>\n<style scoped>\n    .dataframe tbody tr th:only-of-type {\n        vertical-align: middle;\n    }\n\n    .dataframe tbody tr th {\n        vertical-align: top;\n    }\n\n    .dataframe thead th {\n        text-align: right;\n    }\n</style>\n<table border=\"1\" class=\"dataframe\">\n  <thead>\n    <tr style=\"text-align: right;\">\n      <th></th>\n      <th>Open</th>\n      <th>High</th>\n      <th>Low</th>\n      <th>Close</th>\n      <th>Volume</th>\n      <th>Dividends</th>\n      <th>Stock Splits</th>\n      <th>SMA10</th>\n    </tr>\n    <tr>\n      <th>Date</th>\n      <th></th>\n      <th></th>\n      <th></th>\n      <th></th>\n      <th></th>\n      <th></th>\n      <th></th>\n      <th></th>\n    </tr>\n  </thead>\n  <tbody>\n    <tr>\n      <th>2022-01-01 00:00:00+00:00</th>\n      <td>46311.746094</td>\n      <td>47827.312500</td>\n      <td>46288.484375</td>\n      <td>47686.812500</td>\n      <td>24582667004</td>\n      <td>0.0</td>\n      <td>0.0</td>\n      <td>NaN</td>\n    </tr>\n    <tr>\n      <th>2022-01-02 00:00:00+00:00</th>\n      <td>47680.925781</td>\n      <td>47881.406250</td>\n      <td>46856.937500</td>\n      <td>47345.218750</td>\n      <td>27951569547</td>\n      <td>0.0</td>\n      <td>0.0</td>\n      <td>NaN</td>\n    </tr>\n    <tr>\n      <th>2022-01-03 00:00:00+00:00</th>\n      <td>47343.542969</td>\n      <td>47510.726562</td>\n      <td>45835.964844</td>\n      <td>46458.117188</td>\n      <td>33071628362</td>\n      <td>0.0</td>\n      <td>0.0</td>\n      <td>NaN</td>\n    </tr>\n    <tr>\n      <th>2022-01-04 00:00:00+00:00</th>\n      <td>46458.851562</td>\n      <td>47406.546875</td>\n      <td>45752.464844</td>\n      <td>45897.574219</td>\n      <td>42494677905</td>\n      <td>0.0</td>\n      <td>0.0</td>\n      <td>NaN</td>\n    </tr>\n    <tr>\n      <th>2022-01-05 00:00:00+00:00</th>\n      <td>45899.359375</td>\n      <td>46929.046875</td>\n      <td>42798.222656</td>\n      <td>43569.003906</td>\n      <td>36851084859</td>\n      <td>0.0</td>\n      <td>0.0</td>\n      <td>NaN</td>\n    </tr>\n    <tr>\n      <th>...</th>\n      <td>...</td>\n      <td>...</td>\n      <td>...</td>\n      <td>...</td>\n      <td>...</td>\n      <td>...</td>\n      <td>...</td>\n      <td>...</td>\n    </tr>\n    <tr>\n      <th>2024-01-08 00:00:00+00:00</th>\n      <td>43948.707031</td>\n      <td>47218.000000</td>\n      <td>43244.082031</td>\n      <td>46970.503906</td>\n      <td>42746192015</td>\n      <td>0.0</td>\n      <td>0.0</td>\n      <td>43964.097656</td>\n    </tr>\n    <tr>\n      <th>2024-01-09 00:00:00+00:00</th>\n      <td>46987.640625</td>\n      <td>47893.699219</td>\n      <td>45244.714844</td>\n      <td>46139.730469</td>\n      <td>39821290992</td>\n      <td>0.0</td>\n      <td>0.0</td>\n      <td>44362.380469</td>\n    </tr>\n    <tr>\n      <th>2024-01-10 00:00:00+00:00</th>\n      <td>46121.539062</td>\n      <td>47647.222656</td>\n      <td>44483.152344</td>\n      <td>46627.777344</td>\n      <td>50114613298</td>\n      <td>0.0</td>\n      <td>0.0</td>\n      <td>44798.639453</td>\n    </tr>\n    <tr>\n      <th>2024-01-11 00:00:00+00:00</th>\n      <td>46656.074219</td>\n      <td>48969.371094</td>\n      <td>45678.644531</td>\n      <td>46368.585938</td>\n      <td>45833734549</td>\n      <td>0.0</td>\n      <td>0.0</td>\n      <td>45018.764844</td>\n    </tr>\n    <tr>\n      <th>2024-01-13 00:00:00+00:00</th>\n      <td>42799.445312</td>\n      <td>43117.929688</td>\n      <td>42464.460938</td>\n      <td>43117.929688</td>\n      <td>44737839104</td>\n      <td>0.0</td>\n      <td>0.0</td>\n      <td>44834.760938</td>\n    </tr>\n  </tbody>\n</table>\n<p>742 rows × 8 columns</p>\n</div>"
     },
     "execution_count": 20,
     "metadata": {},
     "output_type": "execute_result"
    }
   ],
   "source": [
    "sma10 = ta.sma(bitcoin_data[\"Close\"], length=10)\n",
    "bitcoin_data['SMA10'] = sma10\n",
    "bitcoin_data"
   ],
   "metadata": {
    "collapsed": false
   }
  },
  {
   "cell_type": "code",
   "execution_count": 22,
   "outputs": [],
   "source": [
    "# Calculate SMA10 slope\n",
    "# bitcoin_data['SMA10_Slope'] = np.gradient(bitcoin_data['SMA10'])\n",
    "\n",
    "# Calculate SMA10 slope\n",
    "bitcoin_data['SMA10_Slope'] = ta.slope(bitcoin_data['SMA10'])"
   ],
   "metadata": {
    "collapsed": false
   }
  },
  {
   "cell_type": "code",
   "execution_count": 27,
   "outputs": [
    {
     "data": {
      "text/plain": "                                   Open          High           Low  \\\nDate                                                                  \n2022-01-16 00:00:00+00:00  43172.039062  43436.808594  42691.023438   \n2022-01-19 00:00:00+00:00  42374.039062  42478.304688  41242.914062   \n2022-03-06 00:00:00+00:00  39404.199219  39640.175781  38211.648438   \n2022-03-15 00:00:00+00:00  39664.250000  39794.628906  38310.210938   \n2022-04-25 00:00:00+00:00  39472.605469  40491.753906  38338.378906   \n...                                 ...           ...           ...   \n2023-12-24 00:00:00+00:00  43728.367188  43945.523438  42786.917969   \n2023-12-28 00:00:00+00:00  43468.199219  43804.781250  42318.550781   \n2023-12-29 00:00:00+00:00  42614.644531  43124.324219  41424.062500   \n2024-01-01 00:00:00+00:00  42280.234375  44175.437500  42214.976562   \n2024-01-03 00:00:00+00:00  44961.601562  45503.242188  40813.535156   \n\n                                  Close       Volume  Dividends  Stock Splits  \\\nDate                                                                            \n2022-01-16 00:00:00+00:00  43113.878906  17902097845        0.0           0.0   \n2022-01-19 00:00:00+00:00  41744.328125  23091543258        0.0           0.0   \n2022-03-06 00:00:00+00:00  38419.984375  19745229902        0.0           0.0   \n2022-03-15 00:00:00+00:00  39338.785156  23934000868        0.0           0.0   \n2022-04-25 00:00:00+00:00  40458.308594  35445730570        0.0           0.0   \n...                                 ...          ...        ...           ...   \n2023-12-24 00:00:00+00:00  43016.117188  18830554085        0.0           0.0   \n2023-12-28 00:00:00+00:00  42627.855469  22992093014        0.0           0.0   \n2023-12-29 00:00:00+00:00  42099.402344  26000021055        0.0           0.0   \n2024-01-01 00:00:00+00:00  44167.332031  18426978443        0.0           0.0   \n2024-01-03 00:00:00+00:00  42848.175781  46342323118        0.0           0.0   \n\n                                  SMA10  SMA10_Slope  \nDate                                                  \n2022-01-16 00:00:00+00:00  42569.221094    -4.705078  \n2022-01-19 00:00:00+00:00  42685.927734   -16.727344  \n2022-03-06 00:00:00+00:00  40691.110547     8.737500  \n2022-03-15 00:00:00+00:00  39119.386719    -6.180078  \n2022-04-25 00:00:00+00:00  40352.679688    -9.515625  \n...                                 ...          ...  \n2023-12-24 00:00:00+00:00  42870.357031    -0.785547  \n2023-12-28 00:00:00+00:00  43274.974609     0.431641  \n2023-12-29 00:00:00+00:00  43257.862109   -17.112500  \n2024-01-01 00:00:00+00:00  42964.873828    16.942969  \n2024-01-03 00:00:00+00:00  43069.922266   -16.794141  \n\n[80 rows x 9 columns]",
      "text/html": "<div>\n<style scoped>\n    .dataframe tbody tr th:only-of-type {\n        vertical-align: middle;\n    }\n\n    .dataframe tbody tr th {\n        vertical-align: top;\n    }\n\n    .dataframe thead th {\n        text-align: right;\n    }\n</style>\n<table border=\"1\" class=\"dataframe\">\n  <thead>\n    <tr style=\"text-align: right;\">\n      <th></th>\n      <th>Open</th>\n      <th>High</th>\n      <th>Low</th>\n      <th>Close</th>\n      <th>Volume</th>\n      <th>Dividends</th>\n      <th>Stock Splits</th>\n      <th>SMA10</th>\n      <th>SMA10_Slope</th>\n    </tr>\n    <tr>\n      <th>Date</th>\n      <th></th>\n      <th></th>\n      <th></th>\n      <th></th>\n      <th></th>\n      <th></th>\n      <th></th>\n      <th></th>\n      <th></th>\n    </tr>\n  </thead>\n  <tbody>\n    <tr>\n      <th>2022-01-16 00:00:00+00:00</th>\n      <td>43172.039062</td>\n      <td>43436.808594</td>\n      <td>42691.023438</td>\n      <td>43113.878906</td>\n      <td>17902097845</td>\n      <td>0.0</td>\n      <td>0.0</td>\n      <td>42569.221094</td>\n      <td>-4.705078</td>\n    </tr>\n    <tr>\n      <th>2022-01-19 00:00:00+00:00</th>\n      <td>42374.039062</td>\n      <td>42478.304688</td>\n      <td>41242.914062</td>\n      <td>41744.328125</td>\n      <td>23091543258</td>\n      <td>0.0</td>\n      <td>0.0</td>\n      <td>42685.927734</td>\n      <td>-16.727344</td>\n    </tr>\n    <tr>\n      <th>2022-03-06 00:00:00+00:00</th>\n      <td>39404.199219</td>\n      <td>39640.175781</td>\n      <td>38211.648438</td>\n      <td>38419.984375</td>\n      <td>19745229902</td>\n      <td>0.0</td>\n      <td>0.0</td>\n      <td>40691.110547</td>\n      <td>8.737500</td>\n    </tr>\n    <tr>\n      <th>2022-03-15 00:00:00+00:00</th>\n      <td>39664.250000</td>\n      <td>39794.628906</td>\n      <td>38310.210938</td>\n      <td>39338.785156</td>\n      <td>23934000868</td>\n      <td>0.0</td>\n      <td>0.0</td>\n      <td>39119.386719</td>\n      <td>-6.180078</td>\n    </tr>\n    <tr>\n      <th>2022-04-25 00:00:00+00:00</th>\n      <td>39472.605469</td>\n      <td>40491.753906</td>\n      <td>38338.378906</td>\n      <td>40458.308594</td>\n      <td>35445730570</td>\n      <td>0.0</td>\n      <td>0.0</td>\n      <td>40352.679688</td>\n      <td>-9.515625</td>\n    </tr>\n    <tr>\n      <th>...</th>\n      <td>...</td>\n      <td>...</td>\n      <td>...</td>\n      <td>...</td>\n      <td>...</td>\n      <td>...</td>\n      <td>...</td>\n      <td>...</td>\n      <td>...</td>\n    </tr>\n    <tr>\n      <th>2023-12-24 00:00:00+00:00</th>\n      <td>43728.367188</td>\n      <td>43945.523438</td>\n      <td>42786.917969</td>\n      <td>43016.117188</td>\n      <td>18830554085</td>\n      <td>0.0</td>\n      <td>0.0</td>\n      <td>42870.357031</td>\n      <td>-0.785547</td>\n    </tr>\n    <tr>\n      <th>2023-12-28 00:00:00+00:00</th>\n      <td>43468.199219</td>\n      <td>43804.781250</td>\n      <td>42318.550781</td>\n      <td>42627.855469</td>\n      <td>22992093014</td>\n      <td>0.0</td>\n      <td>0.0</td>\n      <td>43274.974609</td>\n      <td>0.431641</td>\n    </tr>\n    <tr>\n      <th>2023-12-29 00:00:00+00:00</th>\n      <td>42614.644531</td>\n      <td>43124.324219</td>\n      <td>41424.062500</td>\n      <td>42099.402344</td>\n      <td>26000021055</td>\n      <td>0.0</td>\n      <td>0.0</td>\n      <td>43257.862109</td>\n      <td>-17.112500</td>\n    </tr>\n    <tr>\n      <th>2024-01-01 00:00:00+00:00</th>\n      <td>42280.234375</td>\n      <td>44175.437500</td>\n      <td>42214.976562</td>\n      <td>44167.332031</td>\n      <td>18426978443</td>\n      <td>0.0</td>\n      <td>0.0</td>\n      <td>42964.873828</td>\n      <td>16.942969</td>\n    </tr>\n    <tr>\n      <th>2024-01-03 00:00:00+00:00</th>\n      <td>44961.601562</td>\n      <td>45503.242188</td>\n      <td>40813.535156</td>\n      <td>42848.175781</td>\n      <td>46342323118</td>\n      <td>0.0</td>\n      <td>0.0</td>\n      <td>43069.922266</td>\n      <td>-16.794141</td>\n    </tr>\n  </tbody>\n</table>\n<p>80 rows × 9 columns</p>\n</div>"
     },
     "execution_count": 27,
     "metadata": {},
     "output_type": "execute_result"
    }
   ],
   "source": [
    "bitcoin_data[abs(bitcoin_data.SMA10_Slope) < 20]"
   ],
   "metadata": {
    "collapsed": false
   }
  },
  {
   "cell_type": "code",
   "execution_count": 52,
   "outputs": [],
   "source": [],
   "metadata": {
    "collapsed": false
   }
  },
  {
   "cell_type": "code",
   "execution_count": 2,
   "outputs": [
    {
     "name": "stdout",
     "output_type": "stream",
     "text": [
      "The difference between the two dates is: 346 days, 0:00:00\n"
     ]
    }
   ],
   "source": [
    "from datetime import datetime\n",
    "\n",
    "# Example dates\n",
    "date_str1 = \"2023-02-15\"\n",
    "date_str2 = \"2024-01-27\"\n",
    "\n",
    "# Convert string dates to datetime objects\n",
    "date_obj1 = datetime.strptime(date_str1, \"%Y-%m-%d\")\n",
    "date_obj2 = datetime.strptime(date_str2, \"%Y-%m-%d\")\n",
    "\n",
    "# Calculate the difference between the two dates\n",
    "date_difference = date_obj2 - date_obj1\n",
    "\n",
    "# Print the result\n",
    "print(f\"The difference between the two dates is: {date_difference}\")\n"
   ],
   "metadata": {
    "collapsed": false
   }
  },
  {
   "cell_type": "code",
   "execution_count": 19,
   "outputs": [
    {
     "data": {
      "text/plain": "Timestamp('2022-01-01 00:00:00+0000', tz='UTC')"
     },
     "execution_count": 19,
     "metadata": {},
     "output_type": "execute_result"
    }
   ],
   "source": [
    "bitcoin_data.index[0]"
   ],
   "metadata": {
    "collapsed": false
   }
  },
  {
   "cell_type": "code",
   "execution_count": 20,
   "outputs": [
    {
     "data": {
      "text/plain": "Empty DataFrame\nColumns: [Open, High, Low, Close, Volume, Dividends, Stock Splits]\nIndex: []",
      "text/html": "<div>\n<style scoped>\n    .dataframe tbody tr th:only-of-type {\n        vertical-align: middle;\n    }\n\n    .dataframe tbody tr th {\n        vertical-align: top;\n    }\n\n    .dataframe thead th {\n        text-align: right;\n    }\n</style>\n<table border=\"1\" class=\"dataframe\">\n  <thead>\n    <tr style=\"text-align: right;\">\n      <th></th>\n      <th>Open</th>\n      <th>High</th>\n      <th>Low</th>\n      <th>Close</th>\n      <th>Volume</th>\n      <th>Dividends</th>\n      <th>Stock Splits</th>\n    </tr>\n    <tr>\n      <th>Date</th>\n      <th></th>\n      <th></th>\n      <th></th>\n      <th></th>\n      <th></th>\n      <th></th>\n      <th></th>\n    </tr>\n  </thead>\n  <tbody>\n  </tbody>\n</table>\n</div>"
     },
     "execution_count": 20,
     "metadata": {},
     "output_type": "execute_result"
    }
   ],
   "source": [
    "import pandas as pd\n",
    "\n",
    "# bitcoin_data['Date'] = pd.to_datetime(bitcoin_data['Date'])\n",
    "target_date = pd.to_datetime('2022-01-05')\n",
    "bitcoin_data[bitcoin_data.index == target_date]\n"
   ],
   "metadata": {
    "collapsed": false
   }
  },
  {
   "cell_type": "code",
   "execution_count": null,
   "outputs": [],
   "source": [
    "bitcoin_data[bitcoin_data['Date'] == target_date]"
   ],
   "metadata": {
    "collapsed": false,
    "pycharm": {
     "is_executing": true
    }
   }
  },
  {
   "cell_type": "code",
   "execution_count": 23,
   "outputs": [
    {
     "ename": "KeyError",
     "evalue": "Timestamp('2023-01-27 00:00:00')",
     "output_type": "error",
     "traceback": [
      "\u001B[0;31m---------------------------------------------------------------------------\u001B[0m",
      "\u001B[0;31mTypeError\u001B[0m                                 Traceback (most recent call last)",
      "File \u001B[0;32m~/anaconda3/envs/okx-trading/lib/python3.10/site-packages/pandas/core/indexes/datetimes.py:532\u001B[0m, in \u001B[0;36mDatetimeIndex._disallow_mismatched_indexing\u001B[0;34m(self, key)\u001B[0m\n\u001B[1;32m    530\u001B[0m \u001B[38;5;28;01mtry\u001B[39;00m:\n\u001B[1;32m    531\u001B[0m     \u001B[38;5;66;03m# GH#36148\u001B[39;00m\n\u001B[0;32m--> 532\u001B[0m     \u001B[38;5;28;43mself\u001B[39;49m\u001B[38;5;241;43m.\u001B[39;49m\u001B[43m_data\u001B[49m\u001B[38;5;241;43m.\u001B[39;49m\u001B[43m_assert_tzawareness_compat\u001B[49m\u001B[43m(\u001B[49m\u001B[43mkey\u001B[49m\u001B[43m)\u001B[49m\n\u001B[1;32m    533\u001B[0m \u001B[38;5;28;01mexcept\u001B[39;00m \u001B[38;5;167;01mTypeError\u001B[39;00m \u001B[38;5;28;01mas\u001B[39;00m err:\n",
      "File \u001B[0;32m~/anaconda3/envs/okx-trading/lib/python3.10/site-packages/pandas/core/arrays/datetimes.py:748\u001B[0m, in \u001B[0;36mDatetimeArray._assert_tzawareness_compat\u001B[0;34m(self, other)\u001B[0m\n\u001B[1;32m    747\u001B[0m \u001B[38;5;28;01melif\u001B[39;00m other_tz \u001B[38;5;129;01mis\u001B[39;00m \u001B[38;5;28;01mNone\u001B[39;00m:\n\u001B[0;32m--> 748\u001B[0m     \u001B[38;5;28;01mraise\u001B[39;00m \u001B[38;5;167;01mTypeError\u001B[39;00m(\n\u001B[1;32m    749\u001B[0m         \u001B[38;5;124m\"\u001B[39m\u001B[38;5;124mCannot compare tz-naive and tz-aware datetime-like objects\u001B[39m\u001B[38;5;124m\"\u001B[39m\n\u001B[1;32m    750\u001B[0m     )\n",
      "\u001B[0;31mTypeError\u001B[0m: Cannot compare tz-naive and tz-aware datetime-like objects",
      "\nThe above exception was the direct cause of the following exception:\n",
      "\u001B[0;31mKeyError\u001B[0m                                  Traceback (most recent call last)",
      "Cell \u001B[0;32mIn[23], line 4\u001B[0m\n\u001B[1;32m      1\u001B[0m target_date \u001B[38;5;241m=\u001B[39m pd\u001B[38;5;241m.\u001B[39mto_datetime(\u001B[38;5;124m'\u001B[39m\u001B[38;5;124m2023-01-27\u001B[39m\u001B[38;5;124m'\u001B[39m)\n\u001B[1;32m      3\u001B[0m \u001B[38;5;66;03m# Use .loc to get the row for the specified date\u001B[39;00m\n\u001B[0;32m----> 4\u001B[0m price_for_target_date \u001B[38;5;241m=\u001B[39m \u001B[43mbitcoin_data\u001B[49m\u001B[38;5;241;43m.\u001B[39;49m\u001B[43mloc\u001B[49m\u001B[43m[\u001B[49m\u001B[43mtarget_date\u001B[49m\u001B[43m,\u001B[49m\u001B[43m \u001B[49m\u001B[38;5;124;43m'\u001B[39;49m\u001B[38;5;124;43mClose\u001B[39;49m\u001B[38;5;124;43m'\u001B[39;49m\u001B[43m]\u001B[49m  \u001B[38;5;66;03m# Replace 'Close' with your actual column name\u001B[39;00m\n",
      "File \u001B[0;32m~/anaconda3/envs/okx-trading/lib/python3.10/site-packages/pandas/core/indexing.py:1096\u001B[0m, in \u001B[0;36m_LocationIndexer.__getitem__\u001B[0;34m(self, key)\u001B[0m\n\u001B[1;32m   1094\u001B[0m     key \u001B[38;5;241m=\u001B[39m \u001B[38;5;28mtuple\u001B[39m(com\u001B[38;5;241m.\u001B[39mapply_if_callable(x, \u001B[38;5;28mself\u001B[39m\u001B[38;5;241m.\u001B[39mobj) \u001B[38;5;28;01mfor\u001B[39;00m x \u001B[38;5;129;01min\u001B[39;00m key)\n\u001B[1;32m   1095\u001B[0m     \u001B[38;5;28;01mif\u001B[39;00m \u001B[38;5;28mself\u001B[39m\u001B[38;5;241m.\u001B[39m_is_scalar_access(key):\n\u001B[0;32m-> 1096\u001B[0m         \u001B[38;5;28;01mreturn\u001B[39;00m \u001B[38;5;28;43mself\u001B[39;49m\u001B[38;5;241;43m.\u001B[39;49m\u001B[43mobj\u001B[49m\u001B[38;5;241;43m.\u001B[39;49m\u001B[43m_get_value\u001B[49m\u001B[43m(\u001B[49m\u001B[38;5;241;43m*\u001B[39;49m\u001B[43mkey\u001B[49m\u001B[43m,\u001B[49m\u001B[43m \u001B[49m\u001B[43mtakeable\u001B[49m\u001B[38;5;241;43m=\u001B[39;49m\u001B[38;5;28;43mself\u001B[39;49m\u001B[38;5;241;43m.\u001B[39;49m\u001B[43m_takeable\u001B[49m\u001B[43m)\u001B[49m\n\u001B[1;32m   1097\u001B[0m     \u001B[38;5;28;01mreturn\u001B[39;00m \u001B[38;5;28mself\u001B[39m\u001B[38;5;241m.\u001B[39m_getitem_tuple(key)\n\u001B[1;32m   1098\u001B[0m \u001B[38;5;28;01melse\u001B[39;00m:\n\u001B[1;32m   1099\u001B[0m     \u001B[38;5;66;03m# we by definition only have the 0th axis\u001B[39;00m\n",
      "File \u001B[0;32m~/anaconda3/envs/okx-trading/lib/python3.10/site-packages/pandas/core/frame.py:3877\u001B[0m, in \u001B[0;36mDataFrame._get_value\u001B[0;34m(self, index, col, takeable)\u001B[0m\n\u001B[1;32m   3871\u001B[0m engine \u001B[38;5;241m=\u001B[39m \u001B[38;5;28mself\u001B[39m\u001B[38;5;241m.\u001B[39mindex\u001B[38;5;241m.\u001B[39m_engine\n\u001B[1;32m   3873\u001B[0m \u001B[38;5;28;01mif\u001B[39;00m \u001B[38;5;129;01mnot\u001B[39;00m \u001B[38;5;28misinstance\u001B[39m(\u001B[38;5;28mself\u001B[39m\u001B[38;5;241m.\u001B[39mindex, MultiIndex):\n\u001B[1;32m   3874\u001B[0m     \u001B[38;5;66;03m# CategoricalIndex: Trying to use the engine fastpath may give incorrect\u001B[39;00m\n\u001B[1;32m   3875\u001B[0m     \u001B[38;5;66;03m#  results if our categories are integers that dont match our codes\u001B[39;00m\n\u001B[1;32m   3876\u001B[0m     \u001B[38;5;66;03m# IntervalIndex: IntervalTree has no get_loc\u001B[39;00m\n\u001B[0;32m-> 3877\u001B[0m     row \u001B[38;5;241m=\u001B[39m \u001B[38;5;28;43mself\u001B[39;49m\u001B[38;5;241;43m.\u001B[39;49m\u001B[43mindex\u001B[49m\u001B[38;5;241;43m.\u001B[39;49m\u001B[43mget_loc\u001B[49m\u001B[43m(\u001B[49m\u001B[43mindex\u001B[49m\u001B[43m)\u001B[49m\n\u001B[1;32m   3878\u001B[0m     \u001B[38;5;28;01mreturn\u001B[39;00m series\u001B[38;5;241m.\u001B[39m_values[row]\n\u001B[1;32m   3880\u001B[0m \u001B[38;5;66;03m# For MultiIndex going through engine effectively restricts us to\u001B[39;00m\n\u001B[1;32m   3881\u001B[0m \u001B[38;5;66;03m#  same-length tuples; see test_get_set_value_no_partial_indexing\u001B[39;00m\n",
      "File \u001B[0;32m~/anaconda3/envs/okx-trading/lib/python3.10/site-packages/pandas/core/indexes/datetimes.py:552\u001B[0m, in \u001B[0;36mDatetimeIndex.get_loc\u001B[0;34m(self, key)\u001B[0m\n\u001B[1;32m    548\u001B[0m     key \u001B[38;5;241m=\u001B[39m NaT\n\u001B[1;32m    550\u001B[0m \u001B[38;5;28;01mif\u001B[39;00m \u001B[38;5;28misinstance\u001B[39m(key, \u001B[38;5;28mself\u001B[39m\u001B[38;5;241m.\u001B[39m_data\u001B[38;5;241m.\u001B[39m_recognized_scalars):\n\u001B[1;32m    551\u001B[0m     \u001B[38;5;66;03m# needed to localize naive datetimes\u001B[39;00m\n\u001B[0;32m--> 552\u001B[0m     \u001B[38;5;28;43mself\u001B[39;49m\u001B[38;5;241;43m.\u001B[39;49m\u001B[43m_disallow_mismatched_indexing\u001B[49m\u001B[43m(\u001B[49m\u001B[43mkey\u001B[49m\u001B[43m)\u001B[49m\n\u001B[1;32m    553\u001B[0m     key \u001B[38;5;241m=\u001B[39m Timestamp(key)\n\u001B[1;32m    555\u001B[0m \u001B[38;5;28;01melif\u001B[39;00m \u001B[38;5;28misinstance\u001B[39m(key, \u001B[38;5;28mstr\u001B[39m):\n",
      "File \u001B[0;32m~/anaconda3/envs/okx-trading/lib/python3.10/site-packages/pandas/core/indexes/datetimes.py:534\u001B[0m, in \u001B[0;36mDatetimeIndex._disallow_mismatched_indexing\u001B[0;34m(self, key)\u001B[0m\n\u001B[1;32m    532\u001B[0m     \u001B[38;5;28mself\u001B[39m\u001B[38;5;241m.\u001B[39m_data\u001B[38;5;241m.\u001B[39m_assert_tzawareness_compat(key)\n\u001B[1;32m    533\u001B[0m \u001B[38;5;28;01mexcept\u001B[39;00m \u001B[38;5;167;01mTypeError\u001B[39;00m \u001B[38;5;28;01mas\u001B[39;00m err:\n\u001B[0;32m--> 534\u001B[0m     \u001B[38;5;28;01mraise\u001B[39;00m \u001B[38;5;167;01mKeyError\u001B[39;00m(key) \u001B[38;5;28;01mfrom\u001B[39;00m \u001B[38;5;21;01merr\u001B[39;00m\n",
      "\u001B[0;31mKeyError\u001B[0m: Timestamp('2023-01-27 00:00:00')"
     ]
    }
   ],
   "source": [
    "target_date = pd.to_datetime('2023-01-27')\n",
    "\n",
    "# Use .loc to get the row for the specified date\n",
    "price_for_target_date = bitcoin_data.loc[target_date, 'Close']  # Replace 'Close' with your actual column name\n"
   ],
   "metadata": {
    "collapsed": false
   }
  },
  {
   "cell_type": "code",
   "execution_count": 25,
   "outputs": [
    {
     "name": "stdout",
     "output_type": "stream",
     "text": [
      "DatetimeIndex(['2022-01-01 00:00:00+00:00', '2022-01-02 00:00:00+00:00',\n",
      "               '2022-01-03 00:00:00+00:00', '2022-01-04 00:00:00+00:00',\n",
      "               '2022-01-05 00:00:00+00:00', '2022-01-06 00:00:00+00:00',\n",
      "               '2022-01-07 00:00:00+00:00', '2022-01-08 00:00:00+00:00',\n",
      "               '2022-01-09 00:00:00+00:00', '2022-01-10 00:00:00+00:00',\n",
      "               ...\n",
      "               '2024-01-18 00:00:00+00:00', '2024-01-19 00:00:00+00:00',\n",
      "               '2024-01-20 00:00:00+00:00', '2024-01-21 00:00:00+00:00',\n",
      "               '2024-01-22 00:00:00+00:00', '2024-01-23 00:00:00+00:00',\n",
      "               '2024-01-24 00:00:00+00:00', '2024-01-25 00:00:00+00:00',\n",
      "               '2024-01-26 00:00:00+00:00', '2024-01-27 00:00:00+00:00'],\n",
      "              dtype='datetime64[ns, UTC]', name='Date', length=757, freq=None)\n"
     ]
    }
   ],
   "source": [
    "# Assuming 'bitcoin_data' has a continuous date range\n",
    "bitcoin_data = bitcoin_data.reindex(pd.date_range(start='2022-01-01', end='2024-01-27', freq='D'))\n"
   ],
   "metadata": {
    "collapsed": false
   }
  },
  {
   "cell_type": "code",
   "execution_count": 37,
   "outputs": [
    {
     "data": {
      "text/plain": "                                   Open          High           Low  \\\nDate                                                                  \n2022-01-01 00:00:00+00:00  46311.746094  47827.312500  46288.484375   \n2022-01-02 00:00:00+00:00  47680.925781  47881.406250  46856.937500   \n2022-01-03 00:00:00+00:00  47343.542969  47510.726562  45835.964844   \n2022-01-04 00:00:00+00:00  46458.851562  47406.546875  45752.464844   \n2022-01-05 00:00:00+00:00  45899.359375  46929.046875  42798.222656   \n...                                 ...           ...           ...   \n2024-01-23 00:00:00+00:00  39518.714844  40127.351562  38521.894531   \n2024-01-24 00:00:00+00:00  39877.593750  40483.785156  39508.796875   \n2024-01-25 00:00:00+00:00  40075.550781  40254.480469  39545.664062   \n2024-01-26 00:00:00+00:00  39936.816406  42209.386719  39825.691406   \n2024-01-27 00:00:00+00:00  41815.625000  41926.406250  41472.210938   \n\n                                  Close       Volume  Dividends  Stock Splits  \nDate                                                                           \n2022-01-01 00:00:00+00:00  47686.812500  24582667004        0.0           0.0  \n2022-01-02 00:00:00+00:00  47345.218750  27951569547        0.0           0.0  \n2022-01-03 00:00:00+00:00  46458.117188  33071628362        0.0           0.0  \n2022-01-04 00:00:00+00:00  45897.574219  42494677905        0.0           0.0  \n2022-01-05 00:00:00+00:00  43569.003906  36851084859        0.0           0.0  \n...                                 ...          ...        ...           ...  \n2024-01-23 00:00:00+00:00  39845.550781  29244553045        0.0           0.0  \n2024-01-24 00:00:00+00:00  40077.074219  22359526178        0.0           0.0  \n2024-01-25 00:00:00+00:00  39933.808594  18491782013        0.0           0.0  \n2024-01-26 00:00:00+00:00  41816.871094  25598119893        0.0           0.0  \n2024-01-27 00:00:00+00:00  41727.886719  19148367872        0.0           0.0  \n\n[757 rows x 7 columns]",
      "text/html": "<div>\n<style scoped>\n    .dataframe tbody tr th:only-of-type {\n        vertical-align: middle;\n    }\n\n    .dataframe tbody tr th {\n        vertical-align: top;\n    }\n\n    .dataframe thead th {\n        text-align: right;\n    }\n</style>\n<table border=\"1\" class=\"dataframe\">\n  <thead>\n    <tr style=\"text-align: right;\">\n      <th></th>\n      <th>Open</th>\n      <th>High</th>\n      <th>Low</th>\n      <th>Close</th>\n      <th>Volume</th>\n      <th>Dividends</th>\n      <th>Stock Splits</th>\n    </tr>\n    <tr>\n      <th>Date</th>\n      <th></th>\n      <th></th>\n      <th></th>\n      <th></th>\n      <th></th>\n      <th></th>\n      <th></th>\n    </tr>\n  </thead>\n  <tbody>\n    <tr>\n      <th>2022-01-01 00:00:00+00:00</th>\n      <td>46311.746094</td>\n      <td>47827.312500</td>\n      <td>46288.484375</td>\n      <td>47686.812500</td>\n      <td>24582667004</td>\n      <td>0.0</td>\n      <td>0.0</td>\n    </tr>\n    <tr>\n      <th>2022-01-02 00:00:00+00:00</th>\n      <td>47680.925781</td>\n      <td>47881.406250</td>\n      <td>46856.937500</td>\n      <td>47345.218750</td>\n      <td>27951569547</td>\n      <td>0.0</td>\n      <td>0.0</td>\n    </tr>\n    <tr>\n      <th>2022-01-03 00:00:00+00:00</th>\n      <td>47343.542969</td>\n      <td>47510.726562</td>\n      <td>45835.964844</td>\n      <td>46458.117188</td>\n      <td>33071628362</td>\n      <td>0.0</td>\n      <td>0.0</td>\n    </tr>\n    <tr>\n      <th>2022-01-04 00:00:00+00:00</th>\n      <td>46458.851562</td>\n      <td>47406.546875</td>\n      <td>45752.464844</td>\n      <td>45897.574219</td>\n      <td>42494677905</td>\n      <td>0.0</td>\n      <td>0.0</td>\n    </tr>\n    <tr>\n      <th>2022-01-05 00:00:00+00:00</th>\n      <td>45899.359375</td>\n      <td>46929.046875</td>\n      <td>42798.222656</td>\n      <td>43569.003906</td>\n      <td>36851084859</td>\n      <td>0.0</td>\n      <td>0.0</td>\n    </tr>\n    <tr>\n      <th>...</th>\n      <td>...</td>\n      <td>...</td>\n      <td>...</td>\n      <td>...</td>\n      <td>...</td>\n      <td>...</td>\n      <td>...</td>\n    </tr>\n    <tr>\n      <th>2024-01-23 00:00:00+00:00</th>\n      <td>39518.714844</td>\n      <td>40127.351562</td>\n      <td>38521.894531</td>\n      <td>39845.550781</td>\n      <td>29244553045</td>\n      <td>0.0</td>\n      <td>0.0</td>\n    </tr>\n    <tr>\n      <th>2024-01-24 00:00:00+00:00</th>\n      <td>39877.593750</td>\n      <td>40483.785156</td>\n      <td>39508.796875</td>\n      <td>40077.074219</td>\n      <td>22359526178</td>\n      <td>0.0</td>\n      <td>0.0</td>\n    </tr>\n    <tr>\n      <th>2024-01-25 00:00:00+00:00</th>\n      <td>40075.550781</td>\n      <td>40254.480469</td>\n      <td>39545.664062</td>\n      <td>39933.808594</td>\n      <td>18491782013</td>\n      <td>0.0</td>\n      <td>0.0</td>\n    </tr>\n    <tr>\n      <th>2024-01-26 00:00:00+00:00</th>\n      <td>39936.816406</td>\n      <td>42209.386719</td>\n      <td>39825.691406</td>\n      <td>41816.871094</td>\n      <td>25598119893</td>\n      <td>0.0</td>\n      <td>0.0</td>\n    </tr>\n    <tr>\n      <th>2024-01-27 00:00:00+00:00</th>\n      <td>41815.625000</td>\n      <td>41926.406250</td>\n      <td>41472.210938</td>\n      <td>41727.886719</td>\n      <td>19148367872</td>\n      <td>0.0</td>\n      <td>0.0</td>\n    </tr>\n  </tbody>\n</table>\n<p>757 rows × 7 columns</p>\n</div>"
     },
     "execution_count": 37,
     "metadata": {},
     "output_type": "execute_result"
    }
   ],
   "source": [
    "bitcoin_data"
   ],
   "metadata": {
    "collapsed": false
   }
  },
  {
   "cell_type": "code",
   "execution_count": 39,
   "outputs": [
    {
     "name": "stdout",
     "output_type": "stream",
     "text": [
      "Difference in days: 5\n"
     ]
    }
   ],
   "source": [
    "import pandas as pd\n",
    "\n",
    "# Example Unix timestamps (replace these with your actual timestamps)\n",
    "timestamp1 = 1641072000  # Unix timestamp for '2022-01-03 00:00:00'\n",
    "timestamp2 = 1641494400  # Unix timestamp for '2022-01-07 00:00:00'\n",
    "\n",
    "# Calculate the difference in seconds\n",
    "difference_in_seconds = timestamp2 - timestamp1\n",
    "\n",
    "# Convert the difference to days\n",
    "difference_in_days = difference_in_seconds / (24 * 3600)\n",
    "rounded_difference_in_days = round(difference_in_days)\n",
    "\n",
    "print(f\"Difference in days: {rounded_difference_in_days}\")"
   ],
   "metadata": {
    "collapsed": false
   }
  },
  {
   "cell_type": "code",
   "execution_count": 36,
   "outputs": [
    {
     "ename": "KeyError",
     "evalue": "Timestamp('2023-01-27 00:00:00')",
     "output_type": "error",
     "traceback": [
      "\u001B[0;31m---------------------------------------------------------------------------\u001B[0m",
      "\u001B[0;31mTypeError\u001B[0m                                 Traceback (most recent call last)",
      "File \u001B[0;32m~/anaconda3/envs/okx-trading/lib/python3.10/site-packages/pandas/core/indexes/datetimes.py:532\u001B[0m, in \u001B[0;36mDatetimeIndex._disallow_mismatched_indexing\u001B[0;34m(self, key)\u001B[0m\n\u001B[1;32m    530\u001B[0m \u001B[38;5;28;01mtry\u001B[39;00m:\n\u001B[1;32m    531\u001B[0m     \u001B[38;5;66;03m# GH#36148\u001B[39;00m\n\u001B[0;32m--> 532\u001B[0m     \u001B[38;5;28;43mself\u001B[39;49m\u001B[38;5;241;43m.\u001B[39;49m\u001B[43m_data\u001B[49m\u001B[38;5;241;43m.\u001B[39;49m\u001B[43m_assert_tzawareness_compat\u001B[49m\u001B[43m(\u001B[49m\u001B[43mkey\u001B[49m\u001B[43m)\u001B[49m\n\u001B[1;32m    533\u001B[0m \u001B[38;5;28;01mexcept\u001B[39;00m \u001B[38;5;167;01mTypeError\u001B[39;00m \u001B[38;5;28;01mas\u001B[39;00m err:\n",
      "File \u001B[0;32m~/anaconda3/envs/okx-trading/lib/python3.10/site-packages/pandas/core/arrays/datetimes.py:748\u001B[0m, in \u001B[0;36mDatetimeArray._assert_tzawareness_compat\u001B[0;34m(self, other)\u001B[0m\n\u001B[1;32m    747\u001B[0m \u001B[38;5;28;01melif\u001B[39;00m other_tz \u001B[38;5;129;01mis\u001B[39;00m \u001B[38;5;28;01mNone\u001B[39;00m:\n\u001B[0;32m--> 748\u001B[0m     \u001B[38;5;28;01mraise\u001B[39;00m \u001B[38;5;167;01mTypeError\u001B[39;00m(\n\u001B[1;32m    749\u001B[0m         \u001B[38;5;124m\"\u001B[39m\u001B[38;5;124mCannot compare tz-naive and tz-aware datetime-like objects\u001B[39m\u001B[38;5;124m\"\u001B[39m\n\u001B[1;32m    750\u001B[0m     )\n",
      "\u001B[0;31mTypeError\u001B[0m: Cannot compare tz-naive and tz-aware datetime-like objects",
      "\nThe above exception was the direct cause of the following exception:\n",
      "\u001B[0;31mKeyError\u001B[0m                                  Traceback (most recent call last)",
      "Cell \u001B[0;32mIn[36], line 4\u001B[0m\n\u001B[1;32m      1\u001B[0m target_date \u001B[38;5;241m=\u001B[39m pd\u001B[38;5;241m.\u001B[39mto_datetime(\u001B[38;5;124m'\u001B[39m\u001B[38;5;124m2023-01-27\u001B[39m\u001B[38;5;124m'\u001B[39m)\n\u001B[1;32m      3\u001B[0m \u001B[38;5;66;03m# Use .loc to get the row for the specified date\u001B[39;00m\n\u001B[0;32m----> 4\u001B[0m price_for_target_date \u001B[38;5;241m=\u001B[39m \u001B[43mbitcoin_data\u001B[49m\u001B[38;5;241;43m.\u001B[39;49m\u001B[43mloc\u001B[49m\u001B[43m[\u001B[49m\u001B[43mtarget_date\u001B[49m\u001B[43m,\u001B[49m\u001B[43m \u001B[49m\u001B[38;5;124;43m'\u001B[39;49m\u001B[38;5;124;43mClose\u001B[39;49m\u001B[38;5;124;43m'\u001B[39;49m\u001B[43m]\u001B[49m\n\u001B[1;32m      5\u001B[0m price_for_target_date\n",
      "File \u001B[0;32m~/anaconda3/envs/okx-trading/lib/python3.10/site-packages/pandas/core/indexing.py:1096\u001B[0m, in \u001B[0;36m_LocationIndexer.__getitem__\u001B[0;34m(self, key)\u001B[0m\n\u001B[1;32m   1094\u001B[0m     key \u001B[38;5;241m=\u001B[39m \u001B[38;5;28mtuple\u001B[39m(com\u001B[38;5;241m.\u001B[39mapply_if_callable(x, \u001B[38;5;28mself\u001B[39m\u001B[38;5;241m.\u001B[39mobj) \u001B[38;5;28;01mfor\u001B[39;00m x \u001B[38;5;129;01min\u001B[39;00m key)\n\u001B[1;32m   1095\u001B[0m     \u001B[38;5;28;01mif\u001B[39;00m \u001B[38;5;28mself\u001B[39m\u001B[38;5;241m.\u001B[39m_is_scalar_access(key):\n\u001B[0;32m-> 1096\u001B[0m         \u001B[38;5;28;01mreturn\u001B[39;00m \u001B[38;5;28;43mself\u001B[39;49m\u001B[38;5;241;43m.\u001B[39;49m\u001B[43mobj\u001B[49m\u001B[38;5;241;43m.\u001B[39;49m\u001B[43m_get_value\u001B[49m\u001B[43m(\u001B[49m\u001B[38;5;241;43m*\u001B[39;49m\u001B[43mkey\u001B[49m\u001B[43m,\u001B[49m\u001B[43m \u001B[49m\u001B[43mtakeable\u001B[49m\u001B[38;5;241;43m=\u001B[39;49m\u001B[38;5;28;43mself\u001B[39;49m\u001B[38;5;241;43m.\u001B[39;49m\u001B[43m_takeable\u001B[49m\u001B[43m)\u001B[49m\n\u001B[1;32m   1097\u001B[0m     \u001B[38;5;28;01mreturn\u001B[39;00m \u001B[38;5;28mself\u001B[39m\u001B[38;5;241m.\u001B[39m_getitem_tuple(key)\n\u001B[1;32m   1098\u001B[0m \u001B[38;5;28;01melse\u001B[39;00m:\n\u001B[1;32m   1099\u001B[0m     \u001B[38;5;66;03m# we by definition only have the 0th axis\u001B[39;00m\n",
      "File \u001B[0;32m~/anaconda3/envs/okx-trading/lib/python3.10/site-packages/pandas/core/frame.py:3877\u001B[0m, in \u001B[0;36mDataFrame._get_value\u001B[0;34m(self, index, col, takeable)\u001B[0m\n\u001B[1;32m   3871\u001B[0m engine \u001B[38;5;241m=\u001B[39m \u001B[38;5;28mself\u001B[39m\u001B[38;5;241m.\u001B[39mindex\u001B[38;5;241m.\u001B[39m_engine\n\u001B[1;32m   3873\u001B[0m \u001B[38;5;28;01mif\u001B[39;00m \u001B[38;5;129;01mnot\u001B[39;00m \u001B[38;5;28misinstance\u001B[39m(\u001B[38;5;28mself\u001B[39m\u001B[38;5;241m.\u001B[39mindex, MultiIndex):\n\u001B[1;32m   3874\u001B[0m     \u001B[38;5;66;03m# CategoricalIndex: Trying to use the engine fastpath may give incorrect\u001B[39;00m\n\u001B[1;32m   3875\u001B[0m     \u001B[38;5;66;03m#  results if our categories are integers that dont match our codes\u001B[39;00m\n\u001B[1;32m   3876\u001B[0m     \u001B[38;5;66;03m# IntervalIndex: IntervalTree has no get_loc\u001B[39;00m\n\u001B[0;32m-> 3877\u001B[0m     row \u001B[38;5;241m=\u001B[39m \u001B[38;5;28;43mself\u001B[39;49m\u001B[38;5;241;43m.\u001B[39;49m\u001B[43mindex\u001B[49m\u001B[38;5;241;43m.\u001B[39;49m\u001B[43mget_loc\u001B[49m\u001B[43m(\u001B[49m\u001B[43mindex\u001B[49m\u001B[43m)\u001B[49m\n\u001B[1;32m   3878\u001B[0m     \u001B[38;5;28;01mreturn\u001B[39;00m series\u001B[38;5;241m.\u001B[39m_values[row]\n\u001B[1;32m   3880\u001B[0m \u001B[38;5;66;03m# For MultiIndex going through engine effectively restricts us to\u001B[39;00m\n\u001B[1;32m   3881\u001B[0m \u001B[38;5;66;03m#  same-length tuples; see test_get_set_value_no_partial_indexing\u001B[39;00m\n",
      "File \u001B[0;32m~/anaconda3/envs/okx-trading/lib/python3.10/site-packages/pandas/core/indexes/datetimes.py:552\u001B[0m, in \u001B[0;36mDatetimeIndex.get_loc\u001B[0;34m(self, key)\u001B[0m\n\u001B[1;32m    548\u001B[0m     key \u001B[38;5;241m=\u001B[39m NaT\n\u001B[1;32m    550\u001B[0m \u001B[38;5;28;01mif\u001B[39;00m \u001B[38;5;28misinstance\u001B[39m(key, \u001B[38;5;28mself\u001B[39m\u001B[38;5;241m.\u001B[39m_data\u001B[38;5;241m.\u001B[39m_recognized_scalars):\n\u001B[1;32m    551\u001B[0m     \u001B[38;5;66;03m# needed to localize naive datetimes\u001B[39;00m\n\u001B[0;32m--> 552\u001B[0m     \u001B[38;5;28;43mself\u001B[39;49m\u001B[38;5;241;43m.\u001B[39;49m\u001B[43m_disallow_mismatched_indexing\u001B[49m\u001B[43m(\u001B[49m\u001B[43mkey\u001B[49m\u001B[43m)\u001B[49m\n\u001B[1;32m    553\u001B[0m     key \u001B[38;5;241m=\u001B[39m Timestamp(key)\n\u001B[1;32m    555\u001B[0m \u001B[38;5;28;01melif\u001B[39;00m \u001B[38;5;28misinstance\u001B[39m(key, \u001B[38;5;28mstr\u001B[39m):\n",
      "File \u001B[0;32m~/anaconda3/envs/okx-trading/lib/python3.10/site-packages/pandas/core/indexes/datetimes.py:534\u001B[0m, in \u001B[0;36mDatetimeIndex._disallow_mismatched_indexing\u001B[0;34m(self, key)\u001B[0m\n\u001B[1;32m    532\u001B[0m     \u001B[38;5;28mself\u001B[39m\u001B[38;5;241m.\u001B[39m_data\u001B[38;5;241m.\u001B[39m_assert_tzawareness_compat(key)\n\u001B[1;32m    533\u001B[0m \u001B[38;5;28;01mexcept\u001B[39;00m \u001B[38;5;167;01mTypeError\u001B[39;00m \u001B[38;5;28;01mas\u001B[39;00m err:\n\u001B[0;32m--> 534\u001B[0m     \u001B[38;5;28;01mraise\u001B[39;00m \u001B[38;5;167;01mKeyError\u001B[39;00m(key) \u001B[38;5;28;01mfrom\u001B[39;00m \u001B[38;5;21;01merr\u001B[39;00m\n",
      "\u001B[0;31mKeyError\u001B[0m: Timestamp('2023-01-27 00:00:00')"
     ]
    }
   ],
   "source": [
    "target_date = pd.to_datetime('2023-01-27')\n",
    "\n",
    "# Use .loc to get the row for the specified date\n",
    "price_for_target_date = bitcoin_data.loc[target_date, 'Close']\n",
    "price_for_target_date"
   ],
   "metadata": {
    "collapsed": false
   }
  },
  {
   "cell_type": "code",
   "execution_count": 28,
   "outputs": [
    {
     "data": {
      "text/plain": "nan"
     },
     "execution_count": 28,
     "metadata": {},
     "output_type": "execute_result"
    }
   ],
   "source": [
    "price_for_target_date"
   ],
   "metadata": {
    "collapsed": false
   }
  },
  {
   "cell_type": "code",
   "execution_count": 29,
   "outputs": [
    {
     "name": "stdout",
     "output_type": "stream",
     "text": [
      "Timestamp: 2022-01-01 00:00:00+00:00\n"
     ]
    }
   ],
   "source": [
    "import pandas as pd\n",
    "\n",
    "date_string = '2022-01-01 00:00:00+00:00'\n",
    "\n",
    "# Convert string to timestamp\n",
    "timestamp = pd.to_datetime(date_string)\n",
    "\n",
    "print(f\"Timestamp: {timestamp}\")"
   ],
   "metadata": {
    "collapsed": false
   }
  },
  {
   "cell_type": "code",
   "execution_count": 30,
   "outputs": [
    {
     "name": "stdout",
     "output_type": "stream",
     "text": [
      "Unix Timestamp: 1640995200\n"
     ]
    }
   ],
   "source": [
    "import pandas as pd\n",
    "\n",
    "date_string = '2022-01-01'\n",
    "timestamp = pd.to_datetime(date_string)\n",
    "\n",
    "# Convert to Unix timestamp\n",
    "# unix_timestamp = int(timestamp.timestamp())\n",
    "\n",
    "# print(f\"Unix Timestamp: {unix_timestamp}\")\n"
   ],
   "metadata": {
    "collapsed": false
   }
  },
  {
   "cell_type": "code",
   "execution_count": 40,
   "outputs": [
    {
     "data": {
      "text/plain": "Timestamp('2022-01-01 00:00:00+0000', tz='UTC')"
     },
     "execution_count": 40,
     "metadata": {},
     "output_type": "execute_result"
    }
   ],
   "source": [
    "timestamp"
   ],
   "metadata": {
    "collapsed": false
   }
  },
  {
   "cell_type": "code",
   "execution_count": 41,
   "outputs": [
    {
     "ename": "TypeError",
     "evalue": "fromisoformat: argument must be str",
     "output_type": "error",
     "traceback": [
      "\u001B[0;31m---------------------------------------------------------------------------\u001B[0m",
      "\u001B[0;31mTypeError\u001B[0m                                 Traceback (most recent call last)",
      "Cell \u001B[0;32mIn[41], line 4\u001B[0m\n\u001B[1;32m      1\u001B[0m bitcoin_data \u001B[38;5;241m=\u001B[39m yf\u001B[38;5;241m.\u001B[39mTicker(symbol)\u001B[38;5;241m.\u001B[39mhistory(\n\u001B[1;32m      2\u001B[0m     interval \u001B[38;5;241m=\u001B[39m \u001B[38;5;124m\"\u001B[39m\u001B[38;5;124m1d\u001B[39m\u001B[38;5;124m\"\u001B[39m,\n\u001B[1;32m      3\u001B[0m     start \u001B[38;5;241m=\u001B[39m start_date)\n\u001B[0;32m----> 4\u001B[0m bitcoin_data\u001B[38;5;241m.\u001B[39mindex \u001B[38;5;241m=\u001B[39m \u001B[43mdatetime\u001B[49m\u001B[38;5;241;43m.\u001B[39;49m\u001B[43mfromisoformat\u001B[49m\u001B[43m(\u001B[49m\u001B[43mbitcoin_data\u001B[49m\u001B[38;5;241;43m.\u001B[39;49m\u001B[43mindex\u001B[49m\u001B[43m)\u001B[49m\n\u001B[1;32m      5\u001B[0m bitcoin_data\n",
      "\u001B[0;31mTypeError\u001B[0m: fromisoformat: argument must be str"
     ]
    }
   ],
   "source": [],
   "metadata": {
    "collapsed": false
   }
  },
  {
   "cell_type": "code",
   "execution_count": null,
   "outputs": [],
   "source": [],
   "metadata": {
    "collapsed": false
   }
  }
 ],
 "metadata": {
  "kernelspec": {
   "display_name": "Python 3",
   "language": "python",
   "name": "python3"
  },
  "language_info": {
   "codemirror_mode": {
    "name": "ipython",
    "version": 2
   },
   "file_extension": ".py",
   "mimetype": "text/x-python",
   "name": "python",
   "nbconvert_exporter": "python",
   "pygments_lexer": "ipython2",
   "version": "2.7.6"
  }
 },
 "nbformat": 4,
 "nbformat_minor": 0
}
