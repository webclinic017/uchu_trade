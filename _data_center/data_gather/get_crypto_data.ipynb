{
 "cells": [
  {
   "cell_type": "code",
   "execution_count": 10,
   "outputs": [],
   "source": [
    "import yfinance as yf\n",
    "import pandas as pd\n",
    "import numpy as np"
   ],
   "metadata": {
    "collapsed": false
   }
  },
  {
   "cell_type": "code",
   "execution_count": 11,
   "metadata": {
    "collapsed": true
   },
   "outputs": [],
   "source": [
    "\n",
    "# Define the ticker symbol for Bitcoin\n",
    "bitcoin_ticker = \"BTC-USD\"\n",
    "\n",
    "# Create a Yahoo Finance object for Bitcoin\n",
    "bitcoin = yf.Ticker(bitcoin_ticker)\n",
    "\n",
    "# Fetch historical daily data for Bitcoin\n",
    "historical_data = bitcoin.history(period=\"1y\")\n"
   ]
  },
  {
   "cell_type": "code",
   "execution_count": 5,
   "outputs": [],
   "source": [
    "historical_data[\"Amplitude_Percentage\"] = (\n",
    "    (historical_data[\"High\"] - historical_data[\"Low\"]) / historical_data[\"Low\"] * 100\n",
    ")"
   ],
   "metadata": {
    "collapsed": false
   }
  },
  {
   "cell_type": "code",
   "execution_count": 6,
   "outputs": [
    {
     "data": {
      "text/plain": "                                   Open          High           Low  \\\nDate                                                                  \n2022-10-25 00:00:00+00:00  19344.964844  20348.412109  19261.447266   \n2022-10-26 00:00:00+00:00  20092.236328  20938.134766  20076.117188   \n2022-10-27 00:00:00+00:00  20772.802734  20854.044922  20255.373047   \n2022-10-28 00:00:00+00:00  20287.957031  20724.980469  20086.068359   \n2022-10-29 00:00:00+00:00  20595.103516  20988.394531  20566.484375   \n...                                 ...           ...           ...   \n2023-10-21 00:00:00+00:00  29683.380859  30287.482422  29481.751953   \n2023-10-22 00:00:00+00:00  29918.654297  30199.433594  29720.312500   \n2023-10-23 00:00:00+00:00  30140.685547  34370.437500  30097.828125   \n2023-10-24 00:00:00+00:00  33077.304688  35150.433594  32880.761719   \n2023-10-25 00:00:00+00:00  33916.042969  34708.792969  33803.085938   \n\n                                  Close       Volume  Dividends  Stock Splits  \\\nDate                                                                            \n2022-10-25 00:00:00+00:00  20095.857422  47761524910        0.0           0.0   \n2022-10-26 00:00:00+00:00  20770.441406  58895950537        0.0           0.0   \n2022-10-27 00:00:00+00:00  20285.835938  49625110402        0.0           0.0   \n2022-10-28 00:00:00+00:00  20595.351562  43994715910        0.0           0.0   \n2022-10-29 00:00:00+00:00  20818.476562  40369840645        0.0           0.0   \n...                                 ...          ...        ...           ...   \n2023-10-21 00:00:00+00:00  29918.412109  11541146996        0.0           0.0   \n2023-10-22 00:00:00+00:00  29993.896484  10446520040        0.0           0.0   \n2023-10-23 00:00:00+00:00  33086.234375  38363572311        0.0           0.0   \n2023-10-24 00:00:00+00:00  33901.527344  44934999645        0.0           0.0   \n2023-10-25 00:00:00+00:00  34708.792969  30120235008        0.0           0.0   \n\n                           Amplitude_Percentage  \nDate                                             \n2022-10-25 00:00:00+00:00              5.643215  \n2022-10-26 00:00:00+00:00              4.293746  \n2022-10-27 00:00:00+00:00              2.955620  \n2022-10-28 00:00:00+00:00              3.180872  \n2022-10-29 00:00:00+00:00              2.051445  \n...                                         ...  \n2023-10-21 00:00:00+00:00              2.732980  \n2023-10-22 00:00:00+00:00              1.612100  \n2023-10-23 00:00:00+00:00             14.195740  \n2023-10-24 00:00:00+00:00              6.902735  \n2023-10-25 00:00:00+00:00              2.679362  \n\n[366 rows x 8 columns]",
      "text/html": "<div>\n<style scoped>\n    .dataframe tbody tr th:only-of-type {\n        vertical-align: middle;\n    }\n\n    .dataframe tbody tr th {\n        vertical-align: top;\n    }\n\n    .dataframe thead th {\n        text-align: right;\n    }\n</style>\n<table border=\"1\" class=\"dataframe\">\n  <thead>\n    <tr style=\"text-align: right;\">\n      <th></th>\n      <th>Open</th>\n      <th>High</th>\n      <th>Low</th>\n      <th>Close</th>\n      <th>Volume</th>\n      <th>Dividends</th>\n      <th>Stock Splits</th>\n      <th>Amplitude_Percentage</th>\n    </tr>\n    <tr>\n      <th>Date</th>\n      <th></th>\n      <th></th>\n      <th></th>\n      <th></th>\n      <th></th>\n      <th></th>\n      <th></th>\n      <th></th>\n    </tr>\n  </thead>\n  <tbody>\n    <tr>\n      <th>2022-10-25 00:00:00+00:00</th>\n      <td>19344.964844</td>\n      <td>20348.412109</td>\n      <td>19261.447266</td>\n      <td>20095.857422</td>\n      <td>47761524910</td>\n      <td>0.0</td>\n      <td>0.0</td>\n      <td>5.643215</td>\n    </tr>\n    <tr>\n      <th>2022-10-26 00:00:00+00:00</th>\n      <td>20092.236328</td>\n      <td>20938.134766</td>\n      <td>20076.117188</td>\n      <td>20770.441406</td>\n      <td>58895950537</td>\n      <td>0.0</td>\n      <td>0.0</td>\n      <td>4.293746</td>\n    </tr>\n    <tr>\n      <th>2022-10-27 00:00:00+00:00</th>\n      <td>20772.802734</td>\n      <td>20854.044922</td>\n      <td>20255.373047</td>\n      <td>20285.835938</td>\n      <td>49625110402</td>\n      <td>0.0</td>\n      <td>0.0</td>\n      <td>2.955620</td>\n    </tr>\n    <tr>\n      <th>2022-10-28 00:00:00+00:00</th>\n      <td>20287.957031</td>\n      <td>20724.980469</td>\n      <td>20086.068359</td>\n      <td>20595.351562</td>\n      <td>43994715910</td>\n      <td>0.0</td>\n      <td>0.0</td>\n      <td>3.180872</td>\n    </tr>\n    <tr>\n      <th>2022-10-29 00:00:00+00:00</th>\n      <td>20595.103516</td>\n      <td>20988.394531</td>\n      <td>20566.484375</td>\n      <td>20818.476562</td>\n      <td>40369840645</td>\n      <td>0.0</td>\n      <td>0.0</td>\n      <td>2.051445</td>\n    </tr>\n    <tr>\n      <th>...</th>\n      <td>...</td>\n      <td>...</td>\n      <td>...</td>\n      <td>...</td>\n      <td>...</td>\n      <td>...</td>\n      <td>...</td>\n      <td>...</td>\n    </tr>\n    <tr>\n      <th>2023-10-21 00:00:00+00:00</th>\n      <td>29683.380859</td>\n      <td>30287.482422</td>\n      <td>29481.751953</td>\n      <td>29918.412109</td>\n      <td>11541146996</td>\n      <td>0.0</td>\n      <td>0.0</td>\n      <td>2.732980</td>\n    </tr>\n    <tr>\n      <th>2023-10-22 00:00:00+00:00</th>\n      <td>29918.654297</td>\n      <td>30199.433594</td>\n      <td>29720.312500</td>\n      <td>29993.896484</td>\n      <td>10446520040</td>\n      <td>0.0</td>\n      <td>0.0</td>\n      <td>1.612100</td>\n    </tr>\n    <tr>\n      <th>2023-10-23 00:00:00+00:00</th>\n      <td>30140.685547</td>\n      <td>34370.437500</td>\n      <td>30097.828125</td>\n      <td>33086.234375</td>\n      <td>38363572311</td>\n      <td>0.0</td>\n      <td>0.0</td>\n      <td>14.195740</td>\n    </tr>\n    <tr>\n      <th>2023-10-24 00:00:00+00:00</th>\n      <td>33077.304688</td>\n      <td>35150.433594</td>\n      <td>32880.761719</td>\n      <td>33901.527344</td>\n      <td>44934999645</td>\n      <td>0.0</td>\n      <td>0.0</td>\n      <td>6.902735</td>\n    </tr>\n    <tr>\n      <th>2023-10-25 00:00:00+00:00</th>\n      <td>33916.042969</td>\n      <td>34708.792969</td>\n      <td>33803.085938</td>\n      <td>34708.792969</td>\n      <td>30120235008</td>\n      <td>0.0</td>\n      <td>0.0</td>\n      <td>2.679362</td>\n    </tr>\n  </tbody>\n</table>\n<p>366 rows × 8 columns</p>\n</div>"
     },
     "execution_count": 6,
     "metadata": {},
     "output_type": "execute_result"
    }
   ],
   "source": [
    "historical_data"
   ],
   "metadata": {
    "collapsed": false
   }
  },
  {
   "cell_type": "markdown",
   "source": [],
   "metadata": {
    "collapsed": false
   }
  },
  {
   "cell_type": "code",
   "execution_count": 12,
   "outputs": [
    {
     "ename": "KeyError",
     "evalue": "'Amplitude_Percentage'",
     "output_type": "error",
     "traceback": [
      "\u001B[0;31m---------------------------------------------------------------------------\u001B[0m",
      "\u001B[0;31mKeyError\u001B[0m                                  Traceback (most recent call last)",
      "File \u001B[0;32m~/PycharmProjects/okx-trading/venv/lib/python3.9/site-packages/pandas/core/indexes/base.py:3653\u001B[0m, in \u001B[0;36mIndex.get_loc\u001B[0;34m(self, key)\u001B[0m\n\u001B[1;32m   3652\u001B[0m \u001B[38;5;28;01mtry\u001B[39;00m:\n\u001B[0;32m-> 3653\u001B[0m     \u001B[38;5;28;01mreturn\u001B[39;00m \u001B[38;5;28;43mself\u001B[39;49m\u001B[38;5;241;43m.\u001B[39;49m\u001B[43m_engine\u001B[49m\u001B[38;5;241;43m.\u001B[39;49m\u001B[43mget_loc\u001B[49m\u001B[43m(\u001B[49m\u001B[43mcasted_key\u001B[49m\u001B[43m)\u001B[49m\n\u001B[1;32m   3654\u001B[0m \u001B[38;5;28;01mexcept\u001B[39;00m \u001B[38;5;167;01mKeyError\u001B[39;00m \u001B[38;5;28;01mas\u001B[39;00m err:\n",
      "File \u001B[0;32m~/PycharmProjects/okx-trading/venv/lib/python3.9/site-packages/pandas/_libs/index.pyx:147\u001B[0m, in \u001B[0;36mpandas._libs.index.IndexEngine.get_loc\u001B[0;34m()\u001B[0m\n",
      "File \u001B[0;32m~/PycharmProjects/okx-trading/venv/lib/python3.9/site-packages/pandas/_libs/index.pyx:176\u001B[0m, in \u001B[0;36mpandas._libs.index.IndexEngine.get_loc\u001B[0;34m()\u001B[0m\n",
      "File \u001B[0;32mpandas/_libs/hashtable_class_helper.pxi:7080\u001B[0m, in \u001B[0;36mpandas._libs.hashtable.PyObjectHashTable.get_item\u001B[0;34m()\u001B[0m\n",
      "File \u001B[0;32mpandas/_libs/hashtable_class_helper.pxi:7088\u001B[0m, in \u001B[0;36mpandas._libs.hashtable.PyObjectHashTable.get_item\u001B[0;34m()\u001B[0m\n",
      "\u001B[0;31mKeyError\u001B[0m: 'Amplitude_Percentage'",
      "\nThe above exception was the direct cause of the following exception:\n",
      "\u001B[0;31mKeyError\u001B[0m                                  Traceback (most recent call last)",
      "Cell \u001B[0;32mIn[12], line 2\u001B[0m\n\u001B[1;32m      1\u001B[0m \u001B[38;5;66;03m# Create a mask to identify consecutive days with amplitude < 3%\u001B[39;00m\n\u001B[0;32m----> 2\u001B[0m mask \u001B[38;5;241m=\u001B[39m (\u001B[43mhistorical_data\u001B[49m\u001B[43m[\u001B[49m\u001B[38;5;124;43m\"\u001B[39;49m\u001B[38;5;124;43mAmplitude_Percentage\u001B[39;49m\u001B[38;5;124;43m\"\u001B[39;49m\u001B[43m]\u001B[49m \u001B[38;5;241m<\u001B[39m \u001B[38;5;241m3\u001B[39m)\u001B[38;5;241m.\u001B[39mastype(\u001B[38;5;28mint\u001B[39m)\n\u001B[1;32m      4\u001B[0m \u001B[38;5;66;03m# Use NumPy's rolling window function to find consecutive five days\u001B[39;00m\n\u001B[1;32m      5\u001B[0m consecutive_days \u001B[38;5;241m=\u001B[39m np\u001B[38;5;241m.\u001B[39mconvolve(mask, np\u001B[38;5;241m.\u001B[39mones(\u001B[38;5;241m5\u001B[39m), mode\u001B[38;5;241m=\u001B[39m\u001B[38;5;124m\"\u001B[39m\u001B[38;5;124msame\u001B[39m\u001B[38;5;124m\"\u001B[39m)\n",
      "File \u001B[0;32m~/PycharmProjects/okx-trading/venv/lib/python3.9/site-packages/pandas/core/frame.py:3761\u001B[0m, in \u001B[0;36mDataFrame.__getitem__\u001B[0;34m(self, key)\u001B[0m\n\u001B[1;32m   3759\u001B[0m \u001B[38;5;28;01mif\u001B[39;00m \u001B[38;5;28mself\u001B[39m\u001B[38;5;241m.\u001B[39mcolumns\u001B[38;5;241m.\u001B[39mnlevels \u001B[38;5;241m>\u001B[39m \u001B[38;5;241m1\u001B[39m:\n\u001B[1;32m   3760\u001B[0m     \u001B[38;5;28;01mreturn\u001B[39;00m \u001B[38;5;28mself\u001B[39m\u001B[38;5;241m.\u001B[39m_getitem_multilevel(key)\n\u001B[0;32m-> 3761\u001B[0m indexer \u001B[38;5;241m=\u001B[39m \u001B[38;5;28;43mself\u001B[39;49m\u001B[38;5;241;43m.\u001B[39;49m\u001B[43mcolumns\u001B[49m\u001B[38;5;241;43m.\u001B[39;49m\u001B[43mget_loc\u001B[49m\u001B[43m(\u001B[49m\u001B[43mkey\u001B[49m\u001B[43m)\u001B[49m\n\u001B[1;32m   3762\u001B[0m \u001B[38;5;28;01mif\u001B[39;00m is_integer(indexer):\n\u001B[1;32m   3763\u001B[0m     indexer \u001B[38;5;241m=\u001B[39m [indexer]\n",
      "File \u001B[0;32m~/PycharmProjects/okx-trading/venv/lib/python3.9/site-packages/pandas/core/indexes/base.py:3655\u001B[0m, in \u001B[0;36mIndex.get_loc\u001B[0;34m(self, key)\u001B[0m\n\u001B[1;32m   3653\u001B[0m     \u001B[38;5;28;01mreturn\u001B[39;00m \u001B[38;5;28mself\u001B[39m\u001B[38;5;241m.\u001B[39m_engine\u001B[38;5;241m.\u001B[39mget_loc(casted_key)\n\u001B[1;32m   3654\u001B[0m \u001B[38;5;28;01mexcept\u001B[39;00m \u001B[38;5;167;01mKeyError\u001B[39;00m \u001B[38;5;28;01mas\u001B[39;00m err:\n\u001B[0;32m-> 3655\u001B[0m     \u001B[38;5;28;01mraise\u001B[39;00m \u001B[38;5;167;01mKeyError\u001B[39;00m(key) \u001B[38;5;28;01mfrom\u001B[39;00m \u001B[38;5;21;01merr\u001B[39;00m\n\u001B[1;32m   3656\u001B[0m \u001B[38;5;28;01mexcept\u001B[39;00m \u001B[38;5;167;01mTypeError\u001B[39;00m:\n\u001B[1;32m   3657\u001B[0m     \u001B[38;5;66;03m# If we have a listlike key, _check_indexing_error will raise\u001B[39;00m\n\u001B[1;32m   3658\u001B[0m     \u001B[38;5;66;03m#  InvalidIndexError. Otherwise we fall through and re-raise\u001B[39;00m\n\u001B[1;32m   3659\u001B[0m     \u001B[38;5;66;03m#  the TypeError.\u001B[39;00m\n\u001B[1;32m   3660\u001B[0m     \u001B[38;5;28mself\u001B[39m\u001B[38;5;241m.\u001B[39m_check_indexing_error(key)\n",
      "\u001B[0;31mKeyError\u001B[0m: 'Amplitude_Percentage'"
     ]
    }
   ],
   "source": [
    "# Create a mask to identify consecutive days with amplitude < 3%\n",
    "mask = (historical_data[\"Amplitude_Percentage\"] < 3).astype(int)\n",
    "\n",
    "# Use NumPy's rolling window function to find consecutive five days\n",
    "consecutive_days = np.convolve(mask, np.ones(5), mode=\"same\")\n",
    "\n",
    "# Find the indices where consecutive_days is equal to 5\n",
    "indices = np.where(consecutive_days == 5)[0]\n",
    "\n",
    "# Get the data for the consecutive five days\n",
    "result = []\n",
    "for idx in indices:\n",
    "    result.append(historical_data.iloc[idx - 4 : idx + 1])\n",
    "\n",
    "# Combine the consecutive days' data into a single DataFrame\n",
    "if result:\n",
    "    combined_data = pd.concat(result)\n",
    "    print(combined_data)\n",
    "else:\n",
    "    print(\"No consecutive five days with amplitude < 3% found.\")"
   ],
   "metadata": {
    "collapsed": false
   }
  },
  {
   "cell_type": "code",
   "execution_count": null,
   "outputs": [],
   "source": [
    "# Combine the consecutive days' data into a single DataFrame\n",
    "if result:\n",
    "    combined_data = pd.concat(result)\n",
    "    print(combined_data)\n",
    "else:\n",
    "    print(\"No consecutive five days with amplitude < 3% found.\")\n"
   ],
   "metadata": {
    "collapsed": false
   }
  },
  {
   "cell_type": "code",
   "execution_count": 15,
   "outputs": [
    {
     "name": "stdout",
     "output_type": "stream",
     "text": [
      "                                   Open          High           Low  \\\n",
      "Date                                                                  \n",
      "2023-09-25 00:00:00+00:00  26253.775391  26421.507812  26011.468750   \n",
      "2023-09-26 00:00:00+00:00  26294.757812  26389.884766  26090.712891   \n",
      "2023-09-27 00:00:00+00:00  26209.498047  26817.841797  26111.464844   \n",
      "2023-09-28 00:00:00+00:00  26355.812500  27259.500000  26327.322266   \n",
      "2023-09-29 00:00:00+00:00  27024.841797  27225.937500  26721.763672   \n",
      "\n",
      "                                  Close       Volume  Dividends  Stock Splits  \\\n",
      "Date                                                                            \n",
      "2023-09-25 00:00:00+00:00  26298.480469  11997833257        0.0           0.0   \n",
      "2023-09-26 00:00:00+00:00  26217.250000   9985498161        0.0           0.0   \n",
      "2023-09-27 00:00:00+00:00  26352.716797  11718380997        0.0           0.0   \n",
      "2023-09-28 00:00:00+00:00  27021.546875  14079002707        0.0           0.0   \n",
      "2023-09-29 00:00:00+00:00  26911.720703  10396435377        0.0           0.0   \n",
      "\n",
      "                           Amplitude_Percentage  \n",
      "Date                                             \n",
      "2023-09-25 00:00:00+00:00              1.576378  \n",
      "2023-09-26 00:00:00+00:00              1.146660  \n",
      "2023-09-27 00:00:00+00:00              2.705237  \n",
      "2023-09-28 00:00:00+00:00              3.540724  \n",
      "2023-09-29 00:00:00+00:00              1.886754  \n"
     ]
    }
   ],
   "source": [
    "import yfinance as yf\n",
    "import numpy as np\n",
    "\n",
    "# Define the ticker symbol for Bitcoin\n",
    "bitcoin_ticker = \"BTC-USD\"\n",
    "\n",
    "# Create a Yahoo Finance object for Bitcoin\n",
    "bitcoin = yf.Ticker(bitcoin_ticker)\n",
    "\n",
    "# Fetch historical daily data for Bitcoin\n",
    "historical_data = bitcoin.history(period=\"1mo\")  # 获取最近一个月的数据\n",
    "\n",
    "# Calculate the daily price amplitude percentage\n",
    "historical_data[\"Amplitude_Percentage\"] = (\n",
    "    (historical_data[\"High\"] - historical_data[\"Low\"]) / historical_data[\"Low\"] * 100\n",
    ")\n",
    "\n",
    "# Convert the DataFrame column to a NumPy array for easier manipulation\n",
    "amplitude_percentage = historical_data[\"Amplitude_Percentage\"].to_numpy()\n",
    "\n",
    "# Create a sliding window view with a window size of 5\n",
    "window_size = 5\n",
    "window_view = np.lib.stride_tricks.sliding_window_view(amplitude_percentage, window_shape=window_size)\n",
    "\n",
    "# Check where all values in each window are less than 3\n",
    "condition = (window_view < 4).all(axis=1)\n",
    "\n",
    "# Find the first occurrence of consecutive five days with amplitude < 3%\n",
    "if condition.any():\n",
    "    start_index = np.where(condition)[0][0]\n",
    "    end_index = start_index + window_size - 1\n",
    "    consecutive_data = historical_data.iloc[start_index : end_index + 1]\n",
    "    print(consecutive_data)\n",
    "else:\n",
    "    print(\"No consecutive five days with amplitude < 3% found.\")\n"
   ],
   "metadata": {
    "collapsed": false
   }
  },
  {
   "cell_type": "code",
   "execution_count": 16,
   "outputs": [
    {
     "data": {
      "text/plain": "                                   Open          High           Low  \\\nDate                                                                  \n2023-09-25 00:00:00+00:00  26253.775391  26421.507812  26011.468750   \n2023-09-26 00:00:00+00:00  26294.757812  26389.884766  26090.712891   \n2023-09-27 00:00:00+00:00  26209.498047  26817.841797  26111.464844   \n2023-09-28 00:00:00+00:00  26355.812500  27259.500000  26327.322266   \n2023-09-29 00:00:00+00:00  27024.841797  27225.937500  26721.763672   \n\n                                  Close       Volume  Dividends  Stock Splits  \\\nDate                                                                            \n2023-09-25 00:00:00+00:00  26298.480469  11997833257        0.0           0.0   \n2023-09-26 00:00:00+00:00  26217.250000   9985498161        0.0           0.0   \n2023-09-27 00:00:00+00:00  26352.716797  11718380997        0.0           0.0   \n2023-09-28 00:00:00+00:00  27021.546875  14079002707        0.0           0.0   \n2023-09-29 00:00:00+00:00  26911.720703  10396435377        0.0           0.0   \n\n                           Amplitude_Percentage  \nDate                                             \n2023-09-25 00:00:00+00:00              1.576378  \n2023-09-26 00:00:00+00:00              1.146660  \n2023-09-27 00:00:00+00:00              2.705237  \n2023-09-28 00:00:00+00:00              3.540724  \n2023-09-29 00:00:00+00:00              1.886754  ",
      "text/html": "<div>\n<style scoped>\n    .dataframe tbody tr th:only-of-type {\n        vertical-align: middle;\n    }\n\n    .dataframe tbody tr th {\n        vertical-align: top;\n    }\n\n    .dataframe thead th {\n        text-align: right;\n    }\n</style>\n<table border=\"1\" class=\"dataframe\">\n  <thead>\n    <tr style=\"text-align: right;\">\n      <th></th>\n      <th>Open</th>\n      <th>High</th>\n      <th>Low</th>\n      <th>Close</th>\n      <th>Volume</th>\n      <th>Dividends</th>\n      <th>Stock Splits</th>\n      <th>Amplitude_Percentage</th>\n    </tr>\n    <tr>\n      <th>Date</th>\n      <th></th>\n      <th></th>\n      <th></th>\n      <th></th>\n      <th></th>\n      <th></th>\n      <th></th>\n      <th></th>\n    </tr>\n  </thead>\n  <tbody>\n    <tr>\n      <th>2023-09-25 00:00:00+00:00</th>\n      <td>26253.775391</td>\n      <td>26421.507812</td>\n      <td>26011.468750</td>\n      <td>26298.480469</td>\n      <td>11997833257</td>\n      <td>0.0</td>\n      <td>0.0</td>\n      <td>1.576378</td>\n    </tr>\n    <tr>\n      <th>2023-09-26 00:00:00+00:00</th>\n      <td>26294.757812</td>\n      <td>26389.884766</td>\n      <td>26090.712891</td>\n      <td>26217.250000</td>\n      <td>9985498161</td>\n      <td>0.0</td>\n      <td>0.0</td>\n      <td>1.146660</td>\n    </tr>\n    <tr>\n      <th>2023-09-27 00:00:00+00:00</th>\n      <td>26209.498047</td>\n      <td>26817.841797</td>\n      <td>26111.464844</td>\n      <td>26352.716797</td>\n      <td>11718380997</td>\n      <td>0.0</td>\n      <td>0.0</td>\n      <td>2.705237</td>\n    </tr>\n    <tr>\n      <th>2023-09-28 00:00:00+00:00</th>\n      <td>26355.812500</td>\n      <td>27259.500000</td>\n      <td>26327.322266</td>\n      <td>27021.546875</td>\n      <td>14079002707</td>\n      <td>0.0</td>\n      <td>0.0</td>\n      <td>3.540724</td>\n    </tr>\n    <tr>\n      <th>2023-09-29 00:00:00+00:00</th>\n      <td>27024.841797</td>\n      <td>27225.937500</td>\n      <td>26721.763672</td>\n      <td>26911.720703</td>\n      <td>10396435377</td>\n      <td>0.0</td>\n      <td>0.0</td>\n      <td>1.886754</td>\n    </tr>\n  </tbody>\n</table>\n</div>"
     },
     "execution_count": 16,
     "metadata": {},
     "output_type": "execute_result"
    }
   ],
   "source": [
    "consecutive_data"
   ],
   "metadata": {
    "collapsed": false
   }
  },
  {
   "cell_type": "code",
   "execution_count": 38,
   "outputs": [],
   "source": [
    "import yfinance as yf\n",
    "import pandas as pd\n",
    "\n",
    "# Define the ticker symbol for Bitcoin\n",
    "bitcoin_ticker = \"BTC-USD\"\n",
    "\n",
    "# Create a Yahoo Finance object for Bitcoin\n",
    "bitcoin = yf.Ticker(bitcoin_ticker)\n",
    "\n",
    "# Fetch historical daily data for Bitcoin\n",
    "historical_data = bitcoin.history(period=\"1y\")  # 获取最近一个月的数据\n",
    "\n",
    "# Calculate the daily price amplitude percentage\n",
    "historical_data[\"Amplitude_Percentage\"] = (\n",
    "    (historical_data[\"High\"] - historical_data[\"Low\"]) / historical_data[\"Low\"] * 100\n",
    ")\n",
    "\n",
    "# Calculate the rolling 5-day amplitude\n",
    "historical_data[\"Rolling_Amplitude\"] = historical_data[\"Close\"].rolling(window=3).apply(\n",
    "    lambda x: ((x.max() - x.min()) / x.min()) * 100 if len(x) == 3 else None\n",
    ")\n",
    "\n",
    "# Filter for consecutive five days with amplitude < 1%\n",
    "consecutive_data = historical_data[\n",
    "    (historical_data[\"Rolling_Amplitude\"] < 0.5)\n",
    "   # & (historical_data[\"Rolling_Amplitude\"].shift(-1) < 1)\n",
    "   # & (historical_data[\"Rolling_Amplitude\"].shift(-2) < 1)\n",
    "]\n",
    "\n",
    "# Print the data\n",
    "# if not consecutive_data.empty:\n",
    "#     # print(consecutive_data)\n",
    "# else:\n",
    "#     print(\"No consecutive five days with amplitude < 1% found.\")\n"
   ],
   "metadata": {
    "collapsed": false
   }
  },
  {
   "cell_type": "code",
   "execution_count": 39,
   "outputs": [
    {
     "data": {
      "text/plain": "                                   Open          High           Low  \\\nDate                                                                  \n2022-11-18 00:00:00+00:00  16687.912109  16947.058594  16564.611328   \n2022-11-19 00:00:00+00:00  16696.220703  16797.876953  16570.410156   \n2022-11-27 00:00:00+00:00  16463.882812  16594.406250  16437.025391   \n2022-12-11 00:00:00+00:00  17129.710938  17245.634766  17091.820312   \n2022-12-23 00:00:00+00:00  16829.644531  16905.218750  16794.458984   \n2022-12-24 00:00:00+00:00  16796.976562  16864.703125  16793.527344   \n2022-12-25 00:00:00+00:00  16847.505859  16860.554688  16755.253906   \n2022-12-26 00:00:00+00:00  16842.250000  16920.123047  16812.369141   \n2023-01-01 00:00:00+00:00  16547.914062  16630.439453  16521.234375   \n2023-01-03 00:00:00+00:00  16688.847656  16760.447266  16622.371094   \n2023-01-22 00:00:00+00:00  22777.986328  23056.730469  22387.900391   \n2023-01-27 00:00:00+00:00  23030.716797  23417.720703  22654.593750   \n2023-01-28 00:00:00+00:00  23079.964844  23165.896484  22908.845703   \n2023-02-13 00:00:00+00:00  21787.000000  21898.414062  21460.087891   \n2023-03-05 00:00:00+00:00  22354.144531  22613.685547  22307.142578   \n2023-03-06 00:00:00+00:00  22436.816406  22584.292969  22331.314453   \n2023-04-06 00:00:00+00:00  28175.226562  28178.384766  27738.759766   \n2023-04-08 00:00:00+00:00  27920.513672  28159.863281  27883.386719   \n2023-04-30 00:00:00+00:00  29245.515625  29952.029297  29114.021484   \n2023-05-10 00:00:00+00:00  27654.636719  28322.687500  26883.669922   \n2023-06-12 00:00:00+00:00  25934.285156  26087.919922  25675.197266   \n2023-06-13 00:00:00+00:00  25902.941406  26376.351562  25728.365234   \n2023-07-01 00:00:00+00:00  30471.847656  30641.289062  30328.865234   \n2023-07-02 00:00:00+00:00  30587.269531  30766.140625  30264.019531   \n2023-07-16 00:00:00+00:00  30297.472656  30437.560547  30089.669922   \n2023-07-17 00:00:00+00:00  30249.626953  30336.400391  29685.783203   \n2023-07-20 00:00:00+00:00  29915.250000  30195.531250  29638.095703   \n2023-07-21 00:00:00+00:00  29805.111328  30045.998047  29733.851562   \n2023-07-22 00:00:00+00:00  29908.697266  29991.615234  29664.121094   \n2023-07-27 00:00:00+00:00  29353.798828  29560.966797  29099.351562   \n2023-07-28 00:00:00+00:00  29212.164062  29521.513672  29125.845703   \n2023-07-30 00:00:00+00:00  29357.093750  29443.169922  29059.501953   \n2023-07-31 00:00:00+00:00  29278.314453  29489.873047  29131.578125   \n2023-08-04 00:00:00+00:00  29174.382812  29302.078125  28885.335938   \n2023-08-05 00:00:00+00:00  29075.388672  29102.464844  28957.796875   \n2023-08-06 00:00:00+00:00  29043.701172  29160.822266  28963.833984   \n2023-08-07 00:00:00+00:00  29038.513672  29244.281250  28724.140625   \n2023-08-12 00:00:00+00:00  29399.787109  29465.113281  29357.587891   \n2023-08-13 00:00:00+00:00  29416.593750  29441.433594  29265.806641   \n2023-08-14 00:00:00+00:00  29283.263672  29660.253906  29124.105469   \n2023-08-21 00:00:00+00:00  26188.691406  26220.201172  25846.087891   \n2023-08-27 00:00:00+00:00  26008.242188  26165.373047  25965.097656   \n2023-08-28 00:00:00+00:00  26089.615234  26198.578125  25880.599609   \n2023-09-06 00:00:00+00:00  25783.931641  25953.015625  25404.359375   \n2023-09-10 00:00:00+00:00  25895.210938  25978.130859  25640.261719   \n2023-09-16 00:00:00+00:00  26606.199219  26754.769531  26473.890625   \n2023-09-17 00:00:00+00:00  26567.927734  26617.998047  26445.074219   \n2023-09-23 00:00:00+00:00  26578.556641  26634.185547  26520.519531   \n2023-09-26 00:00:00+00:00  26294.757812  26389.884766  26090.712891   \n2023-09-30 00:00:00+00:00  26911.689453  27091.794922  26888.968750   \n2023-10-08 00:00:00+00:00  27971.677734  28102.169922  27740.662109   \n2023-10-13 00:00:00+00:00  26752.878906  27092.697266  26686.322266   \n2023-10-14 00:00:00+00:00  26866.203125  26969.000000  26814.585938   \n\n                                  Close       Volume  Dividends  Stock Splits  \\\nDate                                                                            \n2022-11-18 00:00:00+00:00  16697.777344  26862218609        0.0           0.0   \n2022-11-19 00:00:00+00:00  16711.546875  16106223492        0.0           0.0   \n2022-11-27 00:00:00+00:00  16444.626953  20443898509        0.0           0.0   \n2022-12-11 00:00:00+00:00  17104.193359  14122486832        0.0           0.0   \n2022-12-23 00:00:00+00:00  16796.953125  15329265213        0.0           0.0   \n2022-12-24 00:00:00+00:00  16847.755859   9744636213        0.0           0.0   \n2022-12-25 00:00:00+00:00  16841.986328  11656379938        0.0           0.0   \n2022-12-26 00:00:00+00:00  16919.804688  11886957804        0.0           0.0   \n2023-01-01 00:00:00+00:00  16625.080078   9244361700        0.0           0.0   \n2023-01-03 00:00:00+00:00  16679.857422  13903079207        0.0           0.0   \n2023-01-22 00:00:00+00:00  22720.416016  24746386230        0.0           0.0   \n2023-01-27 00:00:00+00:00  23078.728516  25383335641        0.0           0.0   \n2023-01-28 00:00:00+00:00  23031.089844  14712928379        0.0           0.0   \n2023-02-13 00:00:00+00:00  21808.101562  23918742607        0.0           0.0   \n2023-03-05 00:00:00+00:00  22435.513672  13317001733        0.0           0.0   \n2023-03-06 00:00:00+00:00  22429.757812  17353192895        0.0           0.0   \n2023-04-06 00:00:00+00:00  28044.140625  13837809380        0.0           0.0   \n2023-04-08 00:00:00+00:00  27947.794922   9373255556        0.0           0.0   \n2023-04-30 00:00:00+00:00  29268.806641  14652199272        0.0           0.0   \n2023-05-10 00:00:00+00:00  27621.755859  20656025026        0.0           0.0   \n2023-06-12 00:00:00+00:00  25902.500000  11677889997        0.0           0.0   \n2023-06-13 00:00:00+00:00  25918.728516  14143474486        0.0           0.0   \n2023-07-01 00:00:00+00:00  30590.078125   9086606733        0.0           0.0   \n2023-07-02 00:00:00+00:00  30620.769531  10533418042        0.0           0.0   \n2023-07-16 00:00:00+00:00  30249.132812   8516564470        0.0           0.0   \n2023-07-17 00:00:00+00:00  30145.888672  13240156074        0.0           0.0   \n2023-07-20 00:00:00+00:00  29792.015625  14655207121        0.0           0.0   \n2023-07-21 00:00:00+00:00  29908.744141  10972789818        0.0           0.0   \n2023-07-22 00:00:00+00:00  29771.802734   7873300598        0.0           0.0   \n2023-07-27 00:00:00+00:00  29210.689453  10770779217        0.0           0.0   \n2023-07-28 00:00:00+00:00  29319.246094  11218474952        0.0           0.0   \n2023-07-30 00:00:00+00:00  29275.308594   8678454527        0.0           0.0   \n2023-07-31 00:00:00+00:00  29230.111328  11656781982        0.0           0.0   \n2023-08-04 00:00:00+00:00  29074.091797  12036639988        0.0           0.0   \n2023-08-05 00:00:00+00:00  29042.126953   6598366353        0.0           0.0   \n2023-08-06 00:00:00+00:00  29041.855469   7269806994        0.0           0.0   \n2023-08-07 00:00:00+00:00  29180.578125  13618163710        0.0           0.0   \n2023-08-12 00:00:00+00:00  29415.964844   6194358008        0.0           0.0   \n2023-08-13 00:00:00+00:00  29282.914062   7329897180        0.0           0.0   \n2023-08-14 00:00:00+00:00  29408.443359  14013695304        0.0           0.0   \n2023-08-21 00:00:00+00:00  26124.140625  13371557893        0.0           0.0   \n2023-08-27 00:00:00+00:00  26089.693359   6913768611        0.0           0.0   \n2023-08-28 00:00:00+00:00  26106.150391  11002805166        0.0           0.0   \n2023-09-06 00:00:00+00:00  25753.236328  12752705327        0.0           0.0   \n2023-09-10 00:00:00+00:00  25832.226562   7899553047        0.0           0.0   \n2023-09-16 00:00:00+00:00  26568.281250   7402031417        0.0           0.0   \n2023-09-17 00:00:00+00:00  26534.187500   6774210670        0.0           0.0   \n2023-09-23 00:00:00+00:00  26579.390625   7404700301        0.0           0.0   \n2023-09-26 00:00:00+00:00  26217.250000   9985498161        0.0           0.0   \n2023-09-30 00:00:00+00:00  26967.916016   5331172801        0.0           0.0   \n2023-10-08 00:00:00+00:00  27935.089844   7916875290        0.0           0.0   \n2023-10-13 00:00:00+00:00  26862.375000  15165312851        0.0           0.0   \n2023-10-14 00:00:00+00:00  26861.707031   5388116782        0.0           0.0   \n\n                           Amplitude_Percentage  Rolling_Amplitude  \nDate                                                                \n2022-11-18 00:00:00+00:00              2.308821           0.169999  \n2022-11-19 00:00:00+00:00              1.372729           0.143996  \n2022-11-27 00:00:00+00:00              0.957478           0.469545  \n2022-12-11 00:00:00+00:00              0.899930           0.169309  \n2022-12-23 00:00:00+00:00              0.659502           0.198778  \n2022-12-24 00:00:00+00:00              0.423829           0.302452  \n2022-12-25 00:00:00+00:00              0.628464           0.302452  \n2022-12-26 00:00:00+00:00              0.640920           0.462050  \n2023-01-01 00:00:00+00:00              0.660998           0.468856  \n2023-01-03 00:00:00+00:00              0.830665           0.381295  \n2023-01-22 00:00:00+00:00              2.987462           0.445713  \n2023-01-27 00:00:00+00:00              3.368531           0.369395  \n2023-01-28 00:00:00+00:00              1.122059           0.206845  \n2023-02-13 00:00:00+00:00              2.042518           0.379434  \n2023-03-05 00:00:00+00:00              1.374192           0.367569  \n2023-03-06 00:00:00+00:00              1.132842           0.367569  \n2023-04-06 00:00:00+00:00              1.584876           0.477261  \n2023-04-08 00:00:00+00:00              0.991546           0.423555  \n2023-04-30 00:00:00+00:00              2.878365           0.313772  \n2023-05-10 00:00:00+00:00              5.352757           0.262538  \n2023-06-12 00:00:00+00:00              1.607476           0.343998  \n2023-06-13 00:00:00+00:00              2.518568           0.145422  \n2023-07-01 00:00:00+00:00              1.030120           0.475365  \n2023-07-02 00:00:00+00:00              1.659136           0.470901  \n2023-07-16 00:00:00+00:00              1.156180           0.280787  \n2023-07-17 00:00:00+00:00              2.191679           0.497308  \n2023-07-20 00:00:00+00:00              1.880808           0.409198  \n2023-07-21 00:00:00+00:00              1.049802           0.409198  \n2023-07-22 00:00:00+00:00              1.104008           0.459970  \n2023-07-27 00:00:00+00:00              1.586342           0.493940  \n2023-07-28 00:00:00+00:00              1.358477           0.493940  \n2023-07-30 00:00:00+00:00              1.320284           0.278765  \n2023-07-31 00:00:00+00:00              1.229919           0.433822  \n2023-08-04 00:00:00+00:00              1.442747           0.359729  \n2023-08-05 00:00:00+00:00              0.499582           0.470188  \n2023-08-06 00:00:00+00:00              0.680118           0.111000  \n2023-08-07 00:00:00+00:00              1.810814           0.477665  \n2023-08-12 00:00:00+00:00              0.366261           0.108433  \n2023-08-13 00:00:00+00:00              0.600110           0.454363  \n2023-08-14 00:00:00+00:00              1.840910           0.454363  \n2023-08-21 00:00:00+00:00              1.447466           0.357826  \n2023-08-27 00:00:00+00:00              0.771325           0.312323  \n2023-08-28 00:00:00+00:00              1.228637           0.375599  \n2023-09-06 00:00:00+00:00              2.159693           0.229795  \n2023-09-10 00:00:00+00:00              1.317729           0.284249  \n2023-09-16 00:00:00+00:00              1.060966           0.260062  \n2023-09-17 00:00:00+00:00              0.653898           0.280792  \n2023-09-23 00:00:00+00:00              0.428596           0.044925  \n2023-09-26 00:00:00+00:00              1.146660           0.309836  \n2023-09-30 00:00:00+00:00              0.754310           0.408098  \n2023-10-08 00:00:00+00:00              1.303169           0.120816  \n2023-10-13 00:00:00+00:00              1.522784           0.435484  \n2023-10-14 00:00:00+00:00              0.575858           0.394577  ",
      "text/html": "<div>\n<style scoped>\n    .dataframe tbody tr th:only-of-type {\n        vertical-align: middle;\n    }\n\n    .dataframe tbody tr th {\n        vertical-align: top;\n    }\n\n    .dataframe thead th {\n        text-align: right;\n    }\n</style>\n<table border=\"1\" class=\"dataframe\">\n  <thead>\n    <tr style=\"text-align: right;\">\n      <th></th>\n      <th>Open</th>\n      <th>High</th>\n      <th>Low</th>\n      <th>Close</th>\n      <th>Volume</th>\n      <th>Dividends</th>\n      <th>Stock Splits</th>\n      <th>Amplitude_Percentage</th>\n      <th>Rolling_Amplitude</th>\n    </tr>\n    <tr>\n      <th>Date</th>\n      <th></th>\n      <th></th>\n      <th></th>\n      <th></th>\n      <th></th>\n      <th></th>\n      <th></th>\n      <th></th>\n      <th></th>\n    </tr>\n  </thead>\n  <tbody>\n    <tr>\n      <th>2022-11-18 00:00:00+00:00</th>\n      <td>16687.912109</td>\n      <td>16947.058594</td>\n      <td>16564.611328</td>\n      <td>16697.777344</td>\n      <td>26862218609</td>\n      <td>0.0</td>\n      <td>0.0</td>\n      <td>2.308821</td>\n      <td>0.169999</td>\n    </tr>\n    <tr>\n      <th>2022-11-19 00:00:00+00:00</th>\n      <td>16696.220703</td>\n      <td>16797.876953</td>\n      <td>16570.410156</td>\n      <td>16711.546875</td>\n      <td>16106223492</td>\n      <td>0.0</td>\n      <td>0.0</td>\n      <td>1.372729</td>\n      <td>0.143996</td>\n    </tr>\n    <tr>\n      <th>2022-11-27 00:00:00+00:00</th>\n      <td>16463.882812</td>\n      <td>16594.406250</td>\n      <td>16437.025391</td>\n      <td>16444.626953</td>\n      <td>20443898509</td>\n      <td>0.0</td>\n      <td>0.0</td>\n      <td>0.957478</td>\n      <td>0.469545</td>\n    </tr>\n    <tr>\n      <th>2022-12-11 00:00:00+00:00</th>\n      <td>17129.710938</td>\n      <td>17245.634766</td>\n      <td>17091.820312</td>\n      <td>17104.193359</td>\n      <td>14122486832</td>\n      <td>0.0</td>\n      <td>0.0</td>\n      <td>0.899930</td>\n      <td>0.169309</td>\n    </tr>\n    <tr>\n      <th>2022-12-23 00:00:00+00:00</th>\n      <td>16829.644531</td>\n      <td>16905.218750</td>\n      <td>16794.458984</td>\n      <td>16796.953125</td>\n      <td>15329265213</td>\n      <td>0.0</td>\n      <td>0.0</td>\n      <td>0.659502</td>\n      <td>0.198778</td>\n    </tr>\n    <tr>\n      <th>2022-12-24 00:00:00+00:00</th>\n      <td>16796.976562</td>\n      <td>16864.703125</td>\n      <td>16793.527344</td>\n      <td>16847.755859</td>\n      <td>9744636213</td>\n      <td>0.0</td>\n      <td>0.0</td>\n      <td>0.423829</td>\n      <td>0.302452</td>\n    </tr>\n    <tr>\n      <th>2022-12-25 00:00:00+00:00</th>\n      <td>16847.505859</td>\n      <td>16860.554688</td>\n      <td>16755.253906</td>\n      <td>16841.986328</td>\n      <td>11656379938</td>\n      <td>0.0</td>\n      <td>0.0</td>\n      <td>0.628464</td>\n      <td>0.302452</td>\n    </tr>\n    <tr>\n      <th>2022-12-26 00:00:00+00:00</th>\n      <td>16842.250000</td>\n      <td>16920.123047</td>\n      <td>16812.369141</td>\n      <td>16919.804688</td>\n      <td>11886957804</td>\n      <td>0.0</td>\n      <td>0.0</td>\n      <td>0.640920</td>\n      <td>0.462050</td>\n    </tr>\n    <tr>\n      <th>2023-01-01 00:00:00+00:00</th>\n      <td>16547.914062</td>\n      <td>16630.439453</td>\n      <td>16521.234375</td>\n      <td>16625.080078</td>\n      <td>9244361700</td>\n      <td>0.0</td>\n      <td>0.0</td>\n      <td>0.660998</td>\n      <td>0.468856</td>\n    </tr>\n    <tr>\n      <th>2023-01-03 00:00:00+00:00</th>\n      <td>16688.847656</td>\n      <td>16760.447266</td>\n      <td>16622.371094</td>\n      <td>16679.857422</td>\n      <td>13903079207</td>\n      <td>0.0</td>\n      <td>0.0</td>\n      <td>0.830665</td>\n      <td>0.381295</td>\n    </tr>\n    <tr>\n      <th>2023-01-22 00:00:00+00:00</th>\n      <td>22777.986328</td>\n      <td>23056.730469</td>\n      <td>22387.900391</td>\n      <td>22720.416016</td>\n      <td>24746386230</td>\n      <td>0.0</td>\n      <td>0.0</td>\n      <td>2.987462</td>\n      <td>0.445713</td>\n    </tr>\n    <tr>\n      <th>2023-01-27 00:00:00+00:00</th>\n      <td>23030.716797</td>\n      <td>23417.720703</td>\n      <td>22654.593750</td>\n      <td>23078.728516</td>\n      <td>25383335641</td>\n      <td>0.0</td>\n      <td>0.0</td>\n      <td>3.368531</td>\n      <td>0.369395</td>\n    </tr>\n    <tr>\n      <th>2023-01-28 00:00:00+00:00</th>\n      <td>23079.964844</td>\n      <td>23165.896484</td>\n      <td>22908.845703</td>\n      <td>23031.089844</td>\n      <td>14712928379</td>\n      <td>0.0</td>\n      <td>0.0</td>\n      <td>1.122059</td>\n      <td>0.206845</td>\n    </tr>\n    <tr>\n      <th>2023-02-13 00:00:00+00:00</th>\n      <td>21787.000000</td>\n      <td>21898.414062</td>\n      <td>21460.087891</td>\n      <td>21808.101562</td>\n      <td>23918742607</td>\n      <td>0.0</td>\n      <td>0.0</td>\n      <td>2.042518</td>\n      <td>0.379434</td>\n    </tr>\n    <tr>\n      <th>2023-03-05 00:00:00+00:00</th>\n      <td>22354.144531</td>\n      <td>22613.685547</td>\n      <td>22307.142578</td>\n      <td>22435.513672</td>\n      <td>13317001733</td>\n      <td>0.0</td>\n      <td>0.0</td>\n      <td>1.374192</td>\n      <td>0.367569</td>\n    </tr>\n    <tr>\n      <th>2023-03-06 00:00:00+00:00</th>\n      <td>22436.816406</td>\n      <td>22584.292969</td>\n      <td>22331.314453</td>\n      <td>22429.757812</td>\n      <td>17353192895</td>\n      <td>0.0</td>\n      <td>0.0</td>\n      <td>1.132842</td>\n      <td>0.367569</td>\n    </tr>\n    <tr>\n      <th>2023-04-06 00:00:00+00:00</th>\n      <td>28175.226562</td>\n      <td>28178.384766</td>\n      <td>27738.759766</td>\n      <td>28044.140625</td>\n      <td>13837809380</td>\n      <td>0.0</td>\n      <td>0.0</td>\n      <td>1.584876</td>\n      <td>0.477261</td>\n    </tr>\n    <tr>\n      <th>2023-04-08 00:00:00+00:00</th>\n      <td>27920.513672</td>\n      <td>28159.863281</td>\n      <td>27883.386719</td>\n      <td>27947.794922</td>\n      <td>9373255556</td>\n      <td>0.0</td>\n      <td>0.0</td>\n      <td>0.991546</td>\n      <td>0.423555</td>\n    </tr>\n    <tr>\n      <th>2023-04-30 00:00:00+00:00</th>\n      <td>29245.515625</td>\n      <td>29952.029297</td>\n      <td>29114.021484</td>\n      <td>29268.806641</td>\n      <td>14652199272</td>\n      <td>0.0</td>\n      <td>0.0</td>\n      <td>2.878365</td>\n      <td>0.313772</td>\n    </tr>\n    <tr>\n      <th>2023-05-10 00:00:00+00:00</th>\n      <td>27654.636719</td>\n      <td>28322.687500</td>\n      <td>26883.669922</td>\n      <td>27621.755859</td>\n      <td>20656025026</td>\n      <td>0.0</td>\n      <td>0.0</td>\n      <td>5.352757</td>\n      <td>0.262538</td>\n    </tr>\n    <tr>\n      <th>2023-06-12 00:00:00+00:00</th>\n      <td>25934.285156</td>\n      <td>26087.919922</td>\n      <td>25675.197266</td>\n      <td>25902.500000</td>\n      <td>11677889997</td>\n      <td>0.0</td>\n      <td>0.0</td>\n      <td>1.607476</td>\n      <td>0.343998</td>\n    </tr>\n    <tr>\n      <th>2023-06-13 00:00:00+00:00</th>\n      <td>25902.941406</td>\n      <td>26376.351562</td>\n      <td>25728.365234</td>\n      <td>25918.728516</td>\n      <td>14143474486</td>\n      <td>0.0</td>\n      <td>0.0</td>\n      <td>2.518568</td>\n      <td>0.145422</td>\n    </tr>\n    <tr>\n      <th>2023-07-01 00:00:00+00:00</th>\n      <td>30471.847656</td>\n      <td>30641.289062</td>\n      <td>30328.865234</td>\n      <td>30590.078125</td>\n      <td>9086606733</td>\n      <td>0.0</td>\n      <td>0.0</td>\n      <td>1.030120</td>\n      <td>0.475365</td>\n    </tr>\n    <tr>\n      <th>2023-07-02 00:00:00+00:00</th>\n      <td>30587.269531</td>\n      <td>30766.140625</td>\n      <td>30264.019531</td>\n      <td>30620.769531</td>\n      <td>10533418042</td>\n      <td>0.0</td>\n      <td>0.0</td>\n      <td>1.659136</td>\n      <td>0.470901</td>\n    </tr>\n    <tr>\n      <th>2023-07-16 00:00:00+00:00</th>\n      <td>30297.472656</td>\n      <td>30437.560547</td>\n      <td>30089.669922</td>\n      <td>30249.132812</td>\n      <td>8516564470</td>\n      <td>0.0</td>\n      <td>0.0</td>\n      <td>1.156180</td>\n      <td>0.280787</td>\n    </tr>\n    <tr>\n      <th>2023-07-17 00:00:00+00:00</th>\n      <td>30249.626953</td>\n      <td>30336.400391</td>\n      <td>29685.783203</td>\n      <td>30145.888672</td>\n      <td>13240156074</td>\n      <td>0.0</td>\n      <td>0.0</td>\n      <td>2.191679</td>\n      <td>0.497308</td>\n    </tr>\n    <tr>\n      <th>2023-07-20 00:00:00+00:00</th>\n      <td>29915.250000</td>\n      <td>30195.531250</td>\n      <td>29638.095703</td>\n      <td>29792.015625</td>\n      <td>14655207121</td>\n      <td>0.0</td>\n      <td>0.0</td>\n      <td>1.880808</td>\n      <td>0.409198</td>\n    </tr>\n    <tr>\n      <th>2023-07-21 00:00:00+00:00</th>\n      <td>29805.111328</td>\n      <td>30045.998047</td>\n      <td>29733.851562</td>\n      <td>29908.744141</td>\n      <td>10972789818</td>\n      <td>0.0</td>\n      <td>0.0</td>\n      <td>1.049802</td>\n      <td>0.409198</td>\n    </tr>\n    <tr>\n      <th>2023-07-22 00:00:00+00:00</th>\n      <td>29908.697266</td>\n      <td>29991.615234</td>\n      <td>29664.121094</td>\n      <td>29771.802734</td>\n      <td>7873300598</td>\n      <td>0.0</td>\n      <td>0.0</td>\n      <td>1.104008</td>\n      <td>0.459970</td>\n    </tr>\n    <tr>\n      <th>2023-07-27 00:00:00+00:00</th>\n      <td>29353.798828</td>\n      <td>29560.966797</td>\n      <td>29099.351562</td>\n      <td>29210.689453</td>\n      <td>10770779217</td>\n      <td>0.0</td>\n      <td>0.0</td>\n      <td>1.586342</td>\n      <td>0.493940</td>\n    </tr>\n    <tr>\n      <th>2023-07-28 00:00:00+00:00</th>\n      <td>29212.164062</td>\n      <td>29521.513672</td>\n      <td>29125.845703</td>\n      <td>29319.246094</td>\n      <td>11218474952</td>\n      <td>0.0</td>\n      <td>0.0</td>\n      <td>1.358477</td>\n      <td>0.493940</td>\n    </tr>\n    <tr>\n      <th>2023-07-30 00:00:00+00:00</th>\n      <td>29357.093750</td>\n      <td>29443.169922</td>\n      <td>29059.501953</td>\n      <td>29275.308594</td>\n      <td>8678454527</td>\n      <td>0.0</td>\n      <td>0.0</td>\n      <td>1.320284</td>\n      <td>0.278765</td>\n    </tr>\n    <tr>\n      <th>2023-07-31 00:00:00+00:00</th>\n      <td>29278.314453</td>\n      <td>29489.873047</td>\n      <td>29131.578125</td>\n      <td>29230.111328</td>\n      <td>11656781982</td>\n      <td>0.0</td>\n      <td>0.0</td>\n      <td>1.229919</td>\n      <td>0.433822</td>\n    </tr>\n    <tr>\n      <th>2023-08-04 00:00:00+00:00</th>\n      <td>29174.382812</td>\n      <td>29302.078125</td>\n      <td>28885.335938</td>\n      <td>29074.091797</td>\n      <td>12036639988</td>\n      <td>0.0</td>\n      <td>0.0</td>\n      <td>1.442747</td>\n      <td>0.359729</td>\n    </tr>\n    <tr>\n      <th>2023-08-05 00:00:00+00:00</th>\n      <td>29075.388672</td>\n      <td>29102.464844</td>\n      <td>28957.796875</td>\n      <td>29042.126953</td>\n      <td>6598366353</td>\n      <td>0.0</td>\n      <td>0.0</td>\n      <td>0.499582</td>\n      <td>0.470188</td>\n    </tr>\n    <tr>\n      <th>2023-08-06 00:00:00+00:00</th>\n      <td>29043.701172</td>\n      <td>29160.822266</td>\n      <td>28963.833984</td>\n      <td>29041.855469</td>\n      <td>7269806994</td>\n      <td>0.0</td>\n      <td>0.0</td>\n      <td>0.680118</td>\n      <td>0.111000</td>\n    </tr>\n    <tr>\n      <th>2023-08-07 00:00:00+00:00</th>\n      <td>29038.513672</td>\n      <td>29244.281250</td>\n      <td>28724.140625</td>\n      <td>29180.578125</td>\n      <td>13618163710</td>\n      <td>0.0</td>\n      <td>0.0</td>\n      <td>1.810814</td>\n      <td>0.477665</td>\n    </tr>\n    <tr>\n      <th>2023-08-12 00:00:00+00:00</th>\n      <td>29399.787109</td>\n      <td>29465.113281</td>\n      <td>29357.587891</td>\n      <td>29415.964844</td>\n      <td>6194358008</td>\n      <td>0.0</td>\n      <td>0.0</td>\n      <td>0.366261</td>\n      <td>0.108433</td>\n    </tr>\n    <tr>\n      <th>2023-08-13 00:00:00+00:00</th>\n      <td>29416.593750</td>\n      <td>29441.433594</td>\n      <td>29265.806641</td>\n      <td>29282.914062</td>\n      <td>7329897180</td>\n      <td>0.0</td>\n      <td>0.0</td>\n      <td>0.600110</td>\n      <td>0.454363</td>\n    </tr>\n    <tr>\n      <th>2023-08-14 00:00:00+00:00</th>\n      <td>29283.263672</td>\n      <td>29660.253906</td>\n      <td>29124.105469</td>\n      <td>29408.443359</td>\n      <td>14013695304</td>\n      <td>0.0</td>\n      <td>0.0</td>\n      <td>1.840910</td>\n      <td>0.454363</td>\n    </tr>\n    <tr>\n      <th>2023-08-21 00:00:00+00:00</th>\n      <td>26188.691406</td>\n      <td>26220.201172</td>\n      <td>25846.087891</td>\n      <td>26124.140625</td>\n      <td>13371557893</td>\n      <td>0.0</td>\n      <td>0.0</td>\n      <td>1.447466</td>\n      <td>0.357826</td>\n    </tr>\n    <tr>\n      <th>2023-08-27 00:00:00+00:00</th>\n      <td>26008.242188</td>\n      <td>26165.373047</td>\n      <td>25965.097656</td>\n      <td>26089.693359</td>\n      <td>6913768611</td>\n      <td>0.0</td>\n      <td>0.0</td>\n      <td>0.771325</td>\n      <td>0.312323</td>\n    </tr>\n    <tr>\n      <th>2023-08-28 00:00:00+00:00</th>\n      <td>26089.615234</td>\n      <td>26198.578125</td>\n      <td>25880.599609</td>\n      <td>26106.150391</td>\n      <td>11002805166</td>\n      <td>0.0</td>\n      <td>0.0</td>\n      <td>1.228637</td>\n      <td>0.375599</td>\n    </tr>\n    <tr>\n      <th>2023-09-06 00:00:00+00:00</th>\n      <td>25783.931641</td>\n      <td>25953.015625</td>\n      <td>25404.359375</td>\n      <td>25753.236328</td>\n      <td>12752705327</td>\n      <td>0.0</td>\n      <td>0.0</td>\n      <td>2.159693</td>\n      <td>0.229795</td>\n    </tr>\n    <tr>\n      <th>2023-09-10 00:00:00+00:00</th>\n      <td>25895.210938</td>\n      <td>25978.130859</td>\n      <td>25640.261719</td>\n      <td>25832.226562</td>\n      <td>7899553047</td>\n      <td>0.0</td>\n      <td>0.0</td>\n      <td>1.317729</td>\n      <td>0.284249</td>\n    </tr>\n    <tr>\n      <th>2023-09-16 00:00:00+00:00</th>\n      <td>26606.199219</td>\n      <td>26754.769531</td>\n      <td>26473.890625</td>\n      <td>26568.281250</td>\n      <td>7402031417</td>\n      <td>0.0</td>\n      <td>0.0</td>\n      <td>1.060966</td>\n      <td>0.260062</td>\n    </tr>\n    <tr>\n      <th>2023-09-17 00:00:00+00:00</th>\n      <td>26567.927734</td>\n      <td>26617.998047</td>\n      <td>26445.074219</td>\n      <td>26534.187500</td>\n      <td>6774210670</td>\n      <td>0.0</td>\n      <td>0.0</td>\n      <td>0.653898</td>\n      <td>0.280792</td>\n    </tr>\n    <tr>\n      <th>2023-09-23 00:00:00+00:00</th>\n      <td>26578.556641</td>\n      <td>26634.185547</td>\n      <td>26520.519531</td>\n      <td>26579.390625</td>\n      <td>7404700301</td>\n      <td>0.0</td>\n      <td>0.0</td>\n      <td>0.428596</td>\n      <td>0.044925</td>\n    </tr>\n    <tr>\n      <th>2023-09-26 00:00:00+00:00</th>\n      <td>26294.757812</td>\n      <td>26389.884766</td>\n      <td>26090.712891</td>\n      <td>26217.250000</td>\n      <td>9985498161</td>\n      <td>0.0</td>\n      <td>0.0</td>\n      <td>1.146660</td>\n      <td>0.309836</td>\n    </tr>\n    <tr>\n      <th>2023-09-30 00:00:00+00:00</th>\n      <td>26911.689453</td>\n      <td>27091.794922</td>\n      <td>26888.968750</td>\n      <td>26967.916016</td>\n      <td>5331172801</td>\n      <td>0.0</td>\n      <td>0.0</td>\n      <td>0.754310</td>\n      <td>0.408098</td>\n    </tr>\n    <tr>\n      <th>2023-10-08 00:00:00+00:00</th>\n      <td>27971.677734</td>\n      <td>28102.169922</td>\n      <td>27740.662109</td>\n      <td>27935.089844</td>\n      <td>7916875290</td>\n      <td>0.0</td>\n      <td>0.0</td>\n      <td>1.303169</td>\n      <td>0.120816</td>\n    </tr>\n    <tr>\n      <th>2023-10-13 00:00:00+00:00</th>\n      <td>26752.878906</td>\n      <td>27092.697266</td>\n      <td>26686.322266</td>\n      <td>26862.375000</td>\n      <td>15165312851</td>\n      <td>0.0</td>\n      <td>0.0</td>\n      <td>1.522784</td>\n      <td>0.435484</td>\n    </tr>\n    <tr>\n      <th>2023-10-14 00:00:00+00:00</th>\n      <td>26866.203125</td>\n      <td>26969.000000</td>\n      <td>26814.585938</td>\n      <td>26861.707031</td>\n      <td>5388116782</td>\n      <td>0.0</td>\n      <td>0.0</td>\n      <td>0.575858</td>\n      <td>0.394577</td>\n    </tr>\n  </tbody>\n</table>\n</div>"
     },
     "execution_count": 39,
     "metadata": {},
     "output_type": "execute_result"
    }
   ],
   "source": [
    "consecutive_data"
   ],
   "metadata": {
    "collapsed": false
   }
  },
  {
   "cell_type": "code",
   "execution_count": null,
   "outputs": [],
   "source": [],
   "metadata": {
    "collapsed": false,
    "pycharm": {
     "is_executing": true
    }
   }
  },
  {
   "cell_type": "code",
   "execution_count": 28,
   "outputs": [],
   "source": [],
   "metadata": {
    "collapsed": false
   }
  },
  {
   "cell_type": "code",
   "execution_count": null,
   "outputs": [],
   "source": [],
   "metadata": {
    "collapsed": false
   }
  }
 ],
 "metadata": {
  "kernelspec": {
   "display_name": "Python 3",
   "language": "python",
   "name": "python3"
  },
  "language_info": {
   "codemirror_mode": {
    "name": "ipython",
    "version": 2
   },
   "file_extension": ".py",
   "mimetype": "text/x-python",
   "name": "python",
   "nbconvert_exporter": "python",
   "pygments_lexer": "ipython2",
   "version": "2.7.6"
  }
 },
 "nbformat": 4,
 "nbformat_minor": 0
}
