{
 "cells": [
  {
   "cell_type": "code",
   "execution_count": 1,
   "metadata": {
    "collapsed": true
   },
   "outputs": [],
   "source": [
    "import time\n",
    "\n",
    "import okx.Trade as Trade"
   ]
  },
  {
   "cell_type": "code",
   "execution_count": 2,
   "outputs": [],
   "source": [
    "\n",
    "# IP = \"111.0.51.231\"\n",
    "# 备注名 = \"okx-trade-rain\""
   ],
   "metadata": {
    "collapsed": false
   }
  },
  {
   "cell_type": "code",
   "execution_count": 4,
   "outputs": [
    {
     "name": "stdout",
     "output_type": "stream",
     "text": [
      "header:  {'Content-Type': 'application/json', 'x-simulated-trading': '0'}\n",
      "domain: https://www.okx.com\n",
      "url: /api/v5/market/tickers?instType=SPOT\n"
     ]
    },
    {
     "ename": "ConnectTimeout",
     "evalue": "timed out",
     "output_type": "error",
     "traceback": [
      "\u001B[0;31m---------------------------------------------------------------------------\u001B[0m",
      "\u001B[0;31mTimeoutError\u001B[0m                              Traceback (most recent call last)",
      "File \u001B[0;32m~/anaconda3/envs/okx-trading/lib/python3.10/site-packages/httpcore/_exceptions.py:10\u001B[0m, in \u001B[0;36mmap_exceptions\u001B[0;34m(map)\u001B[0m\n\u001B[1;32m      9\u001B[0m \u001B[38;5;28;01mtry\u001B[39;00m:\n\u001B[0;32m---> 10\u001B[0m     \u001B[38;5;28;01myield\u001B[39;00m\n\u001B[1;32m     11\u001B[0m \u001B[38;5;28;01mexcept\u001B[39;00m \u001B[38;5;167;01mException\u001B[39;00m \u001B[38;5;28;01mas\u001B[39;00m exc:  \u001B[38;5;66;03m# noqa: PIE786\u001B[39;00m\n",
      "File \u001B[0;32m~/anaconda3/envs/okx-trading/lib/python3.10/site-packages/httpcore/_backends/sync.py:206\u001B[0m, in \u001B[0;36mSyncBackend.connect_tcp\u001B[0;34m(self, host, port, timeout, local_address, socket_options)\u001B[0m\n\u001B[1;32m    205\u001B[0m \u001B[38;5;28;01mwith\u001B[39;00m map_exceptions(exc_map):\n\u001B[0;32m--> 206\u001B[0m     sock \u001B[38;5;241m=\u001B[39m \u001B[43msocket\u001B[49m\u001B[38;5;241;43m.\u001B[39;49m\u001B[43mcreate_connection\u001B[49m\u001B[43m(\u001B[49m\n\u001B[1;32m    207\u001B[0m \u001B[43m        \u001B[49m\u001B[43maddress\u001B[49m\u001B[43m,\u001B[49m\n\u001B[1;32m    208\u001B[0m \u001B[43m        \u001B[49m\u001B[43mtimeout\u001B[49m\u001B[43m,\u001B[49m\n\u001B[1;32m    209\u001B[0m \u001B[43m        \u001B[49m\u001B[43msource_address\u001B[49m\u001B[38;5;241;43m=\u001B[39;49m\u001B[43msource_address\u001B[49m\u001B[43m,\u001B[49m\n\u001B[1;32m    210\u001B[0m \u001B[43m    \u001B[49m\u001B[43m)\u001B[49m\n\u001B[1;32m    211\u001B[0m     \u001B[38;5;28;01mfor\u001B[39;00m option \u001B[38;5;129;01min\u001B[39;00m socket_options:\n",
      "File \u001B[0;32m~/anaconda3/envs/okx-trading/lib/python3.10/socket.py:845\u001B[0m, in \u001B[0;36mcreate_connection\u001B[0;34m(address, timeout, source_address)\u001B[0m\n\u001B[1;32m    844\u001B[0m \u001B[38;5;28;01mtry\u001B[39;00m:\n\u001B[0;32m--> 845\u001B[0m     \u001B[38;5;28;01mraise\u001B[39;00m err\n\u001B[1;32m    846\u001B[0m \u001B[38;5;28;01mfinally\u001B[39;00m:\n\u001B[1;32m    847\u001B[0m     \u001B[38;5;66;03m# Break explicitly a reference cycle\u001B[39;00m\n",
      "File \u001B[0;32m~/anaconda3/envs/okx-trading/lib/python3.10/socket.py:833\u001B[0m, in \u001B[0;36mcreate_connection\u001B[0;34m(address, timeout, source_address)\u001B[0m\n\u001B[1;32m    832\u001B[0m     sock\u001B[38;5;241m.\u001B[39mbind(source_address)\n\u001B[0;32m--> 833\u001B[0m \u001B[43msock\u001B[49m\u001B[38;5;241;43m.\u001B[39;49m\u001B[43mconnect\u001B[49m\u001B[43m(\u001B[49m\u001B[43msa\u001B[49m\u001B[43m)\u001B[49m\n\u001B[1;32m    834\u001B[0m \u001B[38;5;66;03m# Break explicitly a reference cycle\u001B[39;00m\n",
      "\u001B[0;31mTimeoutError\u001B[0m: timed out",
      "\nThe above exception was the direct cause of the following exception:\n",
      "\u001B[0;31mConnectTimeout\u001B[0m                            Traceback (most recent call last)",
      "File \u001B[0;32m~/anaconda3/envs/okx-trading/lib/python3.10/site-packages/httpx/_transports/default.py:66\u001B[0m, in \u001B[0;36mmap_httpcore_exceptions\u001B[0;34m()\u001B[0m\n\u001B[1;32m     65\u001B[0m \u001B[38;5;28;01mtry\u001B[39;00m:\n\u001B[0;32m---> 66\u001B[0m     \u001B[38;5;28;01myield\u001B[39;00m\n\u001B[1;32m     67\u001B[0m \u001B[38;5;28;01mexcept\u001B[39;00m \u001B[38;5;167;01mException\u001B[39;00m \u001B[38;5;28;01mas\u001B[39;00m exc:\n",
      "File \u001B[0;32m~/anaconda3/envs/okx-trading/lib/python3.10/site-packages/httpx/_transports/default.py:228\u001B[0m, in \u001B[0;36mHTTPTransport.handle_request\u001B[0;34m(self, request)\u001B[0m\n\u001B[1;32m    227\u001B[0m \u001B[38;5;28;01mwith\u001B[39;00m map_httpcore_exceptions():\n\u001B[0;32m--> 228\u001B[0m     resp \u001B[38;5;241m=\u001B[39m \u001B[38;5;28;43mself\u001B[39;49m\u001B[38;5;241;43m.\u001B[39;49m\u001B[43m_pool\u001B[49m\u001B[38;5;241;43m.\u001B[39;49m\u001B[43mhandle_request\u001B[49m\u001B[43m(\u001B[49m\u001B[43mreq\u001B[49m\u001B[43m)\u001B[49m\n\u001B[1;32m    230\u001B[0m \u001B[38;5;28;01massert\u001B[39;00m \u001B[38;5;28misinstance\u001B[39m(resp\u001B[38;5;241m.\u001B[39mstream, typing\u001B[38;5;241m.\u001B[39mIterable)\n",
      "File \u001B[0;32m~/anaconda3/envs/okx-trading/lib/python3.10/site-packages/httpcore/_sync/connection_pool.py:268\u001B[0m, in \u001B[0;36mConnectionPool.handle_request\u001B[0;34m(self, request)\u001B[0m\n\u001B[1;32m    267\u001B[0m         \u001B[38;5;28mself\u001B[39m\u001B[38;5;241m.\u001B[39mresponse_closed(status)\n\u001B[0;32m--> 268\u001B[0m     \u001B[38;5;28;01mraise\u001B[39;00m exc\n\u001B[1;32m    269\u001B[0m \u001B[38;5;28;01melse\u001B[39;00m:\n",
      "File \u001B[0;32m~/anaconda3/envs/okx-trading/lib/python3.10/site-packages/httpcore/_sync/connection_pool.py:251\u001B[0m, in \u001B[0;36mConnectionPool.handle_request\u001B[0;34m(self, request)\u001B[0m\n\u001B[1;32m    250\u001B[0m \u001B[38;5;28;01mtry\u001B[39;00m:\n\u001B[0;32m--> 251\u001B[0m     response \u001B[38;5;241m=\u001B[39m \u001B[43mconnection\u001B[49m\u001B[38;5;241;43m.\u001B[39;49m\u001B[43mhandle_request\u001B[49m\u001B[43m(\u001B[49m\u001B[43mrequest\u001B[49m\u001B[43m)\u001B[49m\n\u001B[1;32m    252\u001B[0m \u001B[38;5;28;01mexcept\u001B[39;00m ConnectionNotAvailable:\n\u001B[1;32m    253\u001B[0m     \u001B[38;5;66;03m# The ConnectionNotAvailable exception is a special case, that\u001B[39;00m\n\u001B[1;32m    254\u001B[0m     \u001B[38;5;66;03m# indicates we need to retry the request on a new connection.\u001B[39;00m\n\u001B[0;32m   (...)\u001B[0m\n\u001B[1;32m    258\u001B[0m     \u001B[38;5;66;03m# might end up as an HTTP/2 connection, but which actually ends\u001B[39;00m\n\u001B[1;32m    259\u001B[0m     \u001B[38;5;66;03m# up as HTTP/1.1.\u001B[39;00m\n",
      "File \u001B[0;32m~/anaconda3/envs/okx-trading/lib/python3.10/site-packages/httpcore/_sync/connection.py:99\u001B[0m, in \u001B[0;36mHTTPConnection.handle_request\u001B[0;34m(self, request)\u001B[0m\n\u001B[1;32m     98\u001B[0m         \u001B[38;5;28mself\u001B[39m\u001B[38;5;241m.\u001B[39m_connect_failed \u001B[38;5;241m=\u001B[39m \u001B[38;5;28;01mTrue\u001B[39;00m\n\u001B[0;32m---> 99\u001B[0m         \u001B[38;5;28;01mraise\u001B[39;00m exc\n\u001B[1;32m    100\u001B[0m \u001B[38;5;28;01melif\u001B[39;00m \u001B[38;5;129;01mnot\u001B[39;00m \u001B[38;5;28mself\u001B[39m\u001B[38;5;241m.\u001B[39m_connection\u001B[38;5;241m.\u001B[39mis_available():\n",
      "File \u001B[0;32m~/anaconda3/envs/okx-trading/lib/python3.10/site-packages/httpcore/_sync/connection.py:76\u001B[0m, in \u001B[0;36mHTTPConnection.handle_request\u001B[0;34m(self, request)\u001B[0m\n\u001B[1;32m     75\u001B[0m \u001B[38;5;28;01mtry\u001B[39;00m:\n\u001B[0;32m---> 76\u001B[0m     stream \u001B[38;5;241m=\u001B[39m \u001B[38;5;28;43mself\u001B[39;49m\u001B[38;5;241;43m.\u001B[39;49m\u001B[43m_connect\u001B[49m\u001B[43m(\u001B[49m\u001B[43mrequest\u001B[49m\u001B[43m)\u001B[49m\n\u001B[1;32m     78\u001B[0m     ssl_object \u001B[38;5;241m=\u001B[39m stream\u001B[38;5;241m.\u001B[39mget_extra_info(\u001B[38;5;124m\"\u001B[39m\u001B[38;5;124mssl_object\u001B[39m\u001B[38;5;124m\"\u001B[39m)\n",
      "File \u001B[0;32m~/anaconda3/envs/okx-trading/lib/python3.10/site-packages/httpcore/_sync/connection.py:124\u001B[0m, in \u001B[0;36mHTTPConnection._connect\u001B[0;34m(self, request)\u001B[0m\n\u001B[1;32m    123\u001B[0m \u001B[38;5;28;01mwith\u001B[39;00m Trace(\u001B[38;5;124m\"\u001B[39m\u001B[38;5;124mconnect_tcp\u001B[39m\u001B[38;5;124m\"\u001B[39m, logger, request, kwargs) \u001B[38;5;28;01mas\u001B[39;00m trace:\n\u001B[0;32m--> 124\u001B[0m     stream \u001B[38;5;241m=\u001B[39m \u001B[38;5;28;43mself\u001B[39;49m\u001B[38;5;241;43m.\u001B[39;49m\u001B[43m_network_backend\u001B[49m\u001B[38;5;241;43m.\u001B[39;49m\u001B[43mconnect_tcp\u001B[49m\u001B[43m(\u001B[49m\u001B[38;5;241;43m*\u001B[39;49m\u001B[38;5;241;43m*\u001B[39;49m\u001B[43mkwargs\u001B[49m\u001B[43m)\u001B[49m\n\u001B[1;32m    125\u001B[0m     trace\u001B[38;5;241m.\u001B[39mreturn_value \u001B[38;5;241m=\u001B[39m stream\n",
      "File \u001B[0;32m~/anaconda3/envs/okx-trading/lib/python3.10/site-packages/httpcore/_backends/sync.py:205\u001B[0m, in \u001B[0;36mSyncBackend.connect_tcp\u001B[0;34m(self, host, port, timeout, local_address, socket_options)\u001B[0m\n\u001B[1;32m    200\u001B[0m exc_map: ExceptionMapping \u001B[38;5;241m=\u001B[39m {\n\u001B[1;32m    201\u001B[0m     socket\u001B[38;5;241m.\u001B[39mtimeout: ConnectTimeout,\n\u001B[1;32m    202\u001B[0m     \u001B[38;5;167;01mOSError\u001B[39;00m: ConnectError,\n\u001B[1;32m    203\u001B[0m }\n\u001B[0;32m--> 205\u001B[0m \u001B[38;5;28;01mwith\u001B[39;00m map_exceptions(exc_map):\n\u001B[1;32m    206\u001B[0m     sock \u001B[38;5;241m=\u001B[39m socket\u001B[38;5;241m.\u001B[39mcreate_connection(\n\u001B[1;32m    207\u001B[0m         address,\n\u001B[1;32m    208\u001B[0m         timeout,\n\u001B[1;32m    209\u001B[0m         source_address\u001B[38;5;241m=\u001B[39msource_address,\n\u001B[1;32m    210\u001B[0m     )\n",
      "File \u001B[0;32m~/anaconda3/envs/okx-trading/lib/python3.10/contextlib.py:153\u001B[0m, in \u001B[0;36m_GeneratorContextManager.__exit__\u001B[0;34m(self, typ, value, traceback)\u001B[0m\n\u001B[1;32m    152\u001B[0m \u001B[38;5;28;01mtry\u001B[39;00m:\n\u001B[0;32m--> 153\u001B[0m     \u001B[38;5;28;43mself\u001B[39;49m\u001B[38;5;241;43m.\u001B[39;49m\u001B[43mgen\u001B[49m\u001B[38;5;241;43m.\u001B[39;49m\u001B[43mthrow\u001B[49m\u001B[43m(\u001B[49m\u001B[43mtyp\u001B[49m\u001B[43m,\u001B[49m\u001B[43m \u001B[49m\u001B[43mvalue\u001B[49m\u001B[43m,\u001B[49m\u001B[43m \u001B[49m\u001B[43mtraceback\u001B[49m\u001B[43m)\u001B[49m\n\u001B[1;32m    154\u001B[0m \u001B[38;5;28;01mexcept\u001B[39;00m \u001B[38;5;167;01mStopIteration\u001B[39;00m \u001B[38;5;28;01mas\u001B[39;00m exc:\n\u001B[1;32m    155\u001B[0m     \u001B[38;5;66;03m# Suppress StopIteration *unless* it's the same exception that\u001B[39;00m\n\u001B[1;32m    156\u001B[0m     \u001B[38;5;66;03m# was passed to throw().  This prevents a StopIteration\u001B[39;00m\n\u001B[1;32m    157\u001B[0m     \u001B[38;5;66;03m# raised inside the \"with\" statement from being suppressed.\u001B[39;00m\n",
      "File \u001B[0;32m~/anaconda3/envs/okx-trading/lib/python3.10/site-packages/httpcore/_exceptions.py:14\u001B[0m, in \u001B[0;36mmap_exceptions\u001B[0;34m(map)\u001B[0m\n\u001B[1;32m     13\u001B[0m     \u001B[38;5;28;01mif\u001B[39;00m \u001B[38;5;28misinstance\u001B[39m(exc, from_exc):\n\u001B[0;32m---> 14\u001B[0m         \u001B[38;5;28;01mraise\u001B[39;00m to_exc(exc) \u001B[38;5;28;01mfrom\u001B[39;00m \u001B[38;5;21;01mexc\u001B[39;00m\n\u001B[1;32m     15\u001B[0m \u001B[38;5;28;01mraise\u001B[39;00m\n",
      "\u001B[0;31mConnectTimeout\u001B[0m: timed out",
      "\nThe above exception was the direct cause of the following exception:\n",
      "\u001B[0;31mConnectTimeout\u001B[0m                            Traceback (most recent call last)",
      "Cell \u001B[0;32mIn[4], line 6\u001B[0m\n\u001B[1;32m      2\u001B[0m flag \u001B[38;5;241m=\u001B[39m \u001B[38;5;124m\"\u001B[39m\u001B[38;5;124m0\u001B[39m\u001B[38;5;124m\"\u001B[39m\n\u001B[1;32m      4\u001B[0m marketDataApi \u001B[38;5;241m=\u001B[39m MarketData\u001B[38;5;241m.\u001B[39mMarketAPI(flag \u001B[38;5;241m=\u001B[39m flag)\n\u001B[0;32m----> 6\u001B[0m result \u001B[38;5;241m=\u001B[39m \u001B[43mmarketDataApi\u001B[49m\u001B[38;5;241;43m.\u001B[39;49m\u001B[43mget_tickers\u001B[49m\u001B[43m(\u001B[49m\u001B[43minstType\u001B[49m\u001B[38;5;241;43m=\u001B[39;49m\u001B[38;5;124;43m\"\u001B[39;49m\u001B[38;5;124;43mSPOT\u001B[39;49m\u001B[38;5;124;43m\"\u001B[39;49m\u001B[43m)\u001B[49m\n\u001B[1;32m      8\u001B[0m \u001B[38;5;28mprint\u001B[39m(result[\u001B[38;5;124m\"\u001B[39m\u001B[38;5;124mdata\u001B[39m\u001B[38;5;124m\"\u001B[39m])\n",
      "File \u001B[0;32m~/anaconda3/envs/okx-trading/lib/python3.10/site-packages/okx/MarketData.py:17\u001B[0m, in \u001B[0;36mMarketAPI.get_tickers\u001B[0;34m(self, instType, uly, instFamily)\u001B[0m\n\u001B[1;32m     15\u001B[0m \u001B[38;5;28;01melse\u001B[39;00m:\n\u001B[1;32m     16\u001B[0m     params \u001B[38;5;241m=\u001B[39m {\u001B[38;5;124m'\u001B[39m\u001B[38;5;124minstType\u001B[39m\u001B[38;5;124m'\u001B[39m: instType, \u001B[38;5;124m'\u001B[39m\u001B[38;5;124minstFamily\u001B[39m\u001B[38;5;124m'\u001B[39m: instFamily}\n\u001B[0;32m---> 17\u001B[0m \u001B[38;5;28;01mreturn\u001B[39;00m \u001B[38;5;28;43mself\u001B[39;49m\u001B[38;5;241;43m.\u001B[39;49m\u001B[43m_request_with_params\u001B[49m\u001B[43m(\u001B[49m\u001B[43mGET\u001B[49m\u001B[43m,\u001B[49m\u001B[43m \u001B[49m\u001B[43mTICKERS_INFO\u001B[49m\u001B[43m,\u001B[49m\u001B[43m \u001B[49m\u001B[43mparams\u001B[49m\u001B[43m)\u001B[49m\n",
      "File \u001B[0;32m~/anaconda3/envs/okx-trading/lib/python3.10/site-packages/okx/client.py:46\u001B[0m, in \u001B[0;36mClient._request_with_params\u001B[0;34m(self, method, request_path, params)\u001B[0m\n\u001B[1;32m     45\u001B[0m \u001B[38;5;28;01mdef\u001B[39;00m \u001B[38;5;21m_request_with_params\u001B[39m(\u001B[38;5;28mself\u001B[39m, method, request_path, params):\n\u001B[0;32m---> 46\u001B[0m     \u001B[38;5;28;01mreturn\u001B[39;00m \u001B[38;5;28;43mself\u001B[39;49m\u001B[38;5;241;43m.\u001B[39;49m\u001B[43m_request\u001B[49m\u001B[43m(\u001B[49m\u001B[43mmethod\u001B[49m\u001B[43m,\u001B[49m\u001B[43m \u001B[49m\u001B[43mrequest_path\u001B[49m\u001B[43m,\u001B[49m\u001B[43m \u001B[49m\u001B[43mparams\u001B[49m\u001B[43m)\u001B[49m\n",
      "File \u001B[0;32m~/anaconda3/envs/okx-trading/lib/python3.10/site-packages/okx/client.py:37\u001B[0m, in \u001B[0;36mClient._request\u001B[0;34m(self, method, request_path, params)\u001B[0m\n\u001B[1;32m     35\u001B[0m     \u001B[38;5;28mprint\u001B[39m(\u001B[38;5;124m'\u001B[39m\u001B[38;5;124murl:\u001B[39m\u001B[38;5;124m'\u001B[39m,request_path)\n\u001B[1;32m     36\u001B[0m \u001B[38;5;28;01mif\u001B[39;00m method \u001B[38;5;241m==\u001B[39m c\u001B[38;5;241m.\u001B[39mGET:\n\u001B[0;32m---> 37\u001B[0m     response \u001B[38;5;241m=\u001B[39m \u001B[38;5;28;43mself\u001B[39;49m\u001B[38;5;241;43m.\u001B[39;49m\u001B[43mclient\u001B[49m\u001B[38;5;241;43m.\u001B[39;49m\u001B[43mget\u001B[49m\u001B[43m(\u001B[49m\u001B[43mrequest_path\u001B[49m\u001B[43m,\u001B[49m\u001B[43m \u001B[49m\u001B[43mheaders\u001B[49m\u001B[38;5;241;43m=\u001B[39;49m\u001B[43mheader\u001B[49m\u001B[43m)\u001B[49m\n\u001B[1;32m     38\u001B[0m \u001B[38;5;28;01melif\u001B[39;00m method \u001B[38;5;241m==\u001B[39m c\u001B[38;5;241m.\u001B[39mPOST:\n\u001B[1;32m     39\u001B[0m     response \u001B[38;5;241m=\u001B[39m \u001B[38;5;28mself\u001B[39m\u001B[38;5;241m.\u001B[39mclient\u001B[38;5;241m.\u001B[39mpost(request_path, data\u001B[38;5;241m=\u001B[39mbody, headers\u001B[38;5;241m=\u001B[39mheader)\n",
      "File \u001B[0;32m~/anaconda3/envs/okx-trading/lib/python3.10/site-packages/httpx/_client.py:1041\u001B[0m, in \u001B[0;36mClient.get\u001B[0;34m(self, url, params, headers, cookies, auth, follow_redirects, timeout, extensions)\u001B[0m\n\u001B[1;32m   1024\u001B[0m \u001B[38;5;28;01mdef\u001B[39;00m \u001B[38;5;21mget\u001B[39m(\n\u001B[1;32m   1025\u001B[0m     \u001B[38;5;28mself\u001B[39m,\n\u001B[1;32m   1026\u001B[0m     url: URLTypes,\n\u001B[0;32m   (...)\u001B[0m\n\u001B[1;32m   1034\u001B[0m     extensions: typing\u001B[38;5;241m.\u001B[39mOptional[RequestExtensions] \u001B[38;5;241m=\u001B[39m \u001B[38;5;28;01mNone\u001B[39;00m,\n\u001B[1;32m   1035\u001B[0m ) \u001B[38;5;241m-\u001B[39m\u001B[38;5;241m>\u001B[39m Response:\n\u001B[1;32m   1036\u001B[0m \u001B[38;5;250m    \u001B[39m\u001B[38;5;124;03m\"\"\"\u001B[39;00m\n\u001B[1;32m   1037\u001B[0m \u001B[38;5;124;03m    Send a `GET` request.\u001B[39;00m\n\u001B[1;32m   1038\u001B[0m \n\u001B[1;32m   1039\u001B[0m \u001B[38;5;124;03m    **Parameters**: See `httpx.request`.\u001B[39;00m\n\u001B[1;32m   1040\u001B[0m \u001B[38;5;124;03m    \"\"\"\u001B[39;00m\n\u001B[0;32m-> 1041\u001B[0m     \u001B[38;5;28;01mreturn\u001B[39;00m \u001B[38;5;28;43mself\u001B[39;49m\u001B[38;5;241;43m.\u001B[39;49m\u001B[43mrequest\u001B[49m\u001B[43m(\u001B[49m\n\u001B[1;32m   1042\u001B[0m \u001B[43m        \u001B[49m\u001B[38;5;124;43m\"\u001B[39;49m\u001B[38;5;124;43mGET\u001B[39;49m\u001B[38;5;124;43m\"\u001B[39;49m\u001B[43m,\u001B[49m\n\u001B[1;32m   1043\u001B[0m \u001B[43m        \u001B[49m\u001B[43murl\u001B[49m\u001B[43m,\u001B[49m\n\u001B[1;32m   1044\u001B[0m \u001B[43m        \u001B[49m\u001B[43mparams\u001B[49m\u001B[38;5;241;43m=\u001B[39;49m\u001B[43mparams\u001B[49m\u001B[43m,\u001B[49m\n\u001B[1;32m   1045\u001B[0m \u001B[43m        \u001B[49m\u001B[43mheaders\u001B[49m\u001B[38;5;241;43m=\u001B[39;49m\u001B[43mheaders\u001B[49m\u001B[43m,\u001B[49m\n\u001B[1;32m   1046\u001B[0m \u001B[43m        \u001B[49m\u001B[43mcookies\u001B[49m\u001B[38;5;241;43m=\u001B[39;49m\u001B[43mcookies\u001B[49m\u001B[43m,\u001B[49m\n\u001B[1;32m   1047\u001B[0m \u001B[43m        \u001B[49m\u001B[43mauth\u001B[49m\u001B[38;5;241;43m=\u001B[39;49m\u001B[43mauth\u001B[49m\u001B[43m,\u001B[49m\n\u001B[1;32m   1048\u001B[0m \u001B[43m        \u001B[49m\u001B[43mfollow_redirects\u001B[49m\u001B[38;5;241;43m=\u001B[39;49m\u001B[43mfollow_redirects\u001B[49m\u001B[43m,\u001B[49m\n\u001B[1;32m   1049\u001B[0m \u001B[43m        \u001B[49m\u001B[43mtimeout\u001B[49m\u001B[38;5;241;43m=\u001B[39;49m\u001B[43mtimeout\u001B[49m\u001B[43m,\u001B[49m\n\u001B[1;32m   1050\u001B[0m \u001B[43m        \u001B[49m\u001B[43mextensions\u001B[49m\u001B[38;5;241;43m=\u001B[39;49m\u001B[43mextensions\u001B[49m\u001B[43m,\u001B[49m\n\u001B[1;32m   1051\u001B[0m \u001B[43m    \u001B[49m\u001B[43m)\u001B[49m\n",
      "File \u001B[0;32m~/anaconda3/envs/okx-trading/lib/python3.10/site-packages/httpx/_client.py:814\u001B[0m, in \u001B[0;36mClient.request\u001B[0;34m(self, method, url, content, data, files, json, params, headers, cookies, auth, follow_redirects, timeout, extensions)\u001B[0m\n\u001B[1;32m    799\u001B[0m     warnings\u001B[38;5;241m.\u001B[39mwarn(message, \u001B[38;5;167;01mDeprecationWarning\u001B[39;00m)\n\u001B[1;32m    801\u001B[0m request \u001B[38;5;241m=\u001B[39m \u001B[38;5;28mself\u001B[39m\u001B[38;5;241m.\u001B[39mbuild_request(\n\u001B[1;32m    802\u001B[0m     method\u001B[38;5;241m=\u001B[39mmethod,\n\u001B[1;32m    803\u001B[0m     url\u001B[38;5;241m=\u001B[39murl,\n\u001B[0;32m   (...)\u001B[0m\n\u001B[1;32m    812\u001B[0m     extensions\u001B[38;5;241m=\u001B[39mextensions,\n\u001B[1;32m    813\u001B[0m )\n\u001B[0;32m--> 814\u001B[0m \u001B[38;5;28;01mreturn\u001B[39;00m \u001B[38;5;28;43mself\u001B[39;49m\u001B[38;5;241;43m.\u001B[39;49m\u001B[43msend\u001B[49m\u001B[43m(\u001B[49m\u001B[43mrequest\u001B[49m\u001B[43m,\u001B[49m\u001B[43m \u001B[49m\u001B[43mauth\u001B[49m\u001B[38;5;241;43m=\u001B[39;49m\u001B[43mauth\u001B[49m\u001B[43m,\u001B[49m\u001B[43m \u001B[49m\u001B[43mfollow_redirects\u001B[49m\u001B[38;5;241;43m=\u001B[39;49m\u001B[43mfollow_redirects\u001B[49m\u001B[43m)\u001B[49m\n",
      "File \u001B[0;32m~/anaconda3/envs/okx-trading/lib/python3.10/site-packages/httpx/_client.py:901\u001B[0m, in \u001B[0;36mClient.send\u001B[0;34m(self, request, stream, auth, follow_redirects)\u001B[0m\n\u001B[1;32m    893\u001B[0m follow_redirects \u001B[38;5;241m=\u001B[39m (\n\u001B[1;32m    894\u001B[0m     \u001B[38;5;28mself\u001B[39m\u001B[38;5;241m.\u001B[39mfollow_redirects\n\u001B[1;32m    895\u001B[0m     \u001B[38;5;28;01mif\u001B[39;00m \u001B[38;5;28misinstance\u001B[39m(follow_redirects, UseClientDefault)\n\u001B[1;32m    896\u001B[0m     \u001B[38;5;28;01melse\u001B[39;00m follow_redirects\n\u001B[1;32m    897\u001B[0m )\n\u001B[1;32m    899\u001B[0m auth \u001B[38;5;241m=\u001B[39m \u001B[38;5;28mself\u001B[39m\u001B[38;5;241m.\u001B[39m_build_request_auth(request, auth)\n\u001B[0;32m--> 901\u001B[0m response \u001B[38;5;241m=\u001B[39m \u001B[38;5;28;43mself\u001B[39;49m\u001B[38;5;241;43m.\u001B[39;49m\u001B[43m_send_handling_auth\u001B[49m\u001B[43m(\u001B[49m\n\u001B[1;32m    902\u001B[0m \u001B[43m    \u001B[49m\u001B[43mrequest\u001B[49m\u001B[43m,\u001B[49m\n\u001B[1;32m    903\u001B[0m \u001B[43m    \u001B[49m\u001B[43mauth\u001B[49m\u001B[38;5;241;43m=\u001B[39;49m\u001B[43mauth\u001B[49m\u001B[43m,\u001B[49m\n\u001B[1;32m    904\u001B[0m \u001B[43m    \u001B[49m\u001B[43mfollow_redirects\u001B[49m\u001B[38;5;241;43m=\u001B[39;49m\u001B[43mfollow_redirects\u001B[49m\u001B[43m,\u001B[49m\n\u001B[1;32m    905\u001B[0m \u001B[43m    \u001B[49m\u001B[43mhistory\u001B[49m\u001B[38;5;241;43m=\u001B[39;49m\u001B[43m[\u001B[49m\u001B[43m]\u001B[49m\u001B[43m,\u001B[49m\n\u001B[1;32m    906\u001B[0m \u001B[43m\u001B[49m\u001B[43m)\u001B[49m\n\u001B[1;32m    907\u001B[0m \u001B[38;5;28;01mtry\u001B[39;00m:\n\u001B[1;32m    908\u001B[0m     \u001B[38;5;28;01mif\u001B[39;00m \u001B[38;5;129;01mnot\u001B[39;00m stream:\n",
      "File \u001B[0;32m~/anaconda3/envs/okx-trading/lib/python3.10/site-packages/httpx/_client.py:929\u001B[0m, in \u001B[0;36mClient._send_handling_auth\u001B[0;34m(self, request, auth, follow_redirects, history)\u001B[0m\n\u001B[1;32m    926\u001B[0m request \u001B[38;5;241m=\u001B[39m \u001B[38;5;28mnext\u001B[39m(auth_flow)\n\u001B[1;32m    928\u001B[0m \u001B[38;5;28;01mwhile\u001B[39;00m \u001B[38;5;28;01mTrue\u001B[39;00m:\n\u001B[0;32m--> 929\u001B[0m     response \u001B[38;5;241m=\u001B[39m \u001B[38;5;28;43mself\u001B[39;49m\u001B[38;5;241;43m.\u001B[39;49m\u001B[43m_send_handling_redirects\u001B[49m\u001B[43m(\u001B[49m\n\u001B[1;32m    930\u001B[0m \u001B[43m        \u001B[49m\u001B[43mrequest\u001B[49m\u001B[43m,\u001B[49m\n\u001B[1;32m    931\u001B[0m \u001B[43m        \u001B[49m\u001B[43mfollow_redirects\u001B[49m\u001B[38;5;241;43m=\u001B[39;49m\u001B[43mfollow_redirects\u001B[49m\u001B[43m,\u001B[49m\n\u001B[1;32m    932\u001B[0m \u001B[43m        \u001B[49m\u001B[43mhistory\u001B[49m\u001B[38;5;241;43m=\u001B[39;49m\u001B[43mhistory\u001B[49m\u001B[43m,\u001B[49m\n\u001B[1;32m    933\u001B[0m \u001B[43m    \u001B[49m\u001B[43m)\u001B[49m\n\u001B[1;32m    934\u001B[0m     \u001B[38;5;28;01mtry\u001B[39;00m:\n\u001B[1;32m    935\u001B[0m         \u001B[38;5;28;01mtry\u001B[39;00m:\n",
      "File \u001B[0;32m~/anaconda3/envs/okx-trading/lib/python3.10/site-packages/httpx/_client.py:966\u001B[0m, in \u001B[0;36mClient._send_handling_redirects\u001B[0;34m(self, request, follow_redirects, history)\u001B[0m\n\u001B[1;32m    963\u001B[0m \u001B[38;5;28;01mfor\u001B[39;00m hook \u001B[38;5;129;01min\u001B[39;00m \u001B[38;5;28mself\u001B[39m\u001B[38;5;241m.\u001B[39m_event_hooks[\u001B[38;5;124m\"\u001B[39m\u001B[38;5;124mrequest\u001B[39m\u001B[38;5;124m\"\u001B[39m]:\n\u001B[1;32m    964\u001B[0m     hook(request)\n\u001B[0;32m--> 966\u001B[0m response \u001B[38;5;241m=\u001B[39m \u001B[38;5;28;43mself\u001B[39;49m\u001B[38;5;241;43m.\u001B[39;49m\u001B[43m_send_single_request\u001B[49m\u001B[43m(\u001B[49m\u001B[43mrequest\u001B[49m\u001B[43m)\u001B[49m\n\u001B[1;32m    967\u001B[0m \u001B[38;5;28;01mtry\u001B[39;00m:\n\u001B[1;32m    968\u001B[0m     \u001B[38;5;28;01mfor\u001B[39;00m hook \u001B[38;5;129;01min\u001B[39;00m \u001B[38;5;28mself\u001B[39m\u001B[38;5;241m.\u001B[39m_event_hooks[\u001B[38;5;124m\"\u001B[39m\u001B[38;5;124mresponse\u001B[39m\u001B[38;5;124m\"\u001B[39m]:\n",
      "File \u001B[0;32m~/anaconda3/envs/okx-trading/lib/python3.10/site-packages/httpx/_client.py:1002\u001B[0m, in \u001B[0;36mClient._send_single_request\u001B[0;34m(self, request)\u001B[0m\n\u001B[1;32m    997\u001B[0m     \u001B[38;5;28;01mraise\u001B[39;00m \u001B[38;5;167;01mRuntimeError\u001B[39;00m(\n\u001B[1;32m    998\u001B[0m         \u001B[38;5;124m\"\u001B[39m\u001B[38;5;124mAttempted to send an async request with a sync Client instance.\u001B[39m\u001B[38;5;124m\"\u001B[39m\n\u001B[1;32m    999\u001B[0m     )\n\u001B[1;32m   1001\u001B[0m \u001B[38;5;28;01mwith\u001B[39;00m request_context(request\u001B[38;5;241m=\u001B[39mrequest):\n\u001B[0;32m-> 1002\u001B[0m     response \u001B[38;5;241m=\u001B[39m \u001B[43mtransport\u001B[49m\u001B[38;5;241;43m.\u001B[39;49m\u001B[43mhandle_request\u001B[49m\u001B[43m(\u001B[49m\u001B[43mrequest\u001B[49m\u001B[43m)\u001B[49m\n\u001B[1;32m   1004\u001B[0m \u001B[38;5;28;01massert\u001B[39;00m \u001B[38;5;28misinstance\u001B[39m(response\u001B[38;5;241m.\u001B[39mstream, SyncByteStream)\n\u001B[1;32m   1006\u001B[0m response\u001B[38;5;241m.\u001B[39mrequest \u001B[38;5;241m=\u001B[39m request\n",
      "File \u001B[0;32m~/anaconda3/envs/okx-trading/lib/python3.10/site-packages/httpx/_transports/default.py:227\u001B[0m, in \u001B[0;36mHTTPTransport.handle_request\u001B[0;34m(self, request)\u001B[0m\n\u001B[1;32m    213\u001B[0m \u001B[38;5;28;01massert\u001B[39;00m \u001B[38;5;28misinstance\u001B[39m(request\u001B[38;5;241m.\u001B[39mstream, SyncByteStream)\n\u001B[1;32m    215\u001B[0m req \u001B[38;5;241m=\u001B[39m httpcore\u001B[38;5;241m.\u001B[39mRequest(\n\u001B[1;32m    216\u001B[0m     method\u001B[38;5;241m=\u001B[39mrequest\u001B[38;5;241m.\u001B[39mmethod,\n\u001B[1;32m    217\u001B[0m     url\u001B[38;5;241m=\u001B[39mhttpcore\u001B[38;5;241m.\u001B[39mURL(\n\u001B[0;32m   (...)\u001B[0m\n\u001B[1;32m    225\u001B[0m     extensions\u001B[38;5;241m=\u001B[39mrequest\u001B[38;5;241m.\u001B[39mextensions,\n\u001B[1;32m    226\u001B[0m )\n\u001B[0;32m--> 227\u001B[0m \u001B[38;5;28;01mwith\u001B[39;00m map_httpcore_exceptions():\n\u001B[1;32m    228\u001B[0m     resp \u001B[38;5;241m=\u001B[39m \u001B[38;5;28mself\u001B[39m\u001B[38;5;241m.\u001B[39m_pool\u001B[38;5;241m.\u001B[39mhandle_request(req)\n\u001B[1;32m    230\u001B[0m \u001B[38;5;28;01massert\u001B[39;00m \u001B[38;5;28misinstance\u001B[39m(resp\u001B[38;5;241m.\u001B[39mstream, typing\u001B[38;5;241m.\u001B[39mIterable)\n",
      "File \u001B[0;32m~/anaconda3/envs/okx-trading/lib/python3.10/contextlib.py:153\u001B[0m, in \u001B[0;36m_GeneratorContextManager.__exit__\u001B[0;34m(self, typ, value, traceback)\u001B[0m\n\u001B[1;32m    151\u001B[0m     value \u001B[38;5;241m=\u001B[39m typ()\n\u001B[1;32m    152\u001B[0m \u001B[38;5;28;01mtry\u001B[39;00m:\n\u001B[0;32m--> 153\u001B[0m     \u001B[38;5;28;43mself\u001B[39;49m\u001B[38;5;241;43m.\u001B[39;49m\u001B[43mgen\u001B[49m\u001B[38;5;241;43m.\u001B[39;49m\u001B[43mthrow\u001B[49m\u001B[43m(\u001B[49m\u001B[43mtyp\u001B[49m\u001B[43m,\u001B[49m\u001B[43m \u001B[49m\u001B[43mvalue\u001B[49m\u001B[43m,\u001B[49m\u001B[43m \u001B[49m\u001B[43mtraceback\u001B[49m\u001B[43m)\u001B[49m\n\u001B[1;32m    154\u001B[0m \u001B[38;5;28;01mexcept\u001B[39;00m \u001B[38;5;167;01mStopIteration\u001B[39;00m \u001B[38;5;28;01mas\u001B[39;00m exc:\n\u001B[1;32m    155\u001B[0m     \u001B[38;5;66;03m# Suppress StopIteration *unless* it's the same exception that\u001B[39;00m\n\u001B[1;32m    156\u001B[0m     \u001B[38;5;66;03m# was passed to throw().  This prevents a StopIteration\u001B[39;00m\n\u001B[1;32m    157\u001B[0m     \u001B[38;5;66;03m# raised inside the \"with\" statement from being suppressed.\u001B[39;00m\n\u001B[1;32m    158\u001B[0m     \u001B[38;5;28;01mreturn\u001B[39;00m exc \u001B[38;5;129;01mis\u001B[39;00m \u001B[38;5;129;01mnot\u001B[39;00m value\n",
      "File \u001B[0;32m~/anaconda3/envs/okx-trading/lib/python3.10/site-packages/httpx/_transports/default.py:83\u001B[0m, in \u001B[0;36mmap_httpcore_exceptions\u001B[0;34m()\u001B[0m\n\u001B[1;32m     80\u001B[0m     \u001B[38;5;28;01mraise\u001B[39;00m\n\u001B[1;32m     82\u001B[0m message \u001B[38;5;241m=\u001B[39m \u001B[38;5;28mstr\u001B[39m(exc)\n\u001B[0;32m---> 83\u001B[0m \u001B[38;5;28;01mraise\u001B[39;00m mapped_exc(message) \u001B[38;5;28;01mfrom\u001B[39;00m \u001B[38;5;21;01mexc\u001B[39;00m\n",
      "\u001B[0;31mConnectTimeout\u001B[0m: timed out"
     ]
    }
   ],
   "source": [
    "import okx.MarketData as MarketData\n",
    "flag = \"0\"\n",
    "\n",
    "marketDataApi = MarketData.MarketAPI(flag = flag)\n",
    "\n",
    "result = marketDataApi.get_tickers(instType=\"SPOT\")\n",
    "\n",
    "print(result[\"data\"])"
   ],
   "metadata": {
    "collapsed": false
   }
  },
  {
   "cell_type": "code",
   "execution_count": 14,
   "outputs": [
    {
     "data": {
      "text/plain": "    instType      instId     last    lastSz    askPx      askSz    bidPx  \\\n282     SPOT  STETH-USDT  1649.54  0.307462  1650.03   0.105036  1649.14   \n437     SPOT    ETH-USDT  1650.15  0.491864  1650.16  15.993916  1650.15   \n500     SPOT   BETH-USDT  1648.81  0.036386  1648.55     0.1325  1648.24   \n\n        bidSz  open24h  high24h   low24h           volCcy24h        vol24h  \\\n282  3.031884  1655.01  1674.68   1638.7      50990.00867481     30.800887   \n437  5.750197  1655.82  1677.98  1635.62  102253097.11138279  61795.557532   \n500    0.1325  1653.04  1675.85     1636      96917.91860675     58.690146   \n\n                ts  sodUtc0  sodUtc8  \n282  1693051999811  1652.23  1645.58  \n437  1693052004407     1654  1646.27  \n500  1693051993211  1654.68  1645.39  ",
      "text/html": "<div>\n<style scoped>\n    .dataframe tbody tr th:only-of-type {\n        vertical-align: middle;\n    }\n\n    .dataframe tbody tr th {\n        vertical-align: top;\n    }\n\n    .dataframe thead th {\n        text-align: right;\n    }\n</style>\n<table border=\"1\" class=\"dataframe\">\n  <thead>\n    <tr style=\"text-align: right;\">\n      <th></th>\n      <th>instType</th>\n      <th>instId</th>\n      <th>last</th>\n      <th>lastSz</th>\n      <th>askPx</th>\n      <th>askSz</th>\n      <th>bidPx</th>\n      <th>bidSz</th>\n      <th>open24h</th>\n      <th>high24h</th>\n      <th>low24h</th>\n      <th>volCcy24h</th>\n      <th>vol24h</th>\n      <th>ts</th>\n      <th>sodUtc0</th>\n      <th>sodUtc8</th>\n    </tr>\n  </thead>\n  <tbody>\n    <tr>\n      <th>282</th>\n      <td>SPOT</td>\n      <td>STETH-USDT</td>\n      <td>1649.54</td>\n      <td>0.307462</td>\n      <td>1650.03</td>\n      <td>0.105036</td>\n      <td>1649.14</td>\n      <td>3.031884</td>\n      <td>1655.01</td>\n      <td>1674.68</td>\n      <td>1638.7</td>\n      <td>50990.00867481</td>\n      <td>30.800887</td>\n      <td>1693051999811</td>\n      <td>1652.23</td>\n      <td>1645.58</td>\n    </tr>\n    <tr>\n      <th>437</th>\n      <td>SPOT</td>\n      <td>ETH-USDT</td>\n      <td>1650.15</td>\n      <td>0.491864</td>\n      <td>1650.16</td>\n      <td>15.993916</td>\n      <td>1650.15</td>\n      <td>5.750197</td>\n      <td>1655.82</td>\n      <td>1677.98</td>\n      <td>1635.62</td>\n      <td>102253097.11138279</td>\n      <td>61795.557532</td>\n      <td>1693052004407</td>\n      <td>1654</td>\n      <td>1646.27</td>\n    </tr>\n    <tr>\n      <th>500</th>\n      <td>SPOT</td>\n      <td>BETH-USDT</td>\n      <td>1648.81</td>\n      <td>0.036386</td>\n      <td>1648.55</td>\n      <td>0.1325</td>\n      <td>1648.24</td>\n      <td>0.1325</td>\n      <td>1653.04</td>\n      <td>1675.85</td>\n      <td>1636</td>\n      <td>96917.91860675</td>\n      <td>58.690146</td>\n      <td>1693051993211</td>\n      <td>1654.68</td>\n      <td>1645.39</td>\n    </tr>\n  </tbody>\n</table>\n</div>"
     },
     "execution_count": 14,
     "metadata": {},
     "output_type": "execute_result"
    }
   ],
   "source": [
    "import json\n",
    "import pandas as pd\n",
    "\n",
    "df = pd.DataFrame(result[\"data\"])\n",
    "df[df[\"instId\"].str.contains(\"ETH-USDT\")]"
   ],
   "metadata": {
    "collapsed": false
   }
  },
  {
   "cell_type": "code",
   "execution_count": 13,
   "outputs": [
    {
     "name": "stdout",
     "output_type": "stream",
     "text": [
      "body:  \n",
      "header:  {'Content-Type': 'application/json', 'OK-ACCESS-KEY': '7c6dda50-2591-4b3a-a3bd-94d2e6101926', 'OK-ACCESS-SIGN': b'IUZWFrQmwP11CoNL3/euN1+JjsrpN82S0Rt/VsOoeoI=', 'OK-ACCESS-TIMESTAMP': '2023-11-24T00:03:50.773Z', 'OK-ACCESS-PASSPHRASE': 'Xiaoyu19971104!', 'x-simulated-trading': '0'}\n",
      "domain: https://www.okx.com\n",
      "url: /api/v5/account/balance\n"
     ]
    },
    {
     "data": {
      "text/plain": "{'code': '0',\n 'data': [{'adjEq': '',\n   'borrowFroz': '',\n   'details': [{'availBal': '788.877362065334',\n     'availEq': '788.877362065334',\n     'borrowFroz': '',\n     'cashBal': '1788.8762420653338',\n     'ccy': 'USDT',\n     'crossLiab': '',\n     'disEq': '1789.126684739223',\n     'eq': '1788.8762420653338',\n     'eqUsd': '1789.126684739223',\n     'fixedBal': '0',\n     'frozenBal': '999.9988799999999',\n     'interest': '',\n     'isoEq': '0',\n     'isoLiab': '',\n     'isoUpl': '0',\n     'liab': '',\n     'maxLoan': '',\n     'mgnRatio': '',\n     'notionalLever': '0',\n     'ordFrozen': '999.9988799999999',\n     'spotInUseAmt': '',\n     'spotIsoBal': '0',\n     'stgyEq': '0',\n     'twap': '0',\n     'uTime': '1700615404306',\n     'upl': '0',\n     'uplLiab': ''}],\n   'imr': '',\n   'isoEq': '0',\n   'mgnRatio': '',\n   'mmr': '',\n   'notionalUsd': '',\n   'ordFroz': '',\n   'totalEq': '1789.126725205992',\n   'uTime': '1700784232787'}],\n 'msg': ''}"
     },
     "execution_count": 13,
     "metadata": {},
     "output_type": "execute_result"
    }
   ],
   "source": [
    "apikey = \"7c6dda50-2591-4b3a-a3bd-94d2e6101926\"\n",
    "secretkey = \"0AF34ED1A485EDDCBD28920155674F0F\"\n",
    "passphrase=\"Xiaoyu19971104!\"\n",
    "\n",
    "import  okx.Account as Account\n",
    "flag = \"0\"\n",
    "accountAPI = Account.AccountAPI(api_key= apikey, api_secret_key= secretkey, passphrase= passphrase, use_server_time = False, flag = flag)\n",
    "\n",
    "# 账户余额\n",
    "result = accountAPI.get_account_balance()\n",
    "\n",
    "result"
   ],
   "metadata": {
    "collapsed": false
   }
  },
  {
   "cell_type": "code",
   "execution_count": 7,
   "outputs": [
    {
     "data": {
      "text/plain": "{'availBal': '788.877362065334',\n 'availEq': '788.877362065334',\n 'borrowFroz': '',\n 'cashBal': '1788.8762420653338',\n 'ccy': 'USDT',\n 'crossLiab': '',\n 'disEq': '1789.126684739223',\n 'eq': '1788.8762420653338',\n 'eqUsd': '1789.126684739223',\n 'fixedBal': '0',\n 'frozenBal': '999.9988799999999',\n 'interest': '',\n 'isoEq': '0',\n 'isoLiab': '',\n 'isoUpl': '0',\n 'liab': '',\n 'maxLoan': '',\n 'mgnRatio': '',\n 'notionalLever': '0',\n 'ordFrozen': '999.9988799999999',\n 'spotInUseAmt': '',\n 'spotIsoBal': '0',\n 'stgyEq': '0',\n 'twap': '0',\n 'uTime': '1700615404306',\n 'upl': '0',\n 'uplLiab': ''}"
     },
     "execution_count": 7,
     "metadata": {},
     "output_type": "execute_result"
    }
   ],
   "source": [
    "result[\"data\"][0][\"details\"][0]"
   ],
   "metadata": {
    "collapsed": false
   }
  },
  {
   "cell_type": "markdown",
   "source": [],
   "metadata": {
    "collapsed": false
   }
  },
  {
   "cell_type": "code",
   "execution_count": 8,
   "outputs": [
    {
     "data": {
      "text/plain": "'1789.1267248701827'"
     },
     "execution_count": 8,
     "metadata": {},
     "output_type": "execute_result"
    }
   ],
   "source": [
    "# 美金层面权益\n",
    "result[\"data\"][0][\"totalEq\"]"
   ],
   "metadata": {
    "collapsed": false
   }
  },
  {
   "cell_type": "code",
   "execution_count": 12,
   "outputs": [
    {
     "data": {
      "text/plain": "[{'adjEq': '',\n  'borrowFroz': '',\n  'details': [{'availBal': '788.877362065334',\n    'availEq': '788.877362065334',\n    'borrowFroz': '',\n    'cashBal': '1788.8762420653338',\n    'ccy': 'USDT',\n    'crossLiab': '',\n    'disEq': '1789.126684739223',\n    'eq': '1788.8762420653338',\n    'eqUsd': '1789.126684739223',\n    'fixedBal': '0',\n    'frozenBal': '999.9988799999999',\n    'interest': '',\n    'isoEq': '0',\n    'isoLiab': '',\n    'isoUpl': '0',\n    'liab': '',\n    'maxLoan': '',\n    'mgnRatio': '',\n    'notionalLever': '0',\n    'ordFrozen': '999.9988799999999',\n    'spotInUseAmt': '',\n    'spotIsoBal': '0',\n    'stgyEq': '0',\n    'twap': '0',\n    'uTime': '1700615404306',\n    'upl': '0',\n    'uplLiab': ''}],\n  'imr': '',\n  'isoEq': '0',\n  'mgnRatio': '',\n  'mmr': '',\n  'notionalUsd': '',\n  'ordFroz': '',\n  'totalEq': '1789.1267248701827',\n  'uTime': '1700755377353'}]"
     },
     "execution_count": 12,
     "metadata": {},
     "output_type": "execute_result"
    }
   ],
   "source": [
    "result[\"data\"][0][\"details\"][0]"
   ],
   "metadata": {
    "collapsed": false
   }
  },
  {
   "cell_type": "code",
   "execution_count": 14,
   "outputs": [
    {
     "name": "stdout",
     "output_type": "stream",
     "text": [
      "body:  \n",
      "header:  {'Content-Type': 'application/json', 'OK-ACCESS-KEY': '7c6dda50-2591-4b3a-a3bd-94d2e6101926', 'OK-ACCESS-SIGN': b'6u3yqZcTd3wRd+8/wOHTPQfxf+H6SiLY0O+E9QdEiTU=', 'OK-ACCESS-TIMESTAMP': '2023-11-24T00:06:40.514Z', 'OK-ACCESS-PASSPHRASE': 'Xiaoyu19971104!', 'x-simulated-trading': '0'}\n",
      "domain: https://www.okx.com\n",
      "url: /api/v5/account/positions\n"
     ]
    },
    {
     "data": {
      "text/plain": "{'code': '0', 'data': [], 'msg': ''}"
     },
     "execution_count": 14,
     "metadata": {},
     "output_type": "execute_result"
    }
   ],
   "source": [
    "# 持仓信息\n",
    "result = accountAPI.get_positions()\n",
    "result"
   ],
   "metadata": {
    "collapsed": false
   }
  },
  {
   "cell_type": "code",
   "execution_count": 25,
   "outputs": [
    {
     "name": "stdout",
     "output_type": "stream",
     "text": [
      "body:  \n",
      "header:  {'Content-Type': 'application/json', 'OK-ACCESS-KEY': '7c6dda50-2591-4b3a-a3bd-94d2e6101926', 'OK-ACCESS-SIGN': b'y4QwBrhNZJ9fde+5Ss1wg/wRsQuqUf6MFsXqoVK0/tA=', 'OK-ACCESS-TIMESTAMP': '2023-11-24T00:22:52.804Z', 'OK-ACCESS-PASSPHRASE': 'Xiaoyu19971104!', 'x-simulated-trading': '0'}\n",
      "domain: https://www.okx.com\n",
      "url: /api/v5/account/positions-history\n"
     ]
    },
    {
     "data": {
      "text/plain": "{'code': '0',\n 'data': [{'cTime': '1699494326096',\n   'ccy': 'USDT',\n   'closeAvgPx': '1961.3750228734395851',\n   'closeTotalPos': '3076.24608375',\n   'direction': 'short',\n   'fee': '',\n   'fundingFee': '',\n   'instId': 'ETH-USDT',\n   'instType': 'MARGIN',\n   'lever': '2.0',\n   'liqPenalty': '',\n   'mgnMode': 'isolated',\n   'openAvgPx': '2043.9088638033725953',\n   'openMaxPos': '4799.49641217205',\n   'pnl': '129.4471490544388',\n   'pnlRatio': '0.0841591638186763',\n   'posId': '635515846940885007',\n   'realizedPnl': '',\n   'triggerPx': '',\n   'type': '2',\n   'uTime': '1700580105216',\n   'uly': ''},\n  {'cTime': '1700147181336',\n   'ccy': 'USDT',\n   'closeAvgPx': '7.6500919364819729',\n   'closeTotalPos': '748.983643358',\n   'direction': 'short',\n   'fee': '',\n   'fundingFee': '',\n   'instId': 'AR-USDT',\n   'instType': 'MARGIN',\n   'lever': '3.0',\n   'liqPenalty': '',\n   'mgnMode': 'isolated',\n   'openAvgPx': '8.1917503719351657',\n   'openMaxPos': '1167.402067788131',\n   'pnl': '53.03116770488006',\n   'pnlRatio': '0.2124125199868971',\n   'posId': '645064988000194576',\n   'realizedPnl': '',\n   'triggerPx': '',\n   'type': '2',\n   'uTime': '1700580036977',\n   'uly': ''},\n  {'cTime': '1700216725214',\n   'ccy': 'USDT',\n   'closeAvgPx': '8.8982605379301728',\n   'closeTotalPos': '324.902445071',\n   'direction': 'short',\n   'fee': '',\n   'fundingFee': '',\n   'instId': 'ATOM-USDT',\n   'instType': 'MARGIN',\n   'lever': '2.0',\n   'liqPenalty': '',\n   'mgnMode': 'isolated',\n   'openAvgPx': '9.5259999999999994',\n   'openMaxPos': '520.5737094040032',\n   'pnl': '22.920669183',\n   'pnlRatio': '0.1410926235288332',\n   'posId': '645690976748900354',\n   'realizedPnl': '',\n   'triggerPx': '',\n   'type': '2',\n   'uTime': '1700567007460',\n   'uly': ''},\n  {'cTime': '1700147123793',\n   'ccy': 'USDT',\n   'closeAvgPx': '59.2',\n   'closeTotalPos': '282.6111504',\n   'direction': 'short',\n   'fee': '',\n   'fundingFee': '',\n   'instId': 'SOL-USDT',\n   'instType': 'MARGIN',\n   'lever': '2.0',\n   'liqPenalty': '',\n   'mgnMode': 'isolated',\n   'openAvgPx': '62.9399999999999883',\n   'openMaxPos': '449.91442892202',\n   'pnl': '17.85415037999999',\n   'pnlRatio': '0.1263513513513513',\n   'posId': '639869120489918471',\n   'realizedPnl': '',\n   'triggerPx': '',\n   'type': '2',\n   'uTime': '1700374798370',\n   'uly': ''},\n  {'cTime': '1700067477867',\n   'ccy': 'USDT',\n   'closeAvgPx': '7.501989918644357',\n   'closeTotalPos': '199.961422689',\n   'direction': 'short',\n   'fee': '',\n   'fundingFee': '',\n   'instId': 'AR-USDT',\n   'instType': 'MARGIN',\n   'lever': '3.0',\n   'liqPenalty': '',\n   'mgnMode': 'isolated',\n   'openAvgPx': '7.5143514891233952',\n   'openMaxPos': '266.5913215791788',\n   'pnl': '0.3294908746165809',\n   'pnlRatio': '0.0049433166185615',\n   'posId': '645064988000194576',\n   'realizedPnl': '',\n   'triggerPx': '',\n   'type': '2',\n   'uTime': '1700088985434',\n   'uly': ''},\n  {'cTime': '1699156102221',\n   'ccy': 'USDT',\n   'closeAvgPx': '1900.179158641825482',\n   'closeTotalPos': '649.78336491',\n   'direction': 'short',\n   'fee': '',\n   'fundingFee': '',\n   'instId': 'ETH-USDT',\n   'instType': 'MARGIN',\n   'lever': '1.0',\n   'liqPenalty': '',\n   'mgnMode': 'isolated',\n   'openAvgPx': '1878.5982223751041234',\n   'openMaxPos': '1282.82577052301',\n   'pnl': '-7.379795384831769',\n   'pnlRatio': '-0.0113573165817409',\n   'posId': '635515846940885007',\n   'realizedPnl': '',\n   'triggerPx': '',\n   'type': '2',\n   'uTime': '1699462290383',\n   'uly': ''},\n  {'cTime': '1698283328136',\n   'ccy': 'USDT',\n   'closeAvgPx': '34558.1',\n   'closeTotalPos': '462.328974811',\n   'direction': 'short',\n   'fee': '',\n   'fundingFee': '',\n   'instId': 'BTC-USDT',\n   'instType': 'MARGIN',\n   'lever': '3.0',\n   'liqPenalty': '',\n   'mgnMode': 'isolated',\n   'openAvgPx': '34705.9605155156761177',\n   'openMaxPos': '679.750610805089',\n   'pnl': '1.978123813328525',\n   'pnlRatio': '0.0128358198670363',\n   'posId': '637581721646862357',\n   'realizedPnl': '',\n   'triggerPx': '',\n   'type': '2',\n   'uTime': '1698845910390',\n   'uly': ''},\n  {'cTime': '1698117203684',\n   'ccy': 'USDT',\n   'closeAvgPx': '1820.44',\n   'closeTotalPos': '6275.1203954',\n   'direction': 'short',\n   'fee': '',\n   'fundingFee': '',\n   'instId': 'ETH-USDT',\n   'instType': 'MARGIN',\n   'lever': '3.0',\n   'liqPenalty': '',\n   'mgnMode': 'isolated',\n   'openAvgPx': '1820.9635044880925673',\n   'openMaxPos': '9174.856938643892',\n   'pnl': '1.8045382931121627',\n   'pnlRatio': '0.0008627109183921',\n   'posId': '635515846940885007',\n   'realizedPnl': '',\n   'triggerPx': '',\n   'type': '2',\n   'uTime': '1698844803697',\n   'uly': ''},\n  {'cTime': '1698828686518',\n   'ccy': 'USDT',\n   'closeAvgPx': '39.637',\n   'closeTotalPos': '966.721419053',\n   'direction': 'short',\n   'fee': '',\n   'fundingFee': '',\n   'instId': 'SOL-USDT',\n   'instType': 'MARGIN',\n   'lever': '3.0',\n   'liqPenalty': '',\n   'mgnMode': 'isolated',\n   'openAvgPx': '38.5269999999999988',\n   'openMaxPos': '1250.638657275579',\n   'pnl': '-27.07219959',\n   'pnlRatio': '-0.0840124126447511',\n   'posId': '639869120489918471',\n   'realizedPnl': '',\n   'triggerPx': '',\n   'type': '2',\n   'uTime': '1698833360373',\n   'uly': ''},\n  {'cTime': '1698108611228',\n   'ccy': 'USDT',\n   'closeAvgPx': '1810.96',\n   'closeTotalPos': '456.68427088',\n   'direction': 'short',\n   'fee': '',\n   'fundingFee': '',\n   'instId': 'ETH-USDT',\n   'instType': 'MARGIN',\n   'lever': '1.0',\n   'liqPenalty': '',\n   'mgnMode': 'isolated',\n   'openAvgPx': '1780.8299999999999097',\n   'openMaxPos': '896.81188026474',\n   'pnl': '-7.598123140000022',\n   'pnlRatio': '-0.0166375844855768',\n   'posId': '635515846940885007',\n   'realizedPnl': '',\n   'triggerPx': '',\n   'type': '2',\n   'uTime': '1698114032592',\n   'uly': ''},\n  {'cTime': '1698033524380',\n   'ccy': 'USDT',\n   'closeAvgPx': '1783.88',\n   'closeTotalPos': '499.60591996',\n   'direction': 'short',\n   'fee': '',\n   'fundingFee': '',\n   'instId': 'ETH-USDT',\n   'instType': 'MARGIN',\n   'lever': '1.0',\n   'liqPenalty': '',\n   'mgnMode': 'isolated',\n   'openAvgPx': '1694.3800000000002779',\n   'openMaxPos': '947.60612263864',\n   'pnl': '-25.065996499999923',\n   'pnlRatio': '-0.0501715362019865',\n   'posId': '635515846940885007',\n   'realizedPnl': '',\n   'triggerPx': '',\n   'type': '2',\n   'uTime': '1698100965747',\n   'uly': ''},\n  {'cTime': '1698019735996',\n   'ccy': 'USDT',\n   'closeAvgPx': '1691.9185491634740133',\n   'closeTotalPos': '499.46958298',\n   'direction': 'short',\n   'fee': '',\n   'fundingFee': '',\n   'instId': 'ETH-USDT',\n   'instType': 'MARGIN',\n   'lever': '1.0',\n   'liqPenalty': '',\n   'mgnMode': 'isolated',\n   'openAvgPx': '1663.9899999999999078',\n   'openMaxPos': '980.96718082511',\n   'pnl': '-8.244759070000027',\n   'pnlRatio': '-0.016507029358643',\n   'posId': '635515846940885007',\n   'realizedPnl': '',\n   'triggerPx': '',\n   'type': '2',\n   'uTime': '1698031738710',\n   'uly': ''},\n  {'cTime': '1697790785224',\n   'ccy': 'USDT',\n   'closeAvgPx': '1655.06',\n   'closeTotalPos': '796.27088178',\n   'direction': 'short',\n   'fee': '',\n   'fundingFee': '',\n   'instId': 'ETH-USDT',\n   'instType': 'MARGIN',\n   'lever': '1.0',\n   'liqPenalty': '',\n   'mgnMode': 'isolated',\n   'openAvgPx': '1611.5918502488638158',\n   'openMaxPos': '1548.28764380784',\n   'pnl': '-20.913091931218382',\n   'pnlRatio': '-0.0262637908904428',\n   'posId': '635515846940885007',\n   'realizedPnl': '',\n   'triggerPx': '',\n   'type': '2',\n   'uTime': '1698014596985',\n   'uly': ''}],\n 'msg': ''}"
     },
     "execution_count": 25,
     "metadata": {},
     "output_type": "execute_result"
    }
   ],
   "source": [
    "result = accountAPI.get_positions_history()\n",
    "result"
   ],
   "metadata": {
    "collapsed": false,
    "pycharm": {
     "name": "#%%re\n"
    }
   }
  },
  {
   "cell_type": "code",
   "execution_count": 21,
   "outputs": [],
   "source": [
    "pos_his_list = result['data']"
   ],
   "metadata": {
    "collapsed": false
   }
  },
  {
   "cell_type": "code",
   "execution_count": 19,
   "outputs": [
    {
     "data": {
      "text/plain": "13"
     },
     "execution_count": 19,
     "metadata": {},
     "output_type": "execute_result"
    }
   ],
   "source": [
    "len(pos_his_list)"
   ],
   "metadata": {
    "collapsed": false
   }
  },
  {
   "cell_type": "code",
   "execution_count": 20,
   "outputs": [
    {
     "data": {
      "text/plain": "[{'cTime': '1699494326096',\n  'ccy': 'USDT',\n  'closeAvgPx': '1961.3750228734395851',\n  'closeTotalPos': '3076.24608375',\n  'direction': 'short',\n  'fee': '',\n  'fundingFee': '',\n  'instId': 'ETH-USDT',\n  'instType': 'MARGIN',\n  'lever': '2.0',\n  'liqPenalty': '',\n  'mgnMode': 'isolated',\n  'openAvgPx': '2043.9088638033725953',\n  'openMaxPos': '4799.49641217205',\n  'pnl': '129.4471490544388',\n  'pnlRatio': '0.0841591638186763',\n  'posId': '635515846940885007',\n  'realizedPnl': '',\n  'triggerPx': '',\n  'type': '2',\n  'uTime': '1700580105216',\n  'uly': ''},\n {'cTime': '1700147181336',\n  'ccy': 'USDT',\n  'closeAvgPx': '7.6500919364819729',\n  'closeTotalPos': '748.983643358',\n  'direction': 'short',\n  'fee': '',\n  'fundingFee': '',\n  'instId': 'AR-USDT',\n  'instType': 'MARGIN',\n  'lever': '3.0',\n  'liqPenalty': '',\n  'mgnMode': 'isolated',\n  'openAvgPx': '8.1917503719351657',\n  'openMaxPos': '1167.402067788131',\n  'pnl': '53.03116770488006',\n  'pnlRatio': '0.2124125199868971',\n  'posId': '645064988000194576',\n  'realizedPnl': '',\n  'triggerPx': '',\n  'type': '2',\n  'uTime': '1700580036977',\n  'uly': ''},\n {'cTime': '1700216725214',\n  'ccy': 'USDT',\n  'closeAvgPx': '8.8982605379301728',\n  'closeTotalPos': '324.902445071',\n  'direction': 'short',\n  'fee': '',\n  'fundingFee': '',\n  'instId': 'ATOM-USDT',\n  'instType': 'MARGIN',\n  'lever': '2.0',\n  'liqPenalty': '',\n  'mgnMode': 'isolated',\n  'openAvgPx': '9.5259999999999994',\n  'openMaxPos': '520.5737094040032',\n  'pnl': '22.920669183',\n  'pnlRatio': '0.1410926235288332',\n  'posId': '645690976748900354',\n  'realizedPnl': '',\n  'triggerPx': '',\n  'type': '2',\n  'uTime': '1700567007460',\n  'uly': ''},\n {'cTime': '1700147123793',\n  'ccy': 'USDT',\n  'closeAvgPx': '59.2',\n  'closeTotalPos': '282.6111504',\n  'direction': 'short',\n  'fee': '',\n  'fundingFee': '',\n  'instId': 'SOL-USDT',\n  'instType': 'MARGIN',\n  'lever': '2.0',\n  'liqPenalty': '',\n  'mgnMode': 'isolated',\n  'openAvgPx': '62.9399999999999883',\n  'openMaxPos': '449.91442892202',\n  'pnl': '17.85415037999999',\n  'pnlRatio': '0.1263513513513513',\n  'posId': '639869120489918471',\n  'realizedPnl': '',\n  'triggerPx': '',\n  'type': '2',\n  'uTime': '1700374798370',\n  'uly': ''},\n {'cTime': '1700067477867',\n  'ccy': 'USDT',\n  'closeAvgPx': '7.501989918644357',\n  'closeTotalPos': '199.961422689',\n  'direction': 'short',\n  'fee': '',\n  'fundingFee': '',\n  'instId': 'AR-USDT',\n  'instType': 'MARGIN',\n  'lever': '3.0',\n  'liqPenalty': '',\n  'mgnMode': 'isolated',\n  'openAvgPx': '7.5143514891233952',\n  'openMaxPos': '266.5913215791788',\n  'pnl': '0.3294908746165809',\n  'pnlRatio': '0.0049433166185615',\n  'posId': '645064988000194576',\n  'realizedPnl': '',\n  'triggerPx': '',\n  'type': '2',\n  'uTime': '1700088985434',\n  'uly': ''},\n {'cTime': '1699156102221',\n  'ccy': 'USDT',\n  'closeAvgPx': '1900.179158641825482',\n  'closeTotalPos': '649.78336491',\n  'direction': 'short',\n  'fee': '',\n  'fundingFee': '',\n  'instId': 'ETH-USDT',\n  'instType': 'MARGIN',\n  'lever': '1.0',\n  'liqPenalty': '',\n  'mgnMode': 'isolated',\n  'openAvgPx': '1878.5982223751041234',\n  'openMaxPos': '1282.82577052301',\n  'pnl': '-7.379795384831769',\n  'pnlRatio': '-0.0113573165817409',\n  'posId': '635515846940885007',\n  'realizedPnl': '',\n  'triggerPx': '',\n  'type': '2',\n  'uTime': '1699462290383',\n  'uly': ''},\n {'cTime': '1698283328136',\n  'ccy': 'USDT',\n  'closeAvgPx': '34558.1',\n  'closeTotalPos': '462.328974811',\n  'direction': 'short',\n  'fee': '',\n  'fundingFee': '',\n  'instId': 'BTC-USDT',\n  'instType': 'MARGIN',\n  'lever': '3.0',\n  'liqPenalty': '',\n  'mgnMode': 'isolated',\n  'openAvgPx': '34705.9605155156761177',\n  'openMaxPos': '679.750610805089',\n  'pnl': '1.978123813328525',\n  'pnlRatio': '0.0128358198670363',\n  'posId': '637581721646862357',\n  'realizedPnl': '',\n  'triggerPx': '',\n  'type': '2',\n  'uTime': '1698845910390',\n  'uly': ''},\n {'cTime': '1698117203684',\n  'ccy': 'USDT',\n  'closeAvgPx': '1820.44',\n  'closeTotalPos': '6275.1203954',\n  'direction': 'short',\n  'fee': '',\n  'fundingFee': '',\n  'instId': 'ETH-USDT',\n  'instType': 'MARGIN',\n  'lever': '3.0',\n  'liqPenalty': '',\n  'mgnMode': 'isolated',\n  'openAvgPx': '1820.9635044880925673',\n  'openMaxPos': '9174.856938643892',\n  'pnl': '1.8045382931121627',\n  'pnlRatio': '0.0008627109183921',\n  'posId': '635515846940885007',\n  'realizedPnl': '',\n  'triggerPx': '',\n  'type': '2',\n  'uTime': '1698844803697',\n  'uly': ''},\n {'cTime': '1698828686518',\n  'ccy': 'USDT',\n  'closeAvgPx': '39.637',\n  'closeTotalPos': '966.721419053',\n  'direction': 'short',\n  'fee': '',\n  'fundingFee': '',\n  'instId': 'SOL-USDT',\n  'instType': 'MARGIN',\n  'lever': '3.0',\n  'liqPenalty': '',\n  'mgnMode': 'isolated',\n  'openAvgPx': '38.5269999999999988',\n  'openMaxPos': '1250.638657275579',\n  'pnl': '-27.07219959',\n  'pnlRatio': '-0.0840124126447511',\n  'posId': '639869120489918471',\n  'realizedPnl': '',\n  'triggerPx': '',\n  'type': '2',\n  'uTime': '1698833360373',\n  'uly': ''},\n {'cTime': '1698108611228',\n  'ccy': 'USDT',\n  'closeAvgPx': '1810.96',\n  'closeTotalPos': '456.68427088',\n  'direction': 'short',\n  'fee': '',\n  'fundingFee': '',\n  'instId': 'ETH-USDT',\n  'instType': 'MARGIN',\n  'lever': '1.0',\n  'liqPenalty': '',\n  'mgnMode': 'isolated',\n  'openAvgPx': '1780.8299999999999097',\n  'openMaxPos': '896.81188026474',\n  'pnl': '-7.598123140000022',\n  'pnlRatio': '-0.0166375844855768',\n  'posId': '635515846940885007',\n  'realizedPnl': '',\n  'triggerPx': '',\n  'type': '2',\n  'uTime': '1698114032592',\n  'uly': ''},\n {'cTime': '1698033524380',\n  'ccy': 'USDT',\n  'closeAvgPx': '1783.88',\n  'closeTotalPos': '499.60591996',\n  'direction': 'short',\n  'fee': '',\n  'fundingFee': '',\n  'instId': 'ETH-USDT',\n  'instType': 'MARGIN',\n  'lever': '1.0',\n  'liqPenalty': '',\n  'mgnMode': 'isolated',\n  'openAvgPx': '1694.3800000000002779',\n  'openMaxPos': '947.60612263864',\n  'pnl': '-25.065996499999923',\n  'pnlRatio': '-0.0501715362019865',\n  'posId': '635515846940885007',\n  'realizedPnl': '',\n  'triggerPx': '',\n  'type': '2',\n  'uTime': '1698100965747',\n  'uly': ''},\n {'cTime': '1698019735996',\n  'ccy': 'USDT',\n  'closeAvgPx': '1691.9185491634740133',\n  'closeTotalPos': '499.46958298',\n  'direction': 'short',\n  'fee': '',\n  'fundingFee': '',\n  'instId': 'ETH-USDT',\n  'instType': 'MARGIN',\n  'lever': '1.0',\n  'liqPenalty': '',\n  'mgnMode': 'isolated',\n  'openAvgPx': '1663.9899999999999078',\n  'openMaxPos': '980.96718082511',\n  'pnl': '-8.244759070000027',\n  'pnlRatio': '-0.016507029358643',\n  'posId': '635515846940885007',\n  'realizedPnl': '',\n  'triggerPx': '',\n  'type': '2',\n  'uTime': '1698031738710',\n  'uly': ''},\n {'cTime': '1697790785224',\n  'ccy': 'USDT',\n  'closeAvgPx': '1655.06',\n  'closeTotalPos': '796.27088178',\n  'direction': 'short',\n  'fee': '',\n  'fundingFee': '',\n  'instId': 'ETH-USDT',\n  'instType': 'MARGIN',\n  'lever': '1.0',\n  'liqPenalty': '',\n  'mgnMode': 'isolated',\n  'openAvgPx': '1611.5918502488638158',\n  'openMaxPos': '1548.28764380784',\n  'pnl': '-20.913091931218382',\n  'pnlRatio': '-0.0262637908904428',\n  'posId': '635515846940885007',\n  'realizedPnl': '',\n  'triggerPx': '',\n  'type': '2',\n  'uTime': '1698014596985',\n  'uly': ''}]"
     },
     "execution_count": 20,
     "metadata": {},
     "output_type": "execute_result"
    }
   ],
   "source": [
    "pos_his_list"
   ],
   "metadata": {
    "collapsed": false
   }
  },
  {
   "cell_type": "code",
   "execution_count": 27,
   "outputs": [
    {
     "data": {
      "text/plain": "            cTime   ccy             closeAvgPx  closeTotalPos direction fee  \\\n0   1699494326096  USDT  1961.3750228734395851  3076.24608375     short       \n1   1700147181336  USDT     7.6500919364819729  748.983643358     short       \n2   1700216725214  USDT     8.8982605379301728  324.902445071     short       \n3   1700147123793  USDT                   59.2    282.6111504     short       \n4   1700067477867  USDT      7.501989918644357  199.961422689     short       \n5   1699156102221  USDT   1900.179158641825482   649.78336491     short       \n6   1698283328136  USDT                34558.1  462.328974811     short       \n7   1698117203684  USDT                1820.44   6275.1203954     short       \n8   1698828686518  USDT                 39.637  966.721419053     short       \n9   1698108611228  USDT                1810.96   456.68427088     short       \n10  1698033524380  USDT                1783.88   499.60591996     short       \n11  1698019735996  USDT  1691.9185491634740133   499.46958298     short       \n12  1697790785224  USDT                1655.06   796.27088178     short       \n\n   fundingFee     instId instType lever  ...               openAvgPx  \\\n0               ETH-USDT   MARGIN   2.0  ...   2043.9088638033725953   \n1                AR-USDT   MARGIN   3.0  ...      8.1917503719351657   \n2              ATOM-USDT   MARGIN   2.0  ...      9.5259999999999994   \n3               SOL-USDT   MARGIN   2.0  ...     62.9399999999999883   \n4                AR-USDT   MARGIN   3.0  ...      7.5143514891233952   \n5               ETH-USDT   MARGIN   1.0  ...   1878.5982223751041234   \n6               BTC-USDT   MARGIN   3.0  ...  34705.9605155156761177   \n7               ETH-USDT   MARGIN   3.0  ...   1820.9635044880925673   \n8               SOL-USDT   MARGIN   3.0  ...     38.5269999999999988   \n9               ETH-USDT   MARGIN   1.0  ...   1780.8299999999999097   \n10              ETH-USDT   MARGIN   1.0  ...   1694.3800000000002779   \n11              ETH-USDT   MARGIN   1.0  ...   1663.9899999999999078   \n12              ETH-USDT   MARGIN   1.0  ...   1611.5918502488638158   \n\n           openMaxPos                  pnl             pnlRatio  \\\n0    4799.49641217205    129.4471490544388   0.0841591638186763   \n1   1167.402067788131    53.03116770488006   0.2124125199868971   \n2   520.5737094040032         22.920669183   0.1410926235288332   \n3     449.91442892202    17.85415037999999   0.1263513513513513   \n4   266.5913215791788   0.3294908746165809   0.0049433166185615   \n5    1282.82577052301   -7.379795384831769  -0.0113573165817409   \n6    679.750610805089    1.978123813328525   0.0128358198670363   \n7   9174.856938643892   1.8045382931121627   0.0008627109183921   \n8   1250.638657275579         -27.07219959  -0.0840124126447511   \n9     896.81188026474   -7.598123140000022  -0.0166375844855768   \n10    947.60612263864  -25.065996499999923  -0.0501715362019865   \n11    980.96718082511   -8.244759070000027   -0.016507029358643   \n12   1548.28764380784  -20.913091931218382  -0.0262637908904428   \n\n                 posId realizedPnl triggerPx type          uTime uly  \n0   635515846940885007                          2  1700580105216      \n1   645064988000194576                          2  1700580036977      \n2   645690976748900354                          2  1700567007460      \n3   639869120489918471                          2  1700374798370      \n4   645064988000194576                          2  1700088985434      \n5   635515846940885007                          2  1699462290383      \n6   637581721646862357                          2  1698845910390      \n7   635515846940885007                          2  1698844803697      \n8   639869120489918471                          2  1698833360373      \n9   635515846940885007                          2  1698114032592      \n10  635515846940885007                          2  1698100965747      \n11  635515846940885007                          2  1698031738710      \n12  635515846940885007                          2  1698014596985      \n\n[13 rows x 22 columns]",
      "text/html": "<div>\n<style scoped>\n    .dataframe tbody tr th:only-of-type {\n        vertical-align: middle;\n    }\n\n    .dataframe tbody tr th {\n        vertical-align: top;\n    }\n\n    .dataframe thead th {\n        text-align: right;\n    }\n</style>\n<table border=\"1\" class=\"dataframe\">\n  <thead>\n    <tr style=\"text-align: right;\">\n      <th></th>\n      <th>cTime</th>\n      <th>ccy</th>\n      <th>closeAvgPx</th>\n      <th>closeTotalPos</th>\n      <th>direction</th>\n      <th>fee</th>\n      <th>fundingFee</th>\n      <th>instId</th>\n      <th>instType</th>\n      <th>lever</th>\n      <th>...</th>\n      <th>openAvgPx</th>\n      <th>openMaxPos</th>\n      <th>pnl</th>\n      <th>pnlRatio</th>\n      <th>posId</th>\n      <th>realizedPnl</th>\n      <th>triggerPx</th>\n      <th>type</th>\n      <th>uTime</th>\n      <th>uly</th>\n    </tr>\n  </thead>\n  <tbody>\n    <tr>\n      <th>0</th>\n      <td>1699494326096</td>\n      <td>USDT</td>\n      <td>1961.3750228734395851</td>\n      <td>3076.24608375</td>\n      <td>short</td>\n      <td></td>\n      <td></td>\n      <td>ETH-USDT</td>\n      <td>MARGIN</td>\n      <td>2.0</td>\n      <td>...</td>\n      <td>2043.9088638033725953</td>\n      <td>4799.49641217205</td>\n      <td>129.4471490544388</td>\n      <td>0.0841591638186763</td>\n      <td>635515846940885007</td>\n      <td></td>\n      <td></td>\n      <td>2</td>\n      <td>1700580105216</td>\n      <td></td>\n    </tr>\n    <tr>\n      <th>1</th>\n      <td>1700147181336</td>\n      <td>USDT</td>\n      <td>7.6500919364819729</td>\n      <td>748.983643358</td>\n      <td>short</td>\n      <td></td>\n      <td></td>\n      <td>AR-USDT</td>\n      <td>MARGIN</td>\n      <td>3.0</td>\n      <td>...</td>\n      <td>8.1917503719351657</td>\n      <td>1167.402067788131</td>\n      <td>53.03116770488006</td>\n      <td>0.2124125199868971</td>\n      <td>645064988000194576</td>\n      <td></td>\n      <td></td>\n      <td>2</td>\n      <td>1700580036977</td>\n      <td></td>\n    </tr>\n    <tr>\n      <th>2</th>\n      <td>1700216725214</td>\n      <td>USDT</td>\n      <td>8.8982605379301728</td>\n      <td>324.902445071</td>\n      <td>short</td>\n      <td></td>\n      <td></td>\n      <td>ATOM-USDT</td>\n      <td>MARGIN</td>\n      <td>2.0</td>\n      <td>...</td>\n      <td>9.5259999999999994</td>\n      <td>520.5737094040032</td>\n      <td>22.920669183</td>\n      <td>0.1410926235288332</td>\n      <td>645690976748900354</td>\n      <td></td>\n      <td></td>\n      <td>2</td>\n      <td>1700567007460</td>\n      <td></td>\n    </tr>\n    <tr>\n      <th>3</th>\n      <td>1700147123793</td>\n      <td>USDT</td>\n      <td>59.2</td>\n      <td>282.6111504</td>\n      <td>short</td>\n      <td></td>\n      <td></td>\n      <td>SOL-USDT</td>\n      <td>MARGIN</td>\n      <td>2.0</td>\n      <td>...</td>\n      <td>62.9399999999999883</td>\n      <td>449.91442892202</td>\n      <td>17.85415037999999</td>\n      <td>0.1263513513513513</td>\n      <td>639869120489918471</td>\n      <td></td>\n      <td></td>\n      <td>2</td>\n      <td>1700374798370</td>\n      <td></td>\n    </tr>\n    <tr>\n      <th>4</th>\n      <td>1700067477867</td>\n      <td>USDT</td>\n      <td>7.501989918644357</td>\n      <td>199.961422689</td>\n      <td>short</td>\n      <td></td>\n      <td></td>\n      <td>AR-USDT</td>\n      <td>MARGIN</td>\n      <td>3.0</td>\n      <td>...</td>\n      <td>7.5143514891233952</td>\n      <td>266.5913215791788</td>\n      <td>0.3294908746165809</td>\n      <td>0.0049433166185615</td>\n      <td>645064988000194576</td>\n      <td></td>\n      <td></td>\n      <td>2</td>\n      <td>1700088985434</td>\n      <td></td>\n    </tr>\n    <tr>\n      <th>5</th>\n      <td>1699156102221</td>\n      <td>USDT</td>\n      <td>1900.179158641825482</td>\n      <td>649.78336491</td>\n      <td>short</td>\n      <td></td>\n      <td></td>\n      <td>ETH-USDT</td>\n      <td>MARGIN</td>\n      <td>1.0</td>\n      <td>...</td>\n      <td>1878.5982223751041234</td>\n      <td>1282.82577052301</td>\n      <td>-7.379795384831769</td>\n      <td>-0.0113573165817409</td>\n      <td>635515846940885007</td>\n      <td></td>\n      <td></td>\n      <td>2</td>\n      <td>1699462290383</td>\n      <td></td>\n    </tr>\n    <tr>\n      <th>6</th>\n      <td>1698283328136</td>\n      <td>USDT</td>\n      <td>34558.1</td>\n      <td>462.328974811</td>\n      <td>short</td>\n      <td></td>\n      <td></td>\n      <td>BTC-USDT</td>\n      <td>MARGIN</td>\n      <td>3.0</td>\n      <td>...</td>\n      <td>34705.9605155156761177</td>\n      <td>679.750610805089</td>\n      <td>1.978123813328525</td>\n      <td>0.0128358198670363</td>\n      <td>637581721646862357</td>\n      <td></td>\n      <td></td>\n      <td>2</td>\n      <td>1698845910390</td>\n      <td></td>\n    </tr>\n    <tr>\n      <th>7</th>\n      <td>1698117203684</td>\n      <td>USDT</td>\n      <td>1820.44</td>\n      <td>6275.1203954</td>\n      <td>short</td>\n      <td></td>\n      <td></td>\n      <td>ETH-USDT</td>\n      <td>MARGIN</td>\n      <td>3.0</td>\n      <td>...</td>\n      <td>1820.9635044880925673</td>\n      <td>9174.856938643892</td>\n      <td>1.8045382931121627</td>\n      <td>0.0008627109183921</td>\n      <td>635515846940885007</td>\n      <td></td>\n      <td></td>\n      <td>2</td>\n      <td>1698844803697</td>\n      <td></td>\n    </tr>\n    <tr>\n      <th>8</th>\n      <td>1698828686518</td>\n      <td>USDT</td>\n      <td>39.637</td>\n      <td>966.721419053</td>\n      <td>short</td>\n      <td></td>\n      <td></td>\n      <td>SOL-USDT</td>\n      <td>MARGIN</td>\n      <td>3.0</td>\n      <td>...</td>\n      <td>38.5269999999999988</td>\n      <td>1250.638657275579</td>\n      <td>-27.07219959</td>\n      <td>-0.0840124126447511</td>\n      <td>639869120489918471</td>\n      <td></td>\n      <td></td>\n      <td>2</td>\n      <td>1698833360373</td>\n      <td></td>\n    </tr>\n    <tr>\n      <th>9</th>\n      <td>1698108611228</td>\n      <td>USDT</td>\n      <td>1810.96</td>\n      <td>456.68427088</td>\n      <td>short</td>\n      <td></td>\n      <td></td>\n      <td>ETH-USDT</td>\n      <td>MARGIN</td>\n      <td>1.0</td>\n      <td>...</td>\n      <td>1780.8299999999999097</td>\n      <td>896.81188026474</td>\n      <td>-7.598123140000022</td>\n      <td>-0.0166375844855768</td>\n      <td>635515846940885007</td>\n      <td></td>\n      <td></td>\n      <td>2</td>\n      <td>1698114032592</td>\n      <td></td>\n    </tr>\n    <tr>\n      <th>10</th>\n      <td>1698033524380</td>\n      <td>USDT</td>\n      <td>1783.88</td>\n      <td>499.60591996</td>\n      <td>short</td>\n      <td></td>\n      <td></td>\n      <td>ETH-USDT</td>\n      <td>MARGIN</td>\n      <td>1.0</td>\n      <td>...</td>\n      <td>1694.3800000000002779</td>\n      <td>947.60612263864</td>\n      <td>-25.065996499999923</td>\n      <td>-0.0501715362019865</td>\n      <td>635515846940885007</td>\n      <td></td>\n      <td></td>\n      <td>2</td>\n      <td>1698100965747</td>\n      <td></td>\n    </tr>\n    <tr>\n      <th>11</th>\n      <td>1698019735996</td>\n      <td>USDT</td>\n      <td>1691.9185491634740133</td>\n      <td>499.46958298</td>\n      <td>short</td>\n      <td></td>\n      <td></td>\n      <td>ETH-USDT</td>\n      <td>MARGIN</td>\n      <td>1.0</td>\n      <td>...</td>\n      <td>1663.9899999999999078</td>\n      <td>980.96718082511</td>\n      <td>-8.244759070000027</td>\n      <td>-0.016507029358643</td>\n      <td>635515846940885007</td>\n      <td></td>\n      <td></td>\n      <td>2</td>\n      <td>1698031738710</td>\n      <td></td>\n    </tr>\n    <tr>\n      <th>12</th>\n      <td>1697790785224</td>\n      <td>USDT</td>\n      <td>1655.06</td>\n      <td>796.27088178</td>\n      <td>short</td>\n      <td></td>\n      <td></td>\n      <td>ETH-USDT</td>\n      <td>MARGIN</td>\n      <td>1.0</td>\n      <td>...</td>\n      <td>1611.5918502488638158</td>\n      <td>1548.28764380784</td>\n      <td>-20.913091931218382</td>\n      <td>-0.0262637908904428</td>\n      <td>635515846940885007</td>\n      <td></td>\n      <td></td>\n      <td>2</td>\n      <td>1698014596985</td>\n      <td></td>\n    </tr>\n  </tbody>\n</table>\n<p>13 rows × 22 columns</p>\n</div>"
     },
     "execution_count": 27,
     "metadata": {},
     "output_type": "execute_result"
    }
   ],
   "source": [
    "import pandas as pd\n",
    "df = pd.DataFrame(pos_his_list)\n",
    "df"
   ],
   "metadata": {
    "collapsed": false
   }
  },
  {
   "cell_type": "code",
   "execution_count": 28,
   "outputs": [
    {
     "name": "stdout",
     "output_type": "stream",
     "text": [
      "Collecting forex-python\r\n",
      "  Downloading forex_python-1.8-py3-none-any.whl (8.2 kB)\r\n",
      "Requirement already satisfied: requests in /Users/rain/PycharmProjects/okx-trading/venv/lib/python3.9/site-packages (from forex-python) (2.31.0)\r\n",
      "Collecting simplejson (from forex-python)\r\n",
      "  Downloading simplejson-3.19.2-cp39-cp39-macosx_10_9_x86_64.whl.metadata (3.1 kB)\r\n",
      "Requirement already satisfied: charset-normalizer<4,>=2 in /Users/rain/PycharmProjects/okx-trading/venv/lib/python3.9/site-packages (from requests->forex-python) (3.2.0)\r\n",
      "Requirement already satisfied: idna<4,>=2.5 in /Users/rain/PycharmProjects/okx-trading/venv/lib/python3.9/site-packages (from requests->forex-python) (3.4)\r\n",
      "Requirement already satisfied: urllib3<3,>=1.21.1 in /Users/rain/PycharmProjects/okx-trading/venv/lib/python3.9/site-packages (from requests->forex-python) (2.0.4)\r\n",
      "Requirement already satisfied: certifi>=2017.4.17 in /Users/rain/PycharmProjects/okx-trading/venv/lib/python3.9/site-packages (from requests->forex-python) (2023.7.22)\r\n",
      "Downloading simplejson-3.19.2-cp39-cp39-macosx_10_9_x86_64.whl (76 kB)\r\n",
      "\u001B[2K   \u001B[90m━━━━━━━━━━━━━━━━━━━━━━━━━━━━━━━━━━━━━━━━\u001B[0m \u001B[32m76.4/76.4 kB\u001B[0m \u001B[31m876.6 kB/s\u001B[0m eta \u001B[36m0:00:00\u001B[0ma \u001B[36m0:00:01\u001B[0m\r\n",
      "\u001B[?25hInstalling collected packages: simplejson, forex-python\r\n",
      "Successfully installed forex-python-1.8 simplejson-3.19.2\r\n",
      "Note: you may need to restart the kernel to use updated packages.\n"
     ]
    }
   ],
   "source": [
    "pip install forex-python\n"
   ],
   "metadata": {
    "collapsed": false
   }
  },
  {
   "cell_type": "code",
   "execution_count": 30,
   "outputs": [
    {
     "name": "stdout",
     "output_type": "stream",
     "text": [
      "人民币兑美元的汇率为：7.290909090909091\n"
     ]
    }
   ],
   "source": [
    "from forex_python.converter import CurrencyRates\n",
    "from datetime import date\n",
    "# 创建 CurrencyRates 对象\n",
    "c = CurrencyRates()\n",
    "\n",
    "date = date.\n",
    "\n",
    "# 获取人民币兑美元的汇率\n",
    "exchange_rate = c.get_rate('USD', 'CNY')\n",
    "\n",
    "# 打印汇率\n",
    "print(f'人民币兑美元的汇率为：{exchange_rate}')\n"
   ],
   "metadata": {
    "collapsed": false
   }
  },
  {
   "cell_type": "code",
   "execution_count": null,
   "outputs": [],
   "source": [
    "from forex_python.converter import CurrencyRates\n"
   ],
   "metadata": {
    "collapsed": false
   }
  },
  {
   "cell_type": "code",
   "execution_count": 31,
   "outputs": [
    {
     "name": "stdout",
     "output_type": "stream",
     "text": [
      "Collecting pandas_datareader\r\n",
      "  Downloading pandas_datareader-0.10.0-py3-none-any.whl (109 kB)\r\n",
      "\u001B[2K     \u001B[90m━━━━━━━━━━━━━━━━━━━━━━━━━━━━━━━━━━━━━\u001B[0m \u001B[32m109.5/109.5 kB\u001B[0m \u001B[31m520.6 kB/s\u001B[0m eta \u001B[36m0:00:00\u001B[0ma \u001B[36m0:00:01\u001B[0m\r\n",
      "\u001B[?25hRequirement already satisfied: lxml in /Users/rain/PycharmProjects/okx-trading/venv/lib/python3.9/site-packages (from pandas_datareader) (4.9.3)\r\n",
      "Requirement already satisfied: pandas>=0.23 in /Users/rain/PycharmProjects/okx-trading/venv/lib/python3.9/site-packages (from pandas_datareader) (2.0.3)\r\n",
      "Requirement already satisfied: requests>=2.19.0 in /Users/rain/PycharmProjects/okx-trading/venv/lib/python3.9/site-packages (from pandas_datareader) (2.31.0)\r\n",
      "Requirement already satisfied: python-dateutil>=2.8.2 in /Users/rain/PycharmProjects/okx-trading/venv/lib/python3.9/site-packages (from pandas>=0.23->pandas_datareader) (2.8.2)\r\n",
      "Requirement already satisfied: pytz>=2020.1 in /Users/rain/PycharmProjects/okx-trading/venv/lib/python3.9/site-packages (from pandas>=0.23->pandas_datareader) (2023.3)\r\n",
      "Requirement already satisfied: tzdata>=2022.1 in /Users/rain/PycharmProjects/okx-trading/venv/lib/python3.9/site-packages (from pandas>=0.23->pandas_datareader) (2023.3)\r\n",
      "Requirement already satisfied: numpy>=1.20.3 in /Users/rain/PycharmProjects/okx-trading/venv/lib/python3.9/site-packages (from pandas>=0.23->pandas_datareader) (1.25.2)\r\n",
      "Requirement already satisfied: charset-normalizer<4,>=2 in /Users/rain/PycharmProjects/okx-trading/venv/lib/python3.9/site-packages (from requests>=2.19.0->pandas_datareader) (3.2.0)\r\n",
      "Requirement already satisfied: idna<4,>=2.5 in /Users/rain/PycharmProjects/okx-trading/venv/lib/python3.9/site-packages (from requests>=2.19.0->pandas_datareader) (3.4)\r\n",
      "Requirement already satisfied: urllib3<3,>=1.21.1 in /Users/rain/PycharmProjects/okx-trading/venv/lib/python3.9/site-packages (from requests>=2.19.0->pandas_datareader) (2.0.4)\r\n",
      "Requirement already satisfied: certifi>=2017.4.17 in /Users/rain/PycharmProjects/okx-trading/venv/lib/python3.9/site-packages (from requests>=2.19.0->pandas_datareader) (2023.7.22)\r\n",
      "Requirement already satisfied: six>=1.5 in /Users/rain/PycharmProjects/okx-trading/venv/lib/python3.9/site-packages (from python-dateutil>=2.8.2->pandas>=0.23->pandas_datareader) (1.16.0)\r\n",
      "Installing collected packages: pandas_datareader\r\n",
      "Successfully installed pandas_datareader-0.10.0\r\n",
      "Note: you may need to restart the kernel to use updated packages.\n"
     ]
    }
   ],
   "source": [
    "pip install pandas_datareader"
   ],
   "metadata": {
    "collapsed": false
   }
  },
  {
   "cell_type": "code",
   "execution_count": 34,
   "outputs": [
    {
     "data": {
      "text/plain": "            DEXCHUS\nDATE               \n2013-01-01      NaN\n2013-01-02   6.2301\n2013-01-03   6.2301\n2013-01-04   6.2303\n2013-01-07   6.2294\n...             ...\n2023-11-13   7.2890\n2023-11-14   7.2530\n2023-11-15   7.2466\n2023-11-16   7.2416\n2023-11-17   7.2120\n\n[2839 rows x 1 columns]",
      "text/html": "<div>\n<style scoped>\n    .dataframe tbody tr th:only-of-type {\n        vertical-align: middle;\n    }\n\n    .dataframe tbody tr th {\n        vertical-align: top;\n    }\n\n    .dataframe thead th {\n        text-align: right;\n    }\n</style>\n<table border=\"1\" class=\"dataframe\">\n  <thead>\n    <tr style=\"text-align: right;\">\n      <th></th>\n      <th>DEXCHUS</th>\n    </tr>\n    <tr>\n      <th>DATE</th>\n      <th></th>\n    </tr>\n  </thead>\n  <tbody>\n    <tr>\n      <th>2013-01-01</th>\n      <td>NaN</td>\n    </tr>\n    <tr>\n      <th>2013-01-02</th>\n      <td>6.2301</td>\n    </tr>\n    <tr>\n      <th>2013-01-03</th>\n      <td>6.2301</td>\n    </tr>\n    <tr>\n      <th>2013-01-04</th>\n      <td>6.2303</td>\n    </tr>\n    <tr>\n      <th>2013-01-07</th>\n      <td>6.2294</td>\n    </tr>\n    <tr>\n      <th>...</th>\n      <td>...</td>\n    </tr>\n    <tr>\n      <th>2023-11-13</th>\n      <td>7.2890</td>\n    </tr>\n    <tr>\n      <th>2023-11-14</th>\n      <td>7.2530</td>\n    </tr>\n    <tr>\n      <th>2023-11-15</th>\n      <td>7.2466</td>\n    </tr>\n    <tr>\n      <th>2023-11-16</th>\n      <td>7.2416</td>\n    </tr>\n    <tr>\n      <th>2023-11-17</th>\n      <td>7.2120</td>\n    </tr>\n  </tbody>\n</table>\n<p>2839 rows × 1 columns</p>\n</div>"
     },
     "execution_count": 34,
     "metadata": {},
     "output_type": "execute_result"
    }
   ],
   "source": [
    "import pandas_datareader as pdr\n",
    "from datetime import datetime\n",
    "\n",
    "# 设置起始和结束日期\n",
    "start_date = datetime(2013, 1, 1)\n",
    "end_date = datetime(2023, 11, 25)\n",
    "\n",
    "# 获取人民币兑美元的历史汇率数据\n",
    "exchange_rate_data = pdr.get_data_fred('DEXCHUS', start_date, end_date)\n",
    "\n",
    "# 打印数据\n",
    "exchange_rate_data\n"
   ],
   "metadata": {
    "collapsed": false
   }
  },
  {
   "cell_type": "code",
   "execution_count": 35,
   "outputs": [
    {
     "name": "stdout",
     "output_type": "stream",
     "text": [
      "Requirement already satisfied: requests in /Users/rain/PycharmProjects/okx-trading/venv/lib/python3.9/site-packages (2.31.0)\r\n",
      "Requirement already satisfied: charset-normalizer<4,>=2 in /Users/rain/PycharmProjects/okx-trading/venv/lib/python3.9/site-packages (from requests) (3.2.0)\r\n",
      "Requirement already satisfied: idna<4,>=2.5 in /Users/rain/PycharmProjects/okx-trading/venv/lib/python3.9/site-packages (from requests) (3.4)\r\n",
      "Requirement already satisfied: urllib3<3,>=1.21.1 in /Users/rain/PycharmProjects/okx-trading/venv/lib/python3.9/site-packages (from requests) (2.0.4)\r\n",
      "Requirement already satisfied: certifi>=2017.4.17 in /Users/rain/PycharmProjects/okx-trading/venv/lib/python3.9/site-packages (from requests) (2023.7.22)\r\n",
      "Note: you may need to restart the kernel to use updated packages.\n"
     ]
    }
   ],
   "source": [
    "pip install requests\n"
   ],
   "metadata": {
    "collapsed": false
   }
  },
  {
   "cell_type": "code",
   "execution_count": 36,
   "outputs": [
    {
     "name": "stdout",
     "output_type": "stream",
     "text": [
      "市值前20的加密货币：\n",
      "1. Bitcoin (btc): $738,885,437,414\n",
      "2. Ethereum (eth): $249,955,959,194\n",
      "3. Tether (usdt): $88,764,146,358\n",
      "4. BNB (bnb): $35,919,207,951\n",
      "5. XRP (xrp): $33,414,480,831\n",
      "6. Solana (sol): $24,891,655,590\n",
      "7. USDC (usdc): $24,712,417,759\n",
      "8. Lido Staked Ether (steth): $19,124,178,253\n",
      "9. Cardano (ada): $13,739,474,384\n",
      "10. Dogecoin (doge): $11,128,843,120\n",
      "11. TRON (trx): $9,426,521,495\n",
      "12. Chainlink (link): $8,226,109,302\n",
      "13. Toncoin (ton): $8,128,382,214\n",
      "14. Avalanche (avax): $7,716,057,051\n",
      "15. Polygon (matic): $7,185,201,873\n",
      "16. Polkadot (dot): $6,949,333,072\n",
      "17. Wrapped Bitcoin (wbtc): $6,089,873,889\n",
      "18. Dai (dai): $5,347,979,039\n",
      "19. Litecoin (ltc): $5,294,154,291\n",
      "20. Shiba Inu (shib): $4,921,342,718\n"
     ]
    }
   ],
   "source": [
    "import requests\n",
    "\n",
    "def get_top_cryptos():\n",
    "    # CoinGecko API endpoint for fetching cryptocurrency data\n",
    "    api_url = \"https://api.coingecko.com/api/v3/coins/markets\"\n",
    "\n",
    "    # 参数\n",
    "    params = {\n",
    "        'vs_currency': 'usd',  # 换算成美元\n",
    "        'order': 'market_cap_desc',  # 按市值降序排列\n",
    "        'per_page': 20,  # 获取前20个\n",
    "        'page': 1,  # 第一页\n",
    "        'sparkline': False,  # 不包含价格走势\n",
    "    }\n",
    "\n",
    "    # 发送GET请求\n",
    "    response = requests.get(api_url, params=params)\n",
    "\n",
    "    # 检查请求是否成功\n",
    "    if response.status_code == 200:\n",
    "        # 解析JSON响应\n",
    "        data = response.json()\n",
    "\n",
    "        # 提取前20个加密货币的信息\n",
    "        top_cryptos = []\n",
    "        for crypto in data:\n",
    "            crypto_info = {\n",
    "                'name': crypto['name'],\n",
    "                'symbol': crypto['symbol'],\n",
    "                'market_cap': crypto['market_cap'],\n",
    "            }\n",
    "            top_cryptos.append(crypto_info)\n",
    "\n",
    "        return top_cryptos\n",
    "    else:\n",
    "        # 输出错误信息\n",
    "        print(f\"Error: {response.status_code}\")\n",
    "        return None\n",
    "\n",
    "if __name__ == \"__main__\":\n",
    "    top_cryptos = get_top_cryptos()\n",
    "\n",
    "    if top_cryptos:\n",
    "        print(\"市值前20的加密货币：\")\n",
    "        for i, crypto in enumerate(top_cryptos, start=1):\n",
    "            print(f\"{i}. {crypto['name']} ({crypto['symbol']}): ${crypto['market_cap']:,}\")\n",
    "    else:\n",
    "        print(\"无法获取加密货币数据。\")\n"
   ],
   "metadata": {
    "collapsed": false
   }
  },
  {
   "cell_type": "code",
   "execution_count": 38,
   "outputs": [],
   "source": [
    "def get_crypto_id(crypto_symbol):\n",
    "    # CoinGecko API endpoint for fetching list of cryptocurrencies\n",
    "    api_url = \"https://api.coingecko.com/api/v3/coins/list\"\n",
    "\n",
    "    # 发送GET请求\n",
    "    response = requests.get(api_url)\n",
    "\n",
    "    # 检查请求是否成功\n",
    "    if response.status_code == 200:\n",
    "        # 解析JSON响应\n",
    "        data = response.json()\n",
    "\n",
    "        # 查找加密货币的ID\n",
    "        for crypto in data:\n",
    "            if crypto['symbol'].lower() == crypto_symbol.lower():\n",
    "                return crypto['id']\n",
    "\n",
    "        print(f\"未找到符号为 {crypto_symbol} 的加密货币。\")\n",
    "        return None\n",
    "    else:\n",
    "        # 输出错误信息\n",
    "        print(f\"Error: {response.status_code}\")\n",
    "        return None\n"
   ],
   "metadata": {
    "collapsed": false
   }
  },
  {
   "cell_type": "code",
   "execution_count": 41,
   "outputs": [
    {
     "name": "stdout",
     "output_type": "stream",
     "text": [
      "Error: 429\n",
      "Error: 429\n",
      "Error: 429\n",
      "Error: 429\n",
      "Error: 429\n",
      "Error: 429\n",
      "Error: 429\n",
      "Error: 429\n",
      "Error: 429\n",
      "Error: 429\n",
      "Error: 429\n",
      "Error: 429\n",
      "Error: 429\n",
      "Error: 429\n",
      "Error: 429\n",
      "Error: 429\n",
      "Error: 429\n",
      "Error: 429\n",
      "市值前20的加密货币从 2023-09-01 到 2023-11-26 的涨幅、最低价格和最高价格：\n",
      "1. Bitcoin (btc):\n",
      "   涨幅: 40.21%\n",
      "   最低价格: $25023.25\n",
      "   最高价格: $38189.66\n",
      "\n"
     ]
    },
    {
     "ename": "NameError",
     "evalue": "name 'time' is not defined",
     "output_type": "error",
     "traceback": [
      "\u001B[0;31m---------------------------------------------------------------------------\u001B[0m",
      "\u001B[0;31mNameError\u001B[0m                                 Traceback (most recent call last)",
      "Cell \u001B[0;32mIn[41], line 84\u001B[0m\n\u001B[1;32m     82\u001B[0m         \u001B[38;5;28mprint\u001B[39m(\u001B[38;5;124mf\u001B[39m\u001B[38;5;124m\"\u001B[39m\u001B[38;5;124m   最高价格: $\u001B[39m\u001B[38;5;132;01m{\u001B[39;00mcrypto_data[\u001B[38;5;124m'\u001B[39m\u001B[38;5;124mmax_price\u001B[39m\u001B[38;5;124m'\u001B[39m]\u001B[38;5;132;01m:\u001B[39;00m\u001B[38;5;124m.2f\u001B[39m\u001B[38;5;132;01m}\u001B[39;00m\u001B[38;5;124m\"\u001B[39m)\n\u001B[1;32m     83\u001B[0m         \u001B[38;5;28mprint\u001B[39m()\n\u001B[0;32m---> 84\u001B[0m         \u001B[43mtime\u001B[49m\u001B[38;5;241m.\u001B[39msleep(\u001B[38;5;241m3\u001B[39m)\n\u001B[1;32m     85\u001B[0m \u001B[38;5;28;01melse\u001B[39;00m:\n\u001B[1;32m     86\u001B[0m     \u001B[38;5;28mprint\u001B[39m(\u001B[38;5;124m\"\u001B[39m\u001B[38;5;124m无法获取加密货币数据。\u001B[39m\u001B[38;5;124m\"\u001B[39m)\n",
      "\u001B[0;31mNameError\u001B[0m: name 'time' is not defined"
     ]
    }
   ],
   "source": [
    "import requests\n",
    "from datetime import datetime\n",
    "\n",
    "def get_crypto_price_data(crypto_id, start_date, end_date):\n",
    "    # CoinGecko API endpoint for fetching historical price data\n",
    "    api_url = f\"https://api.coingecko.com/api/v3/coins/{crypto_id}/market_chart/range\"\n",
    "\n",
    "    # 将日期转换为时间戳（Unix时间）\n",
    "    start_timestamp = int(datetime.strptime(start_date, \"%Y-%m-%d\").timestamp())\n",
    "    end_timestamp = int(datetime.now().timestamp())\n",
    "\n",
    "    # 参数\n",
    "    params = {\n",
    "        'vs_currency': 'usd',  # 换算成美元\n",
    "        'from': start_timestamp,\n",
    "        'to': end_timestamp,\n",
    "    }\n",
    "\n",
    "    # 发送GET请求\n",
    "    response = requests.get(api_url, params=params)\n",
    "\n",
    "    # 检查请求是否成功\n",
    "    if response.status_code == 200:\n",
    "        # 解析JSON响应\n",
    "        data = response.json()\n",
    "\n",
    "        # 提取价格数据\n",
    "        prices = data.get('prices', [])\n",
    "\n",
    "        # 计算涨幅、最低价格和最高价格\n",
    "        if prices:\n",
    "            start_price = prices[0][1]\n",
    "            end_price = prices[-1][1]\n",
    "            price_change = ((end_price - start_price) / start_price) * 100\n",
    "            min_price = min(prices, key=lambda x: x[1])[1]\n",
    "            max_price = max(prices, key=lambda x: x[1])[1]\n",
    "\n",
    "            return {\n",
    "                'price_change': price_change,\n",
    "                'min_price': min_price,\n",
    "                'max_price': max_price,\n",
    "            }\n",
    "        else:\n",
    "            return None\n",
    "    else:\n",
    "        # 输出错误信息\n",
    "        print(f\"Error: {response.status_code}\")\n",
    "        return None\n",
    "\n",
    "def get_top_cryptos_price_data(start_date, end_date):\n",
    "    top_cryptos = get_top_cryptos()\n",
    "    crypto_data = []\n",
    "\n",
    "    for crypto in top_cryptos:\n",
    "        crypto_id = get_crypto_id(crypto['symbol'])\n",
    "        if crypto_id:\n",
    "            price_data = get_crypto_price_data(crypto_id, start_date, end_date)\n",
    "            if price_data:\n",
    "                crypto_info = {\n",
    "                    'name': crypto['name'],\n",
    "                    'symbol': crypto['symbol'],\n",
    "                    'price_change': price_data['price_change'],\n",
    "                    'min_price': price_data['min_price'],\n",
    "                    'max_price': price_data['max_price'],\n",
    "                }\n",
    "                crypto_data.append(crypto_info)\n",
    "\n",
    "    return crypto_data\n",
    "\n",
    "if __name__ == \"__main__\":\n",
    "    start_date = \"2023-09-01\"\n",
    "    end_date = datetime.now().strftime(\"%Y-%m-%d\")\n",
    "\n",
    "    top_cryptos_data = get_top_cryptos_price_data(start_date, end_date)\n",
    "\n",
    "    if top_cryptos_data:\n",
    "        print(f\"市值前20的加密货币从 {start_date} 到 {end_date} 的涨幅、最低价格和最高价格：\")\n",
    "        for i, crypto_data in enumerate(top_cryptos_data, start=1):\n",
    "            print(f\"{i}. {crypto_data['name']} ({crypto_data['symbol']}):\")\n",
    "            print(f\"   涨幅: {crypto_data['price_change']:.2f}%\")\n",
    "            print(f\"   最低价格: ${crypto_data['min_price']:.2f}\")\n",
    "            print(f\"   最高价格: ${crypto_data['max_price']:.2f}\")\n",
    "            print()\n",
    "    else:\n",
    "        print(\"无法获取加密货币数据。\")\n"
   ],
   "metadata": {
    "collapsed": false
   }
  },
  {
   "cell_type": "code",
   "execution_count": 44,
   "outputs": [
    {
     "name": "stdout",
     "output_type": "stream",
     "text": [
      "[*********************100%%**********************]  1 of 1 completed\n",
      "比特币从 2023-09-01 到 2023-11-26 的历史价格数据：\n",
      "                Open      High       Low     Close  Adj Close     Volume\n",
      "Date                                                                    \n",
      "2023-09-01  0.000008  0.000008  0.000008  0.000008   0.000008  103722724\n",
      "2023-09-02  0.000008  0.000008  0.000008  0.000008   0.000008   79253487\n",
      "2023-09-03  0.000008  0.000008  0.000008  0.000008   0.000008   81621974\n",
      "2023-09-04  0.000008  0.000008  0.000007  0.000007   0.000007  100560645\n",
      "2023-09-05  0.000007  0.000008  0.000007  0.000008   0.000008   88484803\n",
      "...              ...       ...       ...       ...        ...        ...\n",
      "2023-11-21  0.000008  0.000009  0.000008  0.000008   0.000008  193901019\n",
      "2023-11-22  0.000008  0.000008  0.000008  0.000008   0.000008  141391880\n",
      "2023-11-23  0.000008  0.000008  0.000008  0.000008   0.000008   92316794\n",
      "2023-11-24  0.000008  0.000008  0.000008  0.000008   0.000008  125322553\n",
      "2023-11-25  0.000008  0.000009  0.000008  0.000009   0.000009  115979344\n",
      "\n",
      "[86 rows x 6 columns]\n"
     ]
    }
   ],
   "source": [
    "import yfinance as yf\n",
    "from datetime import datetime\n",
    "\n",
    "def get_bitcoin_price_data(start_date, end_date):\n",
    "    # 使用yfinance获取比特币价格数据\n",
    "    bitcoin_data = yf.download('SHIB-USD', start=start_date, end=end_date)\n",
    "\n",
    "    return bitcoin_data\n",
    "\n",
    "if __name__ == \"__main__\":\n",
    "    start_date = \"2023-08-19\"\n",
    "    end_date = datetime.now().strftime(\"%Y-%m-%d\")\n",
    "\n",
    "    bitcoin_price_data = get_bitcoin_price_data(start_date, end_date)\n",
    "\n",
    "    if not bitcoin_price_data.empty:\n",
    "        print(f\"比特币从 {start_date} 到 {end_date} 的历史价格数据：\")\n",
    "        print(bitcoin_price_data)\n",
    "    else:\n",
    "        print(\"无法获取比特币价格数据。\")\n"
   ],
   "metadata": {
    "collapsed": false
   }
  },
  {
   "cell_type": "code",
   "execution_count": null,
   "outputs": [],
   "source": [],
   "metadata": {
    "collapsed": false
   }
  }
 ],
 "metadata": {
  "kernelspec": {
   "display_name": "Python 3",
   "language": "python",
   "name": "python3"
  },
  "language_info": {
   "codemirror_mode": {
    "name": "ipython",
    "version": 2
   },
   "file_extension": ".py",
   "mimetype": "text/x-python",
   "name": "python",
   "nbconvert_exporter": "python",
   "pygments_lexer": "ipython2",
   "version": "2.7.6"
  }
 },
 "nbformat": 4,
 "nbformat_minor": 0
}
